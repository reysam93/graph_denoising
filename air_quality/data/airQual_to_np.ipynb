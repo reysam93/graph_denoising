{
 "cells": [
  {
   "cell_type": "code",
   "execution_count": 1,
   "metadata": {},
   "outputs": [],
   "source": [
    "import pandas as pd\n",
    "import numpy as np\n",
    "\n",
    "import time\n",
    "import re"
   ]
  },
  {
   "cell_type": "code",
   "execution_count": 2,
   "metadata": {},
   "outputs": [
    {
     "name": "stdout",
     "output_type": "stream",
     "text": [
      "Ozone 116698 116698\n",
      "PM25 104937 75810\n",
      "PM10 67576 67576\n"
     ]
    }
   ],
   "source": [
    "pollutants = [\"NO2\", \"Ozone\", \"PM10\", \"PM25\"]#, \"SO2\"] # \"Pb\" \"CO\"\n",
    "pollutants = [\"Ozone\", \"PM25\", \"PM10\"]\n",
    "\n",
    "common_cols = [\"Date\", \"Site ID\", \"SITE_LATITUDE\", \"SITE_LONGITUDE\"]\n",
    "df = pd.DataFrame(columns=common_cols)\n",
    "\n",
    "data_cols = {}\n",
    "\n",
    "datafile = 'airQual_CA_{}_{}.csv'\n",
    "data_col_idx = 4\n",
    "\n",
    "for i, p in enumerate(pollutants):\n",
    "    dfs_p = []\n",
    "    for y in [2018, 2019]:\n",
    "        dfs_p.append(pd.read_csv(datafile.format(y, p.lower())))\n",
    "    df_p = pd.concat(dfs_p)\n",
    "    init_len = len(df_p)\n",
    "    parameter = df_p[\"AQS_PARAMETER_DESC\"].mode().item()\n",
    "    df_p = df_p[df_p['AQS_PARAMETER_DESC'] == parameter]\n",
    "    df_p[\"Date\"] = pd.to_datetime(df_p[\"Date\"])\n",
    "\n",
    "    print(p, init_len, len(df_p))\n",
    "\n",
    "    data_col = df_p.columns[data_col_idx]\n",
    "    data_cols[p] = data_col\n",
    "    keep_cols = common_cols + [data_col]\n",
    "\n",
    "    df = df.merge(df_p[keep_cols], on=common_cols, how=\"outer\")"
   ]
  },
  {
   "cell_type": "code",
   "execution_count": 3,
   "metadata": {},
   "outputs": [],
   "source": [
    "df.dropna(inplace=True)"
   ]
  },
  {
   "cell_type": "code",
   "execution_count": 4,
   "metadata": {},
   "outputs": [
    {
     "data": {
      "text/plain": [
       "Date                                    0\n",
       "Site ID                                 0\n",
       "SITE_LATITUDE                           0\n",
       "SITE_LONGITUDE                          0\n",
       "Daily Max 8-hour Ozone Concentration    0\n",
       "Daily Mean PM2.5 Concentration          0\n",
       "Daily Mean PM10 Concentration           0\n",
       "dtype: int64"
      ]
     },
     "execution_count": 4,
     "metadata": {},
     "output_type": "execute_result"
    }
   ],
   "source": [
    "df.isna().sum()"
   ]
  },
  {
   "cell_type": "code",
   "execution_count": 5,
   "metadata": {},
   "outputs": [
    {
     "data": {
      "text/plain": [
       "30806"
      ]
     },
     "execution_count": 5,
     "metadata": {},
     "output_type": "execute_result"
    }
   ],
   "source": [
    "len(df)"
   ]
  },
  {
   "cell_type": "code",
   "execution_count": 6,
   "metadata": {},
   "outputs": [
    {
     "data": {
      "text/html": [
       "<div>\n",
       "<style scoped>\n",
       "    .dataframe tbody tr th:only-of-type {\n",
       "        vertical-align: middle;\n",
       "    }\n",
       "\n",
       "    .dataframe tbody tr th {\n",
       "        vertical-align: top;\n",
       "    }\n",
       "\n",
       "    .dataframe thead th {\n",
       "        text-align: right;\n",
       "    }\n",
       "</style>\n",
       "<table border=\"1\" class=\"dataframe\">\n",
       "  <thead>\n",
       "    <tr style=\"text-align: right;\">\n",
       "      <th></th>\n",
       "      <th>Date</th>\n",
       "      <th>Site ID</th>\n",
       "      <th>SITE_LATITUDE</th>\n",
       "      <th>SITE_LONGITUDE</th>\n",
       "      <th>Daily Max 8-hour Ozone Concentration</th>\n",
       "      <th>Daily Mean PM2.5 Concentration</th>\n",
       "      <th>Daily Mean PM10 Concentration</th>\n",
       "    </tr>\n",
       "  </thead>\n",
       "  <tbody>\n",
       "    <tr>\n",
       "      <th>2414</th>\n",
       "      <td>2018-01-01</td>\n",
       "      <td>60070008</td>\n",
       "      <td>39.76168</td>\n",
       "      <td>-121.84047</td>\n",
       "      <td>0.018</td>\n",
       "      <td>23.2</td>\n",
       "      <td>35.0</td>\n",
       "    </tr>\n",
       "    <tr>\n",
       "      <th>2416</th>\n",
       "      <td>2018-01-03</td>\n",
       "      <td>60070008</td>\n",
       "      <td>39.76168</td>\n",
       "      <td>-121.84047</td>\n",
       "      <td>0.013</td>\n",
       "      <td>24.4</td>\n",
       "      <td>41.0</td>\n",
       "    </tr>\n",
       "    <tr>\n",
       "      <th>2417</th>\n",
       "      <td>2018-01-04</td>\n",
       "      <td>60070008</td>\n",
       "      <td>39.76168</td>\n",
       "      <td>-121.84047</td>\n",
       "      <td>0.023</td>\n",
       "      <td>17.5</td>\n",
       "      <td>26.0</td>\n",
       "    </tr>\n",
       "    <tr>\n",
       "      <th>2418</th>\n",
       "      <td>2018-01-05</td>\n",
       "      <td>60070008</td>\n",
       "      <td>39.76168</td>\n",
       "      <td>-121.84047</td>\n",
       "      <td>0.019</td>\n",
       "      <td>10.8</td>\n",
       "      <td>16.0</td>\n",
       "    </tr>\n",
       "    <tr>\n",
       "      <th>2419</th>\n",
       "      <td>2018-01-06</td>\n",
       "      <td>60070008</td>\n",
       "      <td>39.76168</td>\n",
       "      <td>-121.84047</td>\n",
       "      <td>0.022</td>\n",
       "      <td>9.8</td>\n",
       "      <td>17.0</td>\n",
       "    </tr>\n",
       "  </tbody>\n",
       "</table>\n",
       "</div>"
      ],
      "text/plain": [
       "           Date   Site ID  SITE_LATITUDE  SITE_LONGITUDE  \\\n",
       "2414 2018-01-01  60070008       39.76168      -121.84047   \n",
       "2416 2018-01-03  60070008       39.76168      -121.84047   \n",
       "2417 2018-01-04  60070008       39.76168      -121.84047   \n",
       "2418 2018-01-05  60070008       39.76168      -121.84047   \n",
       "2419 2018-01-06  60070008       39.76168      -121.84047   \n",
       "\n",
       "      Daily Max 8-hour Ozone Concentration  Daily Mean PM2.5 Concentration  \\\n",
       "2414                                 0.018                            23.2   \n",
       "2416                                 0.013                            24.4   \n",
       "2417                                 0.023                            17.5   \n",
       "2418                                 0.019                            10.8   \n",
       "2419                                 0.022                             9.8   \n",
       "\n",
       "      Daily Mean PM10 Concentration  \n",
       "2414                           35.0  \n",
       "2416                           41.0  \n",
       "2417                           26.0  \n",
       "2418                           16.0  \n",
       "2419                           17.0  "
      ]
     },
     "execution_count": 6,
     "metadata": {},
     "output_type": "execute_result"
    }
   ],
   "source": [
    "df.head()"
   ]
  },
  {
   "cell_type": "code",
   "execution_count": 7,
   "metadata": {},
   "outputs": [],
   "source": [
    "df.drop_duplicates([\"Date\", \"Site ID\"], inplace=True)"
   ]
  },
  {
   "cell_type": "code",
   "execution_count": 8,
   "metadata": {},
   "outputs": [],
   "source": [
    "min_temps = 365\n",
    "n_signals = 365\n",
    "knn = 5\n",
    "dir_graph = False\n",
    "file_name = 'data/air_quality2018-19CA'\n",
    "# file_name = '../temperatures2003_3months'\n",
    "file_name += '_knn' + str(knn)\n",
    "if dir_graph:\n",
    "    file_name += '_dir'"
   ]
  },
  {
   "cell_type": "code",
   "execution_count": 9,
   "metadata": {},
   "outputs": [
    {
     "data": {
      "text/plain": [
       "58"
      ]
     },
     "execution_count": 9,
     "metadata": {},
     "output_type": "execute_result"
    }
   ],
   "source": [
    "stations_ids = df[\"Site ID\"].tolist()\n",
    "\n",
    "# Drop duplicates\n",
    "stations_ids = list(set(stations_ids))\n",
    "len(stations_ids)"
   ]
  },
  {
   "cell_type": "code",
   "execution_count": 13,
   "metadata": {},
   "outputs": [],
   "source": [
    "ranges_2021819 = pd.date_range(\"2018-01-01\", \"2019-12-31\")"
   ]
  },
  {
   "cell_type": "code",
   "execution_count": 14,
   "metadata": {},
   "outputs": [
    {
     "name": "stdout",
     "output_type": "stream",
     "text": [
      "Interpolated  60832004\n",
      "Interpolated  60832011\n",
      "Interpolated  60090001\n",
      "Interpolated  60379033\n",
      "Interpolated  60831008\n",
      "Interpolated  60710306\n",
      "Interpolated  60190500\n",
      "Interpolated  61113001\n",
      "Interpolated  60798002\n",
      "Interpolated  60590007\n",
      "Interpolated  60190011\n",
      "Interpolated  60830011\n",
      "Interpolated  61112002\n",
      "Interpolated  60690002\n",
      "Interpolated  60658005\n",
      "Interpolated  60530008\n",
      "Interpolated  60290011\n"
     ]
    }
   ],
   "source": [
    "MIN_VALS = 2*330\n",
    "pm25 = []\n",
    "oz = []\n",
    "pm10 = []\n",
    "stations_l = []\n",
    "data_cols_names = list(data_cols.values())\n",
    "for s in stations_ids:\n",
    "    #\n",
    "    station_vals = df[df['Site ID'] == s].copy()\n",
    "    #station_vals.drop_duplicates('Date', inplace=True)\n",
    "    #print(len(station_vals))\n",
    "    #print(pm25_vals.values.shape)\n",
    "    if len(station_vals) < MIN_VALS:\n",
    "        # Skip station\n",
    "        continue\n",
    "    elif len(station_vals) == 2*365:\n",
    "        # Complete station\n",
    "        print(\"Complete \", s)\n",
    "        stations_l.append(s)\n",
    "        df_s = station_vals[data_cols_names]\n",
    "    elif len(station_vals) > 2*365:\n",
    "        raise RuntimeError(\"Cannot be\")\n",
    "    else:\n",
    "        missing_dates = ranges_2021819.difference(station_vals['Date'])\n",
    "        station_vals.set_index('Date', inplace=True)\n",
    "        df_s = pd.concat([station_vals, pd.DataFrame(index=missing_dates)]).sort_index()[data_cols_names]\n",
    "        df_s = df_s.interpolate(method='linear', axis=0)\n",
    "        print(\"Interpolated \", s)\n",
    "        stations_l.append(s)\n",
    "    pm25.append(df_s[data_cols[\"PM25\"]].values)\n",
    "    oz.append(df_s[data_cols[\"Ozone\"]].values)\n",
    "    pm10.append(df_s[data_cols[\"PM10\"]].values)"
   ]
  },
  {
   "cell_type": "code",
   "execution_count": 15,
   "metadata": {},
   "outputs": [
    {
     "data": {
      "text/plain": [
       "17"
      ]
     },
     "execution_count": 15,
     "metadata": {},
     "output_type": "execute_result"
    }
   ],
   "source": [
    "N = len(stations_l)\n",
    "stations = df.copy().loc[df['Site ID'].isin(stations_l)].drop_duplicates('Site ID')\n",
    "assert N == len(stations)\n",
    "N"
   ]
  },
  {
   "cell_type": "code",
   "execution_count": 16,
   "metadata": {},
   "outputs": [],
   "source": [
    "# Read stations coordinates and convert to radians\n",
    "Coords = np.zeros((N, 2))\n",
    "Coords[:, 0] = stations.SITE_LONGITUDE.to_numpy()*np.pi/180\n",
    "Coords[:, 1] = stations.SITE_LATITUDE.to_numpy()*np.pi/180\n",
    "\n",
    "# Earth radius in km\n",
    "R_EARTH = 6371\n",
    "# Coordinates in km\n",
    "Coords_km = np.zeros((N, 2))\n",
    "Coords_km[:, 0] = R_EARTH*Coords[:, 0]*np.cos(Coords[:, 1])\n",
    "Coords_km[:, 1] = R_EARTH*Coords[:, 1]"
   ]
  },
  {
   "cell_type": "code",
   "execution_count": 17,
   "metadata": {},
   "outputs": [],
   "source": [
    "# For geodesic distance in km\n",
    "D = np.zeros((N, N))\n",
    "for i in range(N):\n",
    "    for j in range(i+1, N):\n",
    "        D[i, j] = np.linalg.norm(Coords_km[i, :] - Coords_km[j, :])\n",
    "D = D + D.T"
   ]
  },
  {
   "cell_type": "code",
   "execution_count": 18,
   "metadata": {},
   "outputs": [],
   "source": [
    "P = np.exp(-D/np.sum(D)*N**2)\n",
    "P_n = np.sum(P, axis=0)\n",
    "np.fill_diagonal(D, np.inf)\n",
    "\n",
    "idx = D.argsort()[:, :knn]\n",
    "A = np.zeros(D.shape)\n",
    "for i in range(N):\n",
    "    A[i, idx[i, :]] = P[i, idx[i, :]]/P_n[idx[i, :]]\n",
    "    if not dir_graph:\n",
    "        A[idx[i, :], i] = A[i, idx[i, :]]"
   ]
  },
  {
   "cell_type": "code",
   "execution_count": 19,
   "metadata": {},
   "outputs": [
    {
     "name": "stdout",
     "output_type": "stream",
     "text": [
      "Zeros: 179\n",
      "Non Zeros: 110\n",
      "Mean degree of A: 6.470588235294118\n"
     ]
    }
   ],
   "source": [
    "A_bin = np.zeros(A.shape)\n",
    "A_bin[A != 0] = 1\n",
    "print('Zeros:', np.sum(A == 0))\n",
    "print('Non Zeros:', np.sum(A != 0))\n",
    "print('Mean degree of A:', np.mean(np.sum(A_bin, axis=0)))"
   ]
  },
  {
   "cell_type": "code",
   "execution_count": 20,
   "metadata": {},
   "outputs": [
    {
     "name": "stdout",
     "output_type": "stream",
     "text": [
      "File saved as  data/air_quality2021CA_knn5_N17\n"
     ]
    }
   ],
   "source": [
    "file_name += '_N' + str(N)\n",
    "np.savez(file_name, A=A, pm25=np.array(pm25), oz=np.array(oz), pm10=np.array(pm10), Coords=Coords,\n",
    "         Coords_km=Coords_km, A_bin=A_bin, D=D)\n",
    "print('File saved as ', file_name)"
   ]
  },
  {
   "cell_type": "code",
   "execution_count": null,
   "metadata": {},
   "outputs": [],
   "source": []
  }
 ],
 "metadata": {
  "kernelspec": {
   "display_name": "Python 3.8.10 64-bit",
   "language": "python",
   "name": "python3"
  },
  "language_info": {
   "codemirror_mode": {
    "name": "ipython",
    "version": 3
   },
   "file_extension": ".py",
   "mimetype": "text/x-python",
   "name": "python",
   "nbconvert_exporter": "python",
   "pygments_lexer": "ipython3",
   "version": "3.8.10"
  },
  "orig_nbformat": 4,
  "vscode": {
   "interpreter": {
    "hash": "916dbcbb3f70747c44a77c7bcd40155683ae19c65e1c03b4aa3499c5328201f1"
   }
  }
 },
 "nbformat": 4,
 "nbformat_minor": 2
}
