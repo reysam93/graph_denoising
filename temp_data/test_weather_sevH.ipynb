{
 "cells": [
  {
   "cell_type": "code",
   "execution_count": 488,
   "metadata": {},
   "outputs": [],
   "source": [
    "import numpy as np\n",
    "\n",
    "import cvxpy as cp\n",
    "import matplotlib.pyplot as plt\n",
    "import sys\n",
    "sys.path.append('..')\n",
    "import opt\n",
    "import sev_filters_opt\n",
    "from data import pert_S"
   ]
  },
  {
   "cell_type": "code",
   "execution_count": 489,
   "metadata": {},
   "outputs": [],
   "source": [
    "def error_metrics(Y_hat, Y_test, H=None, H_gt=None, print_results=True, attrs=None):\n",
    "    # Normalized error\n",
    "    if Y_test.ndim == 2:\n",
    "        norm_sq_y = (Y_test**2).sum(1)#np.sqrt((Y_test**2).sum(1))\n",
    "        err_y = np.mean(((Y_test - Y_hat)**2).sum(1) / norm_sq_y)\n",
    "    else:\n",
    "        norm_y = (Y_test**2).sum((1,2))#np.sqrt((Y_test**2).sum(1))\n",
    "        err_ys = ((Y_test - Y_hat)**2).sum((1,2)) / norm_y\n",
    "        err_y = np.mean(err_ys)\n",
    "    \n",
    "    if print_results:\n",
    "        print(f\"Error in signal y: {err_y}\")\n",
    "        if Y_test.ndim == 3 and attrs is not None:\n",
    "            print(\"Error in each attribute\")\n",
    "            for i in range(Y_test.shape[0]):\n",
    "                print(f\"{attrs[i]} - {err_ys[i]}\")\n",
    "\n",
    "    if H is not None and H_gt is not None:\n",
    "        # Error wrt ground truth filter\n",
    "        if H.ndim == 3: # Several filters\n",
    "            norm_H = (H_gt**2).sum((1,2))\n",
    "            err_H = np.mean(((H - H_gt)**2).sum((1,2)) / norm_H)\n",
    "        else:\n",
    "            norm_sq_H = (H_gt**2).sum()\n",
    "            err_H = ((H - H_gt)**2).sum() / norm_sq_H\n",
    "\n",
    "        if print_results:\n",
    "            print(f\"Error in filter: {err_H}\")\n",
    "        return err_y, err_H\n",
    "\n",
    "    return err_y"
   ]
  },
  {
   "cell_type": "code",
   "execution_count": 490,
   "metadata": {},
   "outputs": [],
   "source": [
    "def plot_filters(Hs):\n",
    "    n_filt = Hs.shape[0]\n",
    "    f, ax = plt.subplots(1, n_filt, figsize=(12,8))\n",
    "\n",
    "    for i in range(n_filt):    \n",
    "        ax[i].imshow(Hs[i,:,:])"
   ]
  },
  {
   "cell_type": "markdown",
   "metadata": {},
   "source": [
    "# Reading the data"
   ]
  },
  {
   "cell_type": "code",
   "execution_count": 491,
   "metadata": {},
   "outputs": [],
   "source": [
    "#data = np.load('data_temp/temperatures2003_mod_knn8_N40.npz')\n",
    "data = np.load('data_temp/temperatures2018_knn8_N28.npz') # 54 for only valid values, 36 for invalid values as well\n",
    "data = np.load('data_temp/temperatures2018_knn5_N31.npz')"
   ]
  },
  {
   "cell_type": "markdown",
   "metadata": {},
   "source": [
    "# Multiple filters for multiple data"
   ]
  },
  {
   "cell_type": "code",
   "execution_count": 492,
   "metadata": {},
   "outputs": [
    {
     "data": {
      "text/plain": [
       "((2, 31, 364), (2, 31, 364))"
      ]
     },
     "execution_count": 492,
     "metadata": {},
     "output_type": "execute_result"
    }
   ],
   "source": [
    "A = data['A_bin']\n",
    "N = A.shape[0]\n",
    "\n",
    "pert_graph = False\n",
    "if pert_graph:\n",
    "    A = pert_S(A, eps=0.1) # Using default parameters rewire 10% of total links\n",
    "\n",
    "random_A = False\n",
    "if random_A:\n",
    "    A = (np.random.rand(N, N) > 0.8).astype(int)\n",
    "    A_triu = np.triu(A, 1)\n",
    "    A = A_triu + A_triu.T\n",
    "\n",
    "norm_A = np.sqrt((A**2).sum())\n",
    "\n",
    "attrs = [\n",
    "\"Temperatures\",\n",
    "#\"Precipitation\",\n",
    "\"Wind Speed\",\n",
    "\"Station Pressure\"\n",
    "]\n",
    "X1 = data['temps'].copy()\n",
    "X2 = data['precs'].copy()\n",
    "X3 = data['windsps'].copy()\n",
    "X4 = data['press'].copy()\n",
    "comp_data = np.array([\n",
    "    X1,\n",
    "#    X2,\n",
    "    X3,\n",
    "    X4\n",
    "])\n",
    "n_feat, N, N_dates = comp_data.shape\n",
    "N_dates -= 1\n",
    "\n",
    "norm_data = True\n",
    "if norm_data:\n",
    "    comp_data = comp_data / np.sqrt((comp_data**2).sum(2))[:,:,None]\n",
    "\n",
    "Ys = comp_data[:,:,1:].copy()\n",
    "Xs = comp_data[:,:,:-1].copy()\n",
    "Xs.shape, Ys.shape"
   ]
  },
  {
   "cell_type": "code",
   "execution_count": 493,
   "metadata": {},
   "outputs": [
    {
     "data": {
      "text/plain": [
       "array([[1., 1., 1., 1., 1., 1., 1., 1., 1., 1., 1., 1., 1., 1., 1., 1.,\n",
       "        1., 1., 1., 1., 1., 1., 1., 1., 1., 1., 1., 1., 1., 1., 1.],\n",
       "       [1., 1., 1., 1., 1., 1., 1., 1., 1., 1., 1., 1., 1., 1., 1., 1.,\n",
       "        1., 1., 1., 1., 1., 1., 1., 1., 1., 1., 1., 1., 1., 1., 1.]])"
      ]
     },
     "execution_count": 493,
     "metadata": {},
     "output_type": "execute_result"
    }
   ],
   "source": [
    "(comp_data**2).sum(2)"
   ]
  },
  {
   "cell_type": "code",
   "execution_count": 494,
   "metadata": {},
   "outputs": [
    {
     "data": {
      "image/png": "[encoded data removed]",
      "text/plain": [
       "<Figure size 864x576 with 2 Axes>"
      ]
     },
     "metadata": {
      "needs_background": "light"
     },
     "output_type": "display_data"
    }
   ],
   "source": [
    "plot_filters(np.array([data['A_bin'], A]))"
   ]
  },
  {
   "cell_type": "code",
   "execution_count": 495,
   "metadata": {},
   "outputs": [
    {
     "data": {
      "text/plain": [
       "((2, 31, 182), (2, 31, 182), (2, 31, 182), 364)"
      ]
     },
     "execution_count": 495,
     "metadata": {},
     "output_type": "execute_result"
    }
   ],
   "source": [
    "train_test_split = 0.5\n",
    "\n",
    "random_train_test = False\n",
    "if random_train_test:\n",
    "    idxs = np.random.permutation(N_dates)\n",
    "else:\n",
    "    idxs = np.arange(N_dates)\n",
    "\n",
    "idxs_train = idxs[:int(train_test_split*N_dates)]\n",
    "idxs_test = idxs[int(train_test_split*N_dates):]\n",
    "\n",
    "Xs_train = Xs[:,:,idxs_train]\n",
    "Ys_train = Ys[:,:,idxs_train]\n",
    "Xs_test = Xs[:,:,idxs_test]\n",
    "Ys_test = Ys[:,:,idxs_test]\n",
    "Xs_train.shape, Ys_train.shape, Xs_test.shape, N_dates"
   ]
  },
  {
   "cell_type": "code",
   "execution_count": 496,
   "metadata": {},
   "outputs": [],
   "source": [
    "models = []\n",
    "errs_y = []\n",
    "errs_H = []"
   ]
  },
  {
   "cell_type": "code",
   "execution_count": 497,
   "metadata": {},
   "outputs": [],
   "source": [
    "Hs_gt = []\n",
    "for i in range(n_feat):\n",
    "    H = cp.Variable((N,N))\n",
    "    obj = cp.sum_squares(Ys_test[i,:,:] - H @ Xs_test[i,:,:])\n",
    "    prob = cp.Problem(cp.Minimize(obj))\n",
    "    prob.solve()\n",
    "    Hs_gt.append(H.value)\n",
    "Hs_gt = np.array(Hs_gt)"
   ]
  },
  {
   "cell_type": "code",
   "execution_count": 498,
   "metadata": {},
   "outputs": [
    {
     "name": "stdout",
     "output_type": "stream",
     "text": [
      "Error in signal y: 0.04177788806224478\n",
      "Error in each attribute\n",
      "Temperatures - 0.0012448741637118951\n",
      "Wind Speed - 0.08231090196077766\n",
      "Error in filter: 0.0\n"
     ]
    },
    {
     "data": {
      "text/plain": [
       "(0.04177788806224478, 0.0)"
      ]
     },
     "execution_count": 498,
     "metadata": {},
     "output_type": "execute_result"
    }
   ],
   "source": [
    "Ys_hat_gt = Hs_gt @ Xs_test\n",
    "err_y_gt, err_H_gt = error_metrics(Ys_hat_gt, Ys_test, Hs_gt, Hs_gt, attrs=attrs)\n",
    "models.append(\"Least Squares (LB)\"); errs_y.append(err_y_gt); errs_H.append(err_H_gt)\n",
    "err_y_gt, err_H_gt"
   ]
  },
  {
   "cell_type": "code",
   "execution_count": 499,
   "metadata": {},
   "outputs": [
    {
     "data": {
      "image/png": "[encoded data removed]",
      "text/plain": [
       "<Figure size 864x576 with 2 Axes>"
      ]
     },
     "metadata": {
      "needs_background": "light"
     },
     "output_type": "display_data"
    }
   ],
   "source": [
    "plot_filters(Hs_gt)"
   ]
  },
  {
   "cell_type": "markdown",
   "metadata": {},
   "source": [
    "# Eye model"
   ]
  },
  {
   "cell_type": "code",
   "execution_count": 500,
   "metadata": {},
   "outputs": [
    {
     "name": "stdout",
     "output_type": "stream",
     "text": [
      "Error in signal y: 0.07806811835349217\n",
      "Error in each attribute\n",
      "Temperatures - 0.00199917503969317\n",
      "Wind Speed - 0.1541370616672912\n",
      "Error in filter: 1.2483556797037039\n"
     ]
    }
   ],
   "source": [
    "# Identity - copying the temperature from the previous day\n",
    "Hs_eye = np.array([np.eye(N) for _ in range(n_feat)])\n",
    "Ys_eye = Hs_eye @ Xs_test\n",
    "err_y_eye, err_H_eye = error_metrics(Ys_eye, Ys_test, Hs_eye, Hs_gt, attrs=attrs)\n",
    "models.append(\"Copy Prev Day\"); errs_y.append(err_y_eye); errs_H.append(err_H_eye)"
   ]
  },
  {
   "cell_type": "markdown",
   "metadata": {},
   "source": [
    "## Least squares"
   ]
  },
  {
   "cell_type": "code",
   "execution_count": 501,
   "metadata": {},
   "outputs": [],
   "source": [
    "Hs_ls = []\n",
    "for i in range(n_feat):\n",
    "    H = cp.Variable((N,N))\n",
    "    obj = cp.sum_squares(Ys_train[i,:,:] - H @ Xs_train[i,:,:])\n",
    "    prob = cp.Problem(cp.Minimize(obj))\n",
    "    prob.solve()\n",
    "    Hs_ls.append(H.value)\n",
    "Hs_ls = np.array(Hs_ls)"
   ]
  },
  {
   "cell_type": "code",
   "execution_count": 502,
   "metadata": {},
   "outputs": [
    {
     "data": {
      "image/png": "[encoded data removed]",
      "text/plain": [
       "<Figure size 864x576 with 2 Axes>"
      ]
     },
     "metadata": {
      "needs_background": "light"
     },
     "output_type": "display_data"
    }
   ],
   "source": [
    "plot_filters(Hs_ls)"
   ]
  },
  {
   "cell_type": "code",
   "execution_count": 503,
   "metadata": {},
   "outputs": [
    {
     "name": "stdout",
     "output_type": "stream",
     "text": [
      "Error in signal y: 0.06756999663113068\n",
      "Error in each attribute\n",
      "Temperatures - 0.0034983594725779684\n",
      "Wind Speed - 0.1316416337896834\n",
      "Error in filter: 1.728817799591475\n"
     ]
    },
    {
     "data": {
      "text/plain": [
       "(0.06756999663113068, 1.728817799591475)"
      ]
     },
     "execution_count": 503,
     "metadata": {},
     "output_type": "execute_result"
    }
   ],
   "source": [
    "Ys_hat_ls = Hs_ls @ Xs_test\n",
    "err_y_ls, err_H_ls = error_metrics(Ys_hat_ls, Ys_test, Hs_ls, Hs_gt, attrs=attrs)\n",
    "models.append(\"Least Squares\"); errs_y.append(err_y_ls); errs_H.append(err_H_ls)\n",
    "err_y_ls, err_H_ls"
   ]
  },
  {
   "cell_type": "code",
   "execution_count": 504,
   "metadata": {},
   "outputs": [],
   "source": [
    "# Least squares postulating it is a graph filter\n",
    "K = 5\n",
    "Spow = np.array([np.linalg.matrix_power(A, k) for k in range(K)])\n",
    "Hs_ls_gf = []\n",
    "for i in range(n_feat):\n",
    "    h = cp.Variable(K)\n",
    "    obj = cp.sum_squares(Ys_train[i,:,:] - cp.sum([h[k] * Spow[k,:,:] for k in range(K)]) @ Xs_train[i,:,:])\n",
    "    prob = cp.Problem(cp.Minimize(obj))\n",
    "    prob.solve()\n",
    "    h = h.value\n",
    "    Hs_ls_gf.append(np.sum([h[k] * Spow[k,:,:] for k in range(K)], 0))\n",
    "Hs_ls_gf = np.array(Hs_ls_gf)"
   ]
  },
  {
   "cell_type": "code",
   "execution_count": 505,
   "metadata": {},
   "outputs": [
    {
     "data": {
      "image/png": "[encoded data removed]",
      "text/plain": [
       "<Figure size 864x576 with 2 Axes>"
      ]
     },
     "metadata": {
      "needs_background": "light"
     },
     "output_type": "display_data"
    }
   ],
   "source": [
    "plot_filters(Hs_ls_gf)"
   ]
  },
  {
   "cell_type": "code",
   "execution_count": 506,
   "metadata": {},
   "outputs": [
    {
     "name": "stdout",
     "output_type": "stream",
     "text": [
      "Error in signal y: 0.07010003777473309\n",
      "Error in each attribute\n",
      "Temperatures - 0.001992691141039738\n",
      "Wind Speed - 0.13820738440842645\n",
      "Error in filter: 1.728817799591475\n"
     ]
    },
    {
     "data": {
      "text/plain": [
       "(0.07010003777473309, 1.728817799591475)"
      ]
     },
     "execution_count": 506,
     "metadata": {},
     "output_type": "execute_result"
    }
   ],
   "source": [
    "Ys_hat_ls_gf = Hs_ls_gf @ Xs_test\n",
    "err_y_ls_gf, err_H_ls_gf = error_metrics(Ys_hat_ls_gf, Ys_test, Hs_ls, Hs_gt, attrs=attrs)\n",
    "models.append(\"LS-GF\"); errs_y.append(err_y_ls_gf); errs_H.append(err_H_ls_gf)\n",
    "err_y_ls_gf, err_H_ls_gf"
   ]
  },
  {
   "cell_type": "markdown",
   "metadata": {},
   "source": [
    "## Iterative (robust) algorithms"
   ]
  },
  {
   "cell_type": "code",
   "execution_count": 507,
   "metadata": {},
   "outputs": [],
   "source": [
    "args = [0.4, 0.008, 0.0005, 3.]\n",
    "args_no_st = [0.03, 0.005, 0., 3.5]\n",
    "args_rew = [0.2, 0.1, 0.001, 0.0001, 1.1]\n",
    "args_rew_no_st = [0.1, 0.08, 0., 5e-4, 1.]"
   ]
  },
  {
   "cell_type": "code",
   "execution_count": 508,
   "metadata": {},
   "outputs": [],
   "source": [
    "meanX = comp_data.mean(2)\n",
    "stdX = comp_data.std(2)\n",
    "Cs = np.zeros((n_feat, N, N))\n",
    "for i in range(n_feat):\n",
    "    X_norm = (comp_data[i,:,:].T - meanX[i,:]) / stdX[i,:]\n",
    "\n",
    "    X_norm = np.where(np.isnan(X_norm), comp_data[i,:,:].T, X_norm)\n",
    "    \n",
    "    Cs[i,:,:] = np.cov(X_norm.T)"
   ]
  },
  {
   "cell_type": "code",
   "execution_count": 509,
   "metadata": {},
   "outputs": [],
   "source": [
    "Hs_iter = []\n",
    "Ss_iter = []\n",
    "for i in range(n_feat):\n",
    "    _, H, S_iter = opt.estH_iter(Xs[i,:,:], Ys[i,:,:], A, Cs[i,:,:], args)\n",
    "    Hs_iter.append(H)\n",
    "    Ss_iter.append(S_iter)\n",
    "Hs_iter = np.array(Hs_iter)\n",
    "S_iter = np.mean(np.array(Ss_iter), 0)"
   ]
  },
  {
   "cell_type": "code",
   "execution_count": 510,
   "metadata": {},
   "outputs": [
    {
     "data": {
      "text/plain": [
       "4.7692186260221446e-12"
      ]
     },
     "execution_count": 510,
     "metadata": {},
     "output_type": "execute_result"
    }
   ],
   "source": [
    "((S_iter - A)**2).sum() / norm_A"
   ]
  },
  {
   "cell_type": "code",
   "execution_count": 511,
   "metadata": {},
   "outputs": [
    {
     "data": {
      "text/plain": [
       "4.7692186260221446e-12"
      ]
     },
     "execution_count": 511,
     "metadata": {},
     "output_type": "execute_result"
    }
   ],
   "source": [
    "((S_iter - data['A_bin'])**2).sum() / norm_A"
   ]
  },
  {
   "cell_type": "code",
   "execution_count": 512,
   "metadata": {},
   "outputs": [
    {
     "data": {
      "image/png": "[encoded data removed]",
      "text/plain": [
       "<Figure size 864x576 with 2 Axes>"
      ]
     },
     "metadata": {
      "needs_background": "light"
     },
     "output_type": "display_data"
    }
   ],
   "source": [
    "plot_filters(Hs_iter)"
   ]
  },
  {
   "cell_type": "code",
   "execution_count": 513,
   "metadata": {},
   "outputs": [
    {
     "name": "stdout",
     "output_type": "stream",
     "text": [
      "Error in signal y: 0.058517762795809336\n",
      "Error in each attribute\n",
      "Temperatures - 0.0018997597995315469\n",
      "Wind Speed - 0.11513576579208712\n",
      "Error in filter: 0.9451480333050649\n"
     ]
    },
    {
     "data": {
      "text/plain": [
       "(0.058517762795809336, 0.9451480333050649)"
      ]
     },
     "execution_count": 513,
     "metadata": {},
     "output_type": "execute_result"
    }
   ],
   "source": [
    "Ys_hat_iter = Hs_iter @ Xs_test\n",
    "err_ys_iter, err_Hs_iter = error_metrics(Ys_hat_iter, Ys_test, Hs_iter, Hs_gt, attrs=attrs)\n",
    "models.append(\"RGFI\"); errs_y.append(err_ys_iter); errs_H.append(err_Hs_iter)\n",
    "err_ys_iter, err_Hs_iter"
   ]
  },
  {
   "cell_type": "markdown",
   "metadata": {},
   "source": [
    "## Iterative joint algs"
   ]
  },
  {
   "cell_type": "code",
   "execution_count": 514,
   "metadata": {},
   "outputs": [],
   "source": [
    "import sev_filters_opt"
   ]
  },
  {
   "cell_type": "code",
   "execution_count": 515,
   "metadata": {},
   "outputs": [],
   "source": [
    "args = [0.2, 1e-3, 0.02, 1.6]\n",
    "args = [18, 0.02, 0.03, 5]\n",
    "args_no_st = [0.4, 1e-3, 0., 1.5]\n",
    "args_rew = [0.07, 1e-3, 0.1, 5e-4, 3.]\n",
    "args_rew_no_st = [0.02, 1e-4, 0., 5e-4, 2.]"
   ]
  },
  {
   "cell_type": "code",
   "execution_count": 516,
   "metadata": {},
   "outputs": [],
   "source": [
    "iter, Hs_iter_j, S_iter_j = sev_filters_opt.estHs_iter(Xs_train, Ys_train, A, Cs, args)"
   ]
  },
  {
   "cell_type": "code",
   "execution_count": 517,
   "metadata": {},
   "outputs": [
    {
     "data": {
      "text/plain": [
       "3.4616890840042735e-11"
      ]
     },
     "execution_count": 517,
     "metadata": {},
     "output_type": "execute_result"
    }
   ],
   "source": [
    "((S_iter_j - A)**2).sum() / norm_A"
   ]
  },
  {
   "cell_type": "code",
   "execution_count": 518,
   "metadata": {},
   "outputs": [
    {
     "data": {
      "text/plain": [
       "3.4616890840042735e-11"
      ]
     },
     "execution_count": 518,
     "metadata": {},
     "output_type": "execute_result"
    }
   ],
   "source": [
    "((S_iter_j - data['A_bin'])**2).sum() / norm_A"
   ]
  },
  {
   "cell_type": "code",
   "execution_count": 519,
   "metadata": {},
   "outputs": [
    {
     "data": {
      "image/png": "[encoded data removed]",
      "text/plain": [
       "<Figure size 864x576 with 2 Axes>"
      ]
     },
     "metadata": {
      "needs_background": "light"
     },
     "output_type": "display_data"
    }
   ],
   "source": [
    "plot_filters(Hs_iter_j)"
   ]
  },
  {
   "cell_type": "code",
   "execution_count": 520,
   "metadata": {},
   "outputs": [
    {
     "name": "stdout",
     "output_type": "stream",
     "text": [
      "Error in signal y: 0.0610820273421354\n",
      "Error in each attribute\n",
      "Temperatures - 0.0018754725840913118\n",
      "Wind Speed - 0.1202885821001795\n",
      "Error in filter: 0.9746266433792664\n"
     ]
    },
    {
     "data": {
      "text/plain": [
       "(0.0610820273421354, 0.9746266433792664)"
      ]
     },
     "execution_count": 520,
     "metadata": {},
     "output_type": "execute_result"
    }
   ],
   "source": [
    "Ys_hat_iter_j = Hs_iter_j @ Xs_test\n",
    "err_ys_iter_j, err_Hs_iter_j = error_metrics(Ys_hat_iter_j, Ys_test, Hs_iter_j, Hs_gt, attrs=attrs)\n",
    "models.append(\"RGFI-J\"); errs_y.append(err_ys_iter_j); errs_H.append(err_Hs_iter_j)\n",
    "err_ys_iter_j, err_Hs_iter_j"
   ]
  },
  {
   "cell_type": "markdown",
   "metadata": {},
   "source": [
    "# Representation"
   ]
  },
  {
   "cell_type": "code",
   "execution_count": 521,
   "metadata": {},
   "outputs": [
    {
     "data": {
      "image/png": "[encoded data removed]",
      "text/plain": [
       "<Figure size 576x432 with 1 Axes>"
      ]
     },
     "metadata": {
      "needs_background": "light"
     },
     "output_type": "display_data"
    }
   ],
   "source": [
    "x_ax = np.arange(len(models))\n",
    "plt.figure(figsize=(8,6))\n",
    "plt.bar(x_ax, errs_y, log=True)\n",
    "plt.xticks(x_ax, models, rotation=45)\n",
    "plt.title(\"Prediction error\", fontsize=24)\n",
    "plt.xlabel(\"Models\", fontsize=14)\n",
    "plt.ylabel(\"Error\", fontsize=14)\n",
    "plt.grid()"
   ]
  },
  {
   "cell_type": "code",
   "execution_count": null,
   "metadata": {},
   "outputs": [],
   "source": []
  }
 ],
 "metadata": {
  "kernelspec": {
   "display_name": "Python 3.8.10 64-bit",
   "language": "python",
   "name": "python3"
  },
  "language_info": {
   "codemirror_mode": {
    "name": "ipython",
    "version": 3
   },
   "file_extension": ".py",
   "mimetype": "text/x-python",
   "name": "python",
   "nbconvert_exporter": "python",
   "pygments_lexer": "ipython3",
   "version": "3.8.10"
  },
  "orig_nbformat": 4,
  "vscode": {
   "interpreter": {
    "hash": "916dbcbb3f70747c44a77c7bcd40155683ae19c65e1c03b4aa3499c5328201f1"
   }
  }
 },
 "nbformat": 4,
 "nbformat_minor": 2
}
