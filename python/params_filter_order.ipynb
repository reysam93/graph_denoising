{
 "cells": [
  {
   "cell_type": "code",
   "execution_count": 1,
   "metadata": {},
   "outputs": [
    {
     "name": "stderr",
     "output_type": "stream",
     "text": [
      "<frozen importlib._bootstrap>:219: RuntimeWarning: numpy.ufunc size changed, may indicate binary incompatibility. Expected 192 from C header, got 216 from PyObject\n",
      "<frozen importlib._bootstrap>:219: RuntimeWarning: numpy.ufunc size changed, may indicate binary incompatibility. Expected 192 from C header, got 216 from PyObject\n",
      "<frozen importlib._bootstrap>:219: RuntimeWarning: numpy.ufunc size changed, may indicate binary incompatibility. Expected 192 from C header, got 216 from PyObject\n"
     ]
    }
   ],
   "source": [
    "import cvxpy as cp\n",
    "import networkx as nx\n",
    "from numpy import linalg as la\n",
    "import numpy as np\n",
    "import matplotlib.pyplot as plt\n",
    "\n",
    "from joblib import Parallel, delayed\n",
    "import time\n",
    "import sys\n",
    "from os import cpu_count\n",
    "from copy import copy\n",
    "\n",
    "import data\n",
    "import opt\n",
    "\n",
    "# CONSTANTS\n",
    "N_CPUS = cpu_count()\n",
    "SEED = 28\n",
    "\n",
    "MODELS = [\n",
    "    {\n",
    "        \"func\": \"estH_unpertS\",\n",
    "        \"cy\": \"non-st\", # not used, so not important\n",
    "        \"legend\": \"FI\",\n",
    "        \"fmt\": \"o-\"\n",
    "    },\n",
    "    {\n",
    "        \"func\": \"estH_iter\",\n",
    "        \"cy\": \"non-st\",\n",
    "        \"legend\": \"ITER-NONST\",\n",
    "        \"fmt\": \"P-\"\n",
    "    },\n",
    "    {\n",
    "        \"func\": \"estH_iter_rew\",\n",
    "        \"cy\": \"non-st\",\n",
    "        \"legend\": \"ITER-REW-NONST\",\n",
    "        \"fmt\": \"p-\"\n",
    "    },\n",
    "    # ORIGINAL\n",
    "    # {\n",
    "    #     \"func\": \"estH_iter_rew\",\n",
    "    #     \"cy\": \"samp\",\n",
    "    #     \"legend\": \"ITER-REW-ST-SAMP\",\n",
    "    #     \"fmt\": \"v-\"\n",
    "    # }\n",
    "    {\n",
    "        \"func\": \"estH_iter_rew\",\n",
    "        \"cy\": \"real\",\n",
    "        \"legend\": \"ITER-REW-ST-REAL\",\n",
    "        \"fmt\": \"v-\"\n",
    "    }]"
   ]
  },
  {
   "cell_type": "code",
   "execution_count": 2,
   "metadata": {},
   "outputs": [],
   "source": [
    "def est_params(id, model, X, Y, Cy_exp, h, H, S, Sn, LAMBDS, GAMMAS, DELTAS, BETAS, INC_GAMMAS):\n",
    "    K = h.size\n",
    "    err_h = np.zeros((len(LAMBDS), len(GAMMAS), len(DELTAS), len(BETAS), len(INC_GAMMAS)))\n",
    "    err_H = np.zeros((len(LAMBDS), len(GAMMAS), len(DELTAS), len(BETAS), len(INC_GAMMAS)))\n",
    "    err_S = np.zeros((len(LAMBDS), len(GAMMAS), len(DELTAS), len(BETAS), len(INC_GAMMAS)))\n",
    "\n",
    "    norm_h = la.norm(h)\n",
    "    norm_H = la.norm(H, 'fro')\n",
    "    S_normalized = S/la.norm(S, 'fro')\n",
    "    for i, lambd in enumerate(LAMBDS):\n",
    "        for j, gamma in enumerate(GAMMAS):\n",
    "            for k, delta in enumerate(DELTAS):\n",
    "                for l, beta in enumerate(BETAS):\n",
    "                    for m, inc_gamma in enumerate(INC_GAMMAS):\n",
    "                        if model['func'] == 'estH_iter_rew':\n",
    "                            params = [lambd, gamma, delta, beta, inc_gamma]\n",
    "                        else:\n",
    "                            params = [lambd, gamma, delta, inc_gamma]\n",
    "\n",
    "                        _, H_est, S_est = getattr(opt, model[\"func\"])(X, Y, Sn, Cy_exp, params)\n",
    "                        h_est = data.obtain_filter_coefs(S_est, H_est, K)\n",
    "\n",
    "                        err_h[i,j,k,l,m] = la.norm(h - h_est)**2/norm_h**2\n",
    "                        err_H[i,j,k,l,m] = la.norm(H - H_est)**2/norm_H**2\n",
    "                        err_S[i,j,k,l,m] = la.norm(S_normalized - la.norm(S_est, 'fro'))**2\n",
    "                        \n",
    "                        if id % N_CPUS:\n",
    "                            print(f'{id} - lambd: {lambd}, gamma: {gamma}, delta: {delta}, beta: {beta},', end=' ')\n",
    "                            print(f'inc_gamma: {inc_gamma}, err_H: {err_H[i,j,k,l,m]:.3f}, err_S: {err_S[i,j,k,l,m]:.3f}') \n",
    "    return err_h, err_H, err_S"
   ]
  },
  {
   "cell_type": "code",
   "execution_count": 3,
   "metadata": {},
   "outputs": [
    {
     "name": "stdout",
     "output_type": "stream",
     "text": [
      "CPUs used: 12\n",
      "Model selected: {'func': 'estH_iter_rew', 'cy': 'non-st', 'legend': 'ITER-REW-NONST', 'fmt': 'p-'} graph: 4\n"
     ]
    }
   ],
   "source": [
    "# Main\n",
    "np.random.seed(SEED)\n",
    "model_idx = 2\n",
    "\n",
    "# Weights to swape\n",
    "LAMBDS = [.01, .05, .1, .5, 1]\n",
    "GAMMAS = [.01, .05, .1, .5, 1]\n",
    "DELTAS = [0]\n",
    "BETAS = [0, 1e-4, 1e-2]\n",
    "INC_GAMMAS = [1, 1.1, 1.25, 1.15]\n",
    "\n",
    "# Other params\n",
    "N = 20\n",
    "M = 50\n",
    "p_n = .05\n",
    "K = 5\n",
    "n_graphs = 20\n",
    "p_er = .2\n",
    "# g_params = {'type': data.ER, 'p': p_er}\n",
    "g_params = {'type': data.SW, 'k': 4, 'p': 0.1}\n",
    "eps = .1\n",
    "exp_coefs = True\n",
    "decay = 1\n",
    "neg_coefs = True\n",
    "\n",
    "t = time.time()\n",
    "print(\"CPUs used:\", N_CPUS)\n",
    "print(\"Model selected:\", MODELS[model_idx], 'graph:', g_params['type'])\n",
    "err_h = np.zeros((n_graphs, len(LAMBDS), len(GAMMAS), len(DELTAS), len(BETAS), len(INC_GAMMAS)))\n",
    "err_H = np.zeros((n_graphs, len(LAMBDS), len(GAMMAS), len(DELTAS), len(BETAS), len(INC_GAMMAS)))\n",
    "err_S = np.zeros((n_graphs, len(LAMBDS), len(GAMMAS), len(DELTAS), len(BETAS), len(INC_GAMMAS)))\n",
    "\n",
    "funcs = []\n",
    "with Parallel(n_jobs = N_CPUS) as pool:\n",
    "    for i in range(n_graphs):\n",
    "        X, Y, Cy, Cy_samp, H, S, Sn, h = data.gen_data(N, M, g_params, p_n, eps, K, exp_coefs=exp_coefs,\n",
    "                                                       coef=decay, neg_coefs=neg_coefs)\n",
    "\n",
    "        # Select model and covariance\n",
    "        model = copy(MODELS[model_idx])\n",
    "        if model[\"cy\"] == \"real\":\n",
    "            Cy_exp = Cy\n",
    "        elif model[\"cy\"] == \"samp\":\n",
    "            Cy_exp = Cy_samp\n",
    "        elif model[\"cy\"] == \"non-st\":\n",
    "            Cy_exp = np.eye(N)\n",
    "        else:\n",
    "            raise NotImplementedError(\"Choose either real or samp covariance\")\n",
    "\n",
    "        funcs.append(delayed(est_params)(i, model, X, Y, Cy_exp, h, H, S, Sn, LAMBDS, \n",
    "                                         GAMMAS, DELTAS, BETAS, INC_GAMMAS))\n",
    "\n",
    "    results = pool(funcs)\n",
    "    for i in range(n_graphs):\n",
    "        err_h[i], err_H[i], err_S[i] = results[i]\n"
   ]
  },
  {
   "cell_type": "code",
   "execution_count": null,
   "metadata": {},
   "outputs": [
    {
     "name": "stdout",
     "output_type": "stream",
     "text": [
      "Min mean err (Lambd: 0.02, Gamma: 0.5, Delta: 0, Beta: 0, Inc: 1): 1.399827)\n",
      "Min median err (Lambd: 0.02, Gamma: 0.5, Delta: 0, Beta: 0, Inc: 1): 0.011083)\n"
     ]
    }
   ],
   "source": [
    "# Print\n",
    "mean_err_h = np.mean(err_h, 0)\n",
    "mean_err_H = np.mean(err_H, 0)\n",
    "mean_err_S = np.mean(err_S, 0)\n",
    "idx = np.unravel_index(np.argmin(mean_err_h), mean_err_h.shape)\n",
    "print('Min mean err h (Lambd: {:.3g}, Gamma: {:.3g}, Delta: {:.3g}, Beta: {:.3g}, Inc: {:.3g}): {:.6f})'\n",
    "        .format(LAMBDS[idx[0]], GAMMAS[idx[1]], DELTAS[idx[2]], BETAS[idx[3]], INC_GAMMAS[idx[4]], mean_err_h[idx]))\n",
    "\n",
    "idx = np.unravel_index(np.argmin(mean_err_H), mean_err_H.shape)\n",
    "print('Min mean err H (Lambd: {:.3g}, Gamma: {:.3g}, Delta: {:.3g}, Beta: {:.3g}, Inc: {:.3g}): {:.6f})'\n",
    "        .format(LAMBDS[idx[0]], GAMMAS[idx[1]], DELTAS[idx[2]], BETAS[idx[3]], INC_GAMMAS[idx[4]], mean_err_h[idx]))\n",
    "\n",
    "idx = np.unravel_index(np.argmin(mean_err_S), mean_err_S.shape)\n",
    "print('Min mean err S (Lambd: {:.3g}, Gamma: {:.3g}, Delta: {:.3g}, Beta: {:.3g}, Inc: {:.3g}): {:.6f})'\n",
    "        .format(LAMBDS[idx[0]], GAMMAS[idx[1]], DELTAS[idx[2]], BETAS[idx[3]], INC_GAMMAS[idx[4]], mean_err_h[idx]))\n",
    "\n",
    "# med_err_h = np.median(err_h, 0)\n",
    "# idx = np.unravel_index(np.argmin(med_err_h), med_err_h.shape)\n",
    "# print('Min median err (Lambd: {:.3g}, Gamma: {:.3g}, Delta: {:.3g}, Beta: {:.3g}, Inc: {:.3g}): {:.6f})'\n",
    "#         .format(LAMBDS[idx[0]], GAMMAS[idx[1]], DELTAS[idx[2]], BETAS[idx[3]], INC_GAMMAS[idx[4]], med_err_h[idx]))"
   ]
  },
  {
   "cell_type": "markdown",
   "metadata": {},
   "source": []
  }
 ],
 "metadata": {
  "kernelspec": {
   "display_name": "Python 3.8.3 ('gsp_env_20220713')",
   "language": "python",
   "name": "python3"
  },
  "language_info": {
   "codemirror_mode": {
    "name": "ipython",
    "version": 3
   },
   "file_extension": ".py",
   "mimetype": "text/x-python",
   "name": "python",
   "nbconvert_exporter": "python",
   "pygments_lexer": "ipython3",
   "version": "3.8.3"
  },
  "orig_nbformat": 4,
  "vscode": {
   "interpreter": {
    "hash": "9dc7fb51db6a4fbcb906efa4379403691b416364a826363e19747842d17bf31a"
   }
  }
 },
 "nbformat": 4,
 "nbformat_minor": 2
}
