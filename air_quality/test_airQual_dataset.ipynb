{
 "cells": [
  {
   "cell_type": "code",
   "execution_count": 1,
   "metadata": {},
   "outputs": [
    {
     "name": "stderr",
     "output_type": "stream",
     "text": [
      "<frozen importlib._bootstrap>:219: RuntimeWarning: scipy._lib.messagestream.MessageStream size changed, may indicate binary incompatibility. Expected 56 from C header, got 64 from PyObject\n"
     ]
    }
   ],
   "source": [
    "import numpy as np\n",
    "\n",
    "import cvxpy as cp\n",
    "import matplotlib.pyplot as plt\n",
    "import sys\n",
    "sys.path.append('..')\n",
    "import opt\n",
    "import robustARMA_opt\n",
    "from data import pert_S"
   ]
  },
  {
   "cell_type": "code",
   "execution_count": 2,
   "metadata": {},
   "outputs": [],
   "source": [
    "def error_metrics(Y_hat, Y_test, H=None, H_gt=None, print_results=True):\n",
    "    # Normalized error\n",
    "    if Y_test.ndim == 2:\n",
    "        norm_y = (Y_test**2).sum(1)#np.sqrt((Y_test**2).sum(1))\n",
    "        err_y = np.mean(((Y_test - Y_hat)**2).sum(1) / norm_y)\n",
    "    else:\n",
    "        norm_y = (Y_test**2).sum((1,2))#np.sqrt((Y_test**2).sum(1))\n",
    "        err_y = np.mean(((Y_test - Y_hat)**2).sum((1,2)) / norm_y)\n",
    "    \n",
    "    if print_results:\n",
    "        print(f\"Error in signal y: {err_y}\")\n",
    "\n",
    "    if H is not None and H_gt is not None:\n",
    "        # Error wrt ground truth filter\n",
    "        if H.ndim == 3: # Several filters\n",
    "            norm_H = (H_gt**2).sum((1,2))\n",
    "            err_H = np.mean(((H - H_gt)**2).sum((1,2)) / norm_H)\n",
    "        else:\n",
    "            norm_H = (H_gt**2).sum()\n",
    "            err_H = ((H - H_gt)**2).sum() / norm_H\n",
    "\n",
    "        if print_results:\n",
    "            print(f\"Error in filter: {err_H}\")\n",
    "        return err_y, err_H\n",
    "\n",
    "    return err_y"
   ]
  },
  {
   "cell_type": "code",
   "execution_count": 3,
   "metadata": {},
   "outputs": [],
   "source": [
    "def plot_filters(Hs):\n",
    "    if Hs.ndim == 3:\n",
    "        n_filt = Hs.shape[0]\n",
    "    else:\n",
    "        n_filt = 1\n",
    "    f, ax = plt.subplots(1, n_filt, figsize=(12,8))\n",
    "\n",
    "    if n_filt > 1:\n",
    "        for i in range(n_filt):    \n",
    "            ax[i].imshow(Hs[i,:,:])\n",
    "    else:\n",
    "        ax.imshow(Hs)"
   ]
  },
  {
   "cell_type": "markdown",
   "metadata": {},
   "source": [
    "# Reading the data"
   ]
  },
  {
   "cell_type": "code",
   "execution_count": 4,
   "metadata": {},
   "outputs": [],
   "source": [
    "#data = np.load('data_temp/temperatures2003_mod_knn8_N40.npz')\n",
    "#data = np.load('data_temp/temperatures2018_knn8_N28.npz') # 54 or 28 for only valid values, 36 for invalid values as well\n",
    "data = np.load('data/air_quality2021CA_knn5_N28.npz')"
   ]
  },
  {
   "cell_type": "code",
   "execution_count": 5,
   "metadata": {},
   "outputs": [],
   "source": [
    "A = data['A_bin']\n",
    "\n",
    "pert_graph = True\n",
    "if pert_graph:\n",
    "    A = pert_S(A, eps=0.1) # Using default parameters rewire 10% of total links\n",
    "\n",
    "norm_A = np.sqrt((A**2).sum())\n",
    "\n",
    "temp_info = data['pm25'] # data['X']\n",
    "\n",
    "norm_data = False\n",
    "if norm_data:\n",
    "    temp_info -= np.mean(temp_info, 1)[:,None]\n",
    "    temp_info /= np.std(temp_info, 1)[:,None]\n",
    "\n",
    "diff = False\n",
    "if diff:\n",
    "    temp_info = np.diff(temp_info, axis=1) / temp_info[:,:1]\n",
    "\n",
    "norm_data = True\n",
    "if norm_data:\n",
    "    temp_info = temp_info / np.sqrt((temp_info**2).sum(1))[:,None]\n",
    "\n",
    "Y = temp_info[:,1:]\n",
    "X = temp_info[:,:-1]\n",
    "N, N_dates = X.shape"
   ]
  },
  {
   "cell_type": "code",
   "execution_count": 6,
   "metadata": {},
   "outputs": [
    {
     "data": {
      "text/plain": [
       "((28, 182), (28, 182), (28, 182), 364)"
      ]
     },
     "execution_count": 6,
     "metadata": {},
     "output_type": "execute_result"
    }
   ],
   "source": [
    "train_test_split = 0.5\n",
    "\n",
    "random_train_test = True\n",
    "if random_train_test:\n",
    "    idxs = np.random.permutation(N_dates)\n",
    "else:\n",
    "    idxs = np.arange(N_dates)\n",
    "\n",
    "idxs_train = idxs[:int(train_test_split*N_dates)]\n",
    "idxs_test = idxs[int(train_test_split*N_dates):]\n",
    "\n",
    "X_train = X[:,idxs_train]\n",
    "Y_train = Y[:,idxs_train]\n",
    "X_test = X[:,idxs_test]\n",
    "Y_test = Y[:,idxs_test]\n",
    "X_train.shape, Y_train.shape, X_test.shape, N_dates"
   ]
  },
  {
   "cell_type": "markdown",
   "metadata": {},
   "source": [
    "# Models"
   ]
  },
  {
   "cell_type": "code",
   "execution_count": 7,
   "metadata": {},
   "outputs": [],
   "source": [
    "models = []\n",
    "errs_y = []\n",
    "errs_H = []"
   ]
  },
  {
   "cell_type": "code",
   "execution_count": 8,
   "metadata": {},
   "outputs": [],
   "source": [
    "# Ground truth obtained using Least squares over all samples\n",
    "H = cp.Variable((N,N))\n",
    "obj = cp.sum_squares(Y_test - H @ X_test)\n",
    "prob = cp.Problem(cp.Minimize(obj))\n",
    "prob.solve()\n",
    "H_gt = H.value"
   ]
  },
  {
   "cell_type": "code",
   "execution_count": 9,
   "metadata": {},
   "outputs": [
    {
     "name": "stdout",
     "output_type": "stream",
     "text": [
      "Error in signal y: 0.11069484001658945\n",
      "Error in filter: 0.0\n"
     ]
    }
   ],
   "source": [
    "y_ls_perf = H_gt @ X_test\n",
    "err_ls_per, err_H_ls_per = error_metrics(y_ls_perf, Y_test, H_gt, H_gt)\n",
    "models.append(\"LS-Perfect (LB)\"); errs_y.append(err_ls_per)"
   ]
  },
  {
   "cell_type": "code",
   "execution_count": 10,
   "metadata": {},
   "outputs": [
    {
     "data": {
      "image/png": "[encoded data removed]",
      "text/plain": [
       "<Figure size 864x576 with 1 Axes>"
      ]
     },
     "metadata": {
      "needs_background": "light"
     },
     "output_type": "display_data"
    }
   ],
   "source": [
    "plot_filters(H_gt)"
   ]
  },
  {
   "cell_type": "markdown",
   "metadata": {},
   "source": [
    "## Toy models for comparison"
   ]
  },
  {
   "cell_type": "code",
   "execution_count": 11,
   "metadata": {},
   "outputs": [
    {
     "name": "stdout",
     "output_type": "stream",
     "text": [
      "Error in signal y: 0.6703766302673468\n"
     ]
    }
   ],
   "source": [
    "Y_random = Y_test.std(1)[:,None] * np.random.randn(*Y_test.shape) + Y_test.mean(1)[:,None]\n",
    "err_random = error_metrics(Y_random, Y_test)\n",
    "#models.append(\"Random Return\"); errs_y.append(err_random)"
   ]
  },
  {
   "cell_type": "code",
   "execution_count": 12,
   "metadata": {},
   "outputs": [
    {
     "name": "stdout",
     "output_type": "stream",
     "text": [
      "Error in signal y: 1.0\n"
     ]
    }
   ],
   "source": [
    "Y_zeros = np.zeros(Y_test.shape)\n",
    "err_zeros = error_metrics(Y_zeros, Y_test)\n",
    "#models.append(\"Zero Return\"); errs_y.append(err_zeros)"
   ]
  },
  {
   "cell_type": "code",
   "execution_count": 13,
   "metadata": {},
   "outputs": [
    {
     "name": "stdout",
     "output_type": "stream",
     "text": [
      "Error in signal y: 0.20192373855530812\n"
     ]
    }
   ],
   "source": [
    "# Identity - copying the temperature from the previous day\n",
    "H_eye = np.eye(N)\n",
    "Y_eye = H_eye @ X_test\n",
    "err_eye = error_metrics(Y_eye, Y_test)\n",
    "models.append(\"Copy Prev Day\"); errs_y.append(err_eye)"
   ]
  },
  {
   "cell_type": "markdown",
   "metadata": {},
   "source": [
    "## Least squares"
   ]
  },
  {
   "cell_type": "code",
   "execution_count": 14,
   "metadata": {},
   "outputs": [],
   "source": [
    "# Least squares\n",
    "H = cp.Variable((N,N))#, symmetric=True)\n",
    "obj = cp.sum_squares(Y_train - H @ X_train)\n",
    "prob = cp.Problem(cp.Minimize(obj))\n",
    "prob.solve()\n",
    "H_ls = H.value"
   ]
  },
  {
   "cell_type": "code",
   "execution_count": 15,
   "metadata": {},
   "outputs": [
    {
     "name": "stdout",
     "output_type": "stream",
     "text": [
      "Error in signal y: 0.2503288410753572\n",
      "Error in filter: 1.8299912268455816\n"
     ]
    }
   ],
   "source": [
    "Y_hat_ls = H_ls @ X_test\n",
    "err_y_ls, err_H_ls = error_metrics(Y_hat_ls, Y_test, H_ls, H_gt)\n",
    "models.append(\"Least Squares\"); errs_y.append(err_y_ls); errs_H.append(err_H_ls)"
   ]
  },
  {
   "cell_type": "code",
   "execution_count": 16,
   "metadata": {},
   "outputs": [
    {
     "data": {
      "image/png": "[encoded data removed]",
      "text/plain": [
       "<Figure size 864x576 with 1 Axes>"
      ]
     },
     "metadata": {
      "needs_background": "light"
     },
     "output_type": "display_data"
    }
   ],
   "source": [
    "plot_filters(H_ls)"
   ]
  },
  {
   "cell_type": "code",
   "execution_count": 17,
   "metadata": {},
   "outputs": [],
   "source": [
    "# Least squares postulating it is a graph filter\n",
    "K = 5\n",
    "Spow = np.array([np.linalg.matrix_power(A, k) for k in range(K)])\n",
    "h = cp.Variable(K)\n",
    "obj = cp.sum_squares(Y_train - cp.sum([h[k] * Spow[k,:,:] for k in range(K)]) @ X_train)\n",
    "prob = cp.Problem(cp.Minimize(obj))\n",
    "prob.solve()\n",
    "h = h.value\n",
    "H_ls_gf = np.sum([h[k] * Spow[k,:,:] for k in range(K)], 0)"
   ]
  },
  {
   "cell_type": "code",
   "execution_count": 18,
   "metadata": {},
   "outputs": [
    {
     "name": "stdout",
     "output_type": "stream",
     "text": [
      "Error in signal y: 0.17465601964795854\n",
      "Error in filter: 0.873264666396143\n"
     ]
    }
   ],
   "source": [
    "Y_hat_ls_gf = H_ls_gf @ X_test\n",
    "err_y_ls_gf, err_H_ls_gf = error_metrics(Y_hat_ls_gf, Y_test, H_ls_gf, H_gt)\n",
    "models.append(\"Least Squares-GF\"); errs_y.append(err_y_ls_gf); errs_H.append(err_H_ls_gf)"
   ]
  },
  {
   "cell_type": "code",
   "execution_count": 19,
   "metadata": {},
   "outputs": [
    {
     "data": {
      "image/png": "[encoded data removed]",
      "text/plain": [
       "<Figure size 864x576 with 1 Axes>"
      ]
     },
     "metadata": {
      "needs_background": "light"
     },
     "output_type": "display_data"
    }
   ],
   "source": [
    "plot_filters(H_ls_gf)"
   ]
  },
  {
   "cell_type": "markdown",
   "metadata": {},
   "source": [
    "## Iterative (robust) algorithms"
   ]
  },
  {
   "cell_type": "code",
   "execution_count": 20,
   "metadata": {},
   "outputs": [],
   "source": [
    "args = [0.4, 0.008, 0.0005, 3.]\n",
    "args = [0., 0., 0., 2.5]\n",
    "args_no_st = [0.03, 0.005, 0., 3.5]\n",
    "args_rew = [0.2, 0.1, 0.001, 0.0001, 1.1]\n",
    "args_rew_no_st = [0.1, 0.08, 0., 5e-4, 1.]"
   ]
  },
  {
   "cell_type": "code",
   "execution_count": 21,
   "metadata": {},
   "outputs": [],
   "source": [
    "X_norm = (X_train.T - np.mean(X_train.T, axis=0))/np.std(X_train.T, axis=0)\n",
    "\n",
    "C = np.cov(X_norm.T)"
   ]
  },
  {
   "cell_type": "code",
   "execution_count": 22,
   "metadata": {},
   "outputs": [],
   "source": [
    "iter, H_iter, S_iter = opt.estH_iter(X, Y, A, C, args)"
   ]
  },
  {
   "cell_type": "code",
   "execution_count": 23,
   "metadata": {},
   "outputs": [
    {
     "data": {
      "image/png": "[encoded data removed]",
      "text/plain": [
       "<Figure size 864x576 with 1 Axes>"
      ]
     },
     "metadata": {
      "needs_background": "light"
     },
     "output_type": "display_data"
    }
   ],
   "source": [
    "plot_filters(H_iter)"
   ]
  },
  {
   "cell_type": "code",
   "execution_count": 24,
   "metadata": {},
   "outputs": [
    {
     "name": "stdout",
     "output_type": "stream",
     "text": [
      "Error in signal y: 0.1575380735230785\n",
      "Error in filter: 0.7449410224295157\n"
     ]
    }
   ],
   "source": [
    "Y_hat_iter = H_iter @ X_test\n",
    "err_iter, err_H_iter = error_metrics(Y_hat_iter, Y_test, H_iter, H_gt)\n",
    "models.append(\"RGFI\"); errs_y.append(err_iter); errs_H.append(err_H_iter)"
   ]
  },
  {
   "cell_type": "code",
   "execution_count": 25,
   "metadata": {},
   "outputs": [],
   "source": [
    "iter, H_iter_rew, S_iter_rew = opt.estH_iter_rew(X, Y, A, C, args_rew)"
   ]
  },
  {
   "cell_type": "code",
   "execution_count": 26,
   "metadata": {},
   "outputs": [
    {
     "data": {
      "image/png": "[encoded data removed]",
      "text/plain": [
       "<Figure size 864x576 with 1 Axes>"
      ]
     },
     "metadata": {
      "needs_background": "light"
     },
     "output_type": "display_data"
    }
   ],
   "source": [
    "plot_filters(H_iter_rew)"
   ]
  },
  {
   "cell_type": "code",
   "execution_count": 27,
   "metadata": {},
   "outputs": [
    {
     "name": "stdout",
     "output_type": "stream",
     "text": [
      "Error in signal y: 0.16093145174395715\n",
      "Error in filter: 0.800134551516928\n"
     ]
    }
   ],
   "source": [
    "Y_hat_iter_rew = H_iter_rew @ X_test\n",
    "err_iter_rew, err_H_iter_rew = error_metrics(Y_hat_iter_rew, Y_test, H_iter_rew, H_gt)\n",
    "models.append(\"RGFI-REW\"); errs_y.append(err_iter_rew); errs_H.append(err_H_iter_rew)"
   ]
  },
  {
   "cell_type": "code",
   "execution_count": 28,
   "metadata": {},
   "outputs": [
    {
     "data": {
      "text/plain": [
       "36.58942182025103"
      ]
     },
     "execution_count": 28,
     "metadata": {},
     "output_type": "execute_result"
    }
   ],
   "source": [
    "((S_iter - A)**2).sum()"
   ]
  },
  {
   "cell_type": "code",
   "execution_count": 29,
   "metadata": {},
   "outputs": [
    {
     "data": {
      "text/plain": [
       "<matplotlib.image.AxesImage at 0x7f7e8581e2b0>"
      ]
     },
     "execution_count": 29,
     "metadata": {},
     "output_type": "execute_result"
    },
    {
     "data": {
      "image/png": "[encoded data removed]",
      "text/plain": [
       "<Figure size 432x288 with 1 Axes>"
      ]
     },
     "metadata": {
      "needs_background": "light"
     },
     "output_type": "display_data"
    }
   ],
   "source": [
    "plt.imshow(S_iter)"
   ]
  },
  {
   "cell_type": "markdown",
   "metadata": {},
   "source": [
    "$D^{-1/2} S D^{-1/2}$ -- para stationary\n",
    "\n",
    "$D^{-1} S$ -- no simétrica"
   ]
  },
  {
   "cell_type": "markdown",
   "metadata": {},
   "source": [
    "# Multiple filters ARMA model"
   ]
  },
  {
   "cell_type": "code",
   "execution_count": 30,
   "metadata": {},
   "outputs": [
    {
     "data": {
      "text/plain": [
       "((2, 28, 363), (28, 363))"
      ]
     },
     "execution_count": 30,
     "metadata": {},
     "output_type": "execute_result"
    }
   ],
   "source": [
    "P = 2\n",
    "Xs = np.array([temp_info[:,p:-P+p] for p in range(P)])\n",
    "Y_mult = temp_info[:,P:]\n",
    "N_dates_mult = Y_mult.shape[1]\n",
    "Xs.shape, Y_mult.shape"
   ]
  },
  {
   "cell_type": "code",
   "execution_count": 31,
   "metadata": {},
   "outputs": [],
   "source": [
    "idxs_mult = idxs.copy() # Using same split as in the previous cases, but needs to be adapted\n",
    "for p in range(N_dates-P, N_dates): # Deleting invalid occurrences for this case\n",
    "    idxs_mult = idxs_mult[idxs_mult != p]\n",
    "idxs_train = idxs_mult[:int(train_test_split*N_dates_mult)]\n",
    "idxs_test = idxs_mult[int(train_test_split*N_dates_mult):]\n",
    "Xs_train = Xs[:,:,idxs_train]\n",
    "Xs_test = Xs[:,:,idxs_test]\n",
    "Y_mult_train = Y_mult[:,idxs_train]\n",
    "Y_mult_test = Y_mult[:,idxs_test]"
   ]
  },
  {
   "cell_type": "code",
   "execution_count": 32,
   "metadata": {},
   "outputs": [],
   "source": [
    "Hs = [cp.Variable((N, N)) for _ in range(P)]\n",
    "obj = cp.sum_squares(Y_mult_test - cp.sum([Hs[p] @ Xs_test[p,:,:] for p in range(P)]))\n",
    "prob = cp.Problem(cp.Minimize(obj))\n",
    "prob.solve()\n",
    "Hs_gt = np.array([Hs[p].value for p in range(P)])"
   ]
  },
  {
   "cell_type": "code",
   "execution_count": 33,
   "metadata": {},
   "outputs": [
    {
     "name": "stdout",
     "output_type": "stream",
     "text": [
      "Error in signal y: 0.08058613607417028\n"
     ]
    }
   ],
   "source": [
    "Y_hat_perf = np.sum(Hs_gt @ Xs_test, 0)\n",
    "err_mult_per = error_metrics(Y_hat_perf, Y_mult_test)\n",
    "models.append(\"VARMA-LS-Perfect\"); errs_y.append(err_mult_per)"
   ]
  },
  {
   "cell_type": "code",
   "execution_count": 34,
   "metadata": {},
   "outputs": [
    {
     "data": {
      "image/png": "[encoded data removed]",
      "text/plain": [
       "<Figure size 864x576 with 2 Axes>"
      ]
     },
     "metadata": {
      "needs_background": "light"
     },
     "output_type": "display_data"
    }
   ],
   "source": [
    "plot_filters(Hs_gt)"
   ]
  },
  {
   "cell_type": "markdown",
   "metadata": {},
   "source": [
    "## Least squares"
   ]
  },
  {
   "cell_type": "code",
   "execution_count": 35,
   "metadata": {},
   "outputs": [],
   "source": [
    "Hs = [cp.Variable((N, N)) for _ in range(P)]\n",
    "obj = cp.sum_squares(Y_mult_train - cp.sum([Hs[p] @ Xs_train[p,:,:] for p in range(P)]))\n",
    "prob = cp.Problem(cp.Minimize(obj))\n",
    "prob.solve()\n",
    "Hs_ls = np.array([Hs[p].value for p in range(P)])"
   ]
  },
  {
   "cell_type": "code",
   "execution_count": 36,
   "metadata": {},
   "outputs": [
    {
     "name": "stdout",
     "output_type": "stream",
     "text": [
      "Error in signal y: 0.31632173809317576\n",
      "Error in filter: 2.171223133633123\n"
     ]
    }
   ],
   "source": [
    "Y_hat_mult_ls = np.sum(Hs_ls @ Xs_test, 0)\n",
    "err_mult_ls, err_H_mult_ls = error_metrics(Y_hat_mult_ls, Y_mult_test, Hs_ls, Hs_gt)\n",
    "models.append(\"VARMA-LS\"); errs_y.append(err_mult_ls); errs_H.append(err_H_mult_ls)"
   ]
  },
  {
   "cell_type": "code",
   "execution_count": 37,
   "metadata": {},
   "outputs": [
    {
     "data": {
      "image/png": "[encoded data removed]",
      "text/plain": [
       "<Figure size 864x576 with 2 Axes>"
      ]
     },
     "metadata": {
      "needs_background": "light"
     },
     "output_type": "display_data"
    }
   ],
   "source": [
    "plot_filters(Hs_ls)"
   ]
  },
  {
   "cell_type": "code",
   "execution_count": 38,
   "metadata": {},
   "outputs": [],
   "source": [
    "# Least squares postulating it is a graph filter\n",
    "K = 5\n",
    "hs = [cp.Variable(K) for _ in range(P)]\n",
    "Hs = [cp.sum([hs[p][k] * Spow[k,:,:] for k in range(K)]) for p in range(P)]\n",
    "obj = cp.sum_squares(Y_mult_train - cp.sum([Hs[p] @ Xs_train[p,:,:] for p in range(P)]))\n",
    "prob = cp.Problem(cp.Minimize(obj))\n",
    "prob.solve()\n",
    "hs_ls = np.array([hs[p].value for p in range(P)])\n",
    "Hs_ls_gf = np.array([np.sum([hs_ls[p,k] * Spow[k,:,:] for k in range(5)], 0) for p in range(P)])"
   ]
  },
  {
   "cell_type": "code",
   "execution_count": 39,
   "metadata": {},
   "outputs": [
    {
     "name": "stdout",
     "output_type": "stream",
     "text": [
      "Error in signal y: 0.18055026767515314\n",
      "Error in filter: 0.9592561601920022\n"
     ]
    }
   ],
   "source": [
    "Y_hat_mult_ls_gf = np.sum(Hs_ls_gf @ Xs_test, 0)\n",
    "err_y_mult_ls_gf, err_H_mult_ls_gf = error_metrics(Y_hat_mult_ls_gf, Y_mult_test, Hs_ls_gf, Hs_gt)\n",
    "models.append(\"VARMA-LS-GF\"); errs_y.append(err_y_mult_ls_gf); errs_H.append(err_H_mult_ls_gf)"
   ]
  },
  {
   "cell_type": "code",
   "execution_count": 40,
   "metadata": {},
   "outputs": [
    {
     "data": {
      "image/png": "[encoded data removed]",
      "text/plain": [
       "<Figure size 864x576 with 2 Axes>"
      ]
     },
     "metadata": {
      "needs_background": "light"
     },
     "output_type": "display_data"
    }
   ],
   "source": [
    "plot_filters(Hs_ls_gf)"
   ]
  },
  {
   "cell_type": "markdown",
   "metadata": {},
   "source": [
    "## Iterative (robust) algorithms"
   ]
  },
  {
   "cell_type": "code",
   "execution_count": 41,
   "metadata": {},
   "outputs": [],
   "source": [
    "from robustARMA_opt import estHs_iter, estHs_iter_rew"
   ]
  },
  {
   "cell_type": "code",
   "execution_count": 42,
   "metadata": {},
   "outputs": [],
   "source": [
    "args = [0.2, 1e-3, 0.02, 1.6]\n",
    "args_no_st = [0.4, 1e-3, 0., 1.5]\n",
    "args_rew = [0.07, 1e-3, 0.1, 5e-4, 3.]\n",
    "args_rew_no_st = [0.02, 1e-4, 0., 5e-4, 2.]"
   ]
  },
  {
   "cell_type": "code",
   "execution_count": 43,
   "metadata": {},
   "outputs": [],
   "source": [
    "iter, Hs_iter, Ss_iter = estHs_iter(Xs_train, Y_mult_train, A, C, args)"
   ]
  },
  {
   "cell_type": "code",
   "execution_count": 44,
   "metadata": {},
   "outputs": [
    {
     "data": {
      "text/plain": [
       "(2.034541135942016, 3.7436743014202727)"
      ]
     },
     "execution_count": 44,
     "metadata": {},
     "output_type": "execute_result"
    }
   ],
   "source": [
    "((Ss_iter - A)**2).sum() / norm_A, ((Ss_iter - data['A_bin'])**2).sum() / norm_A"
   ]
  },
  {
   "cell_type": "code",
   "execution_count": 45,
   "metadata": {},
   "outputs": [
    {
     "data": {
      "image/png": "[encoded data removed]",
      "text/plain": [
       "<Figure size 864x576 with 2 Axes>"
      ]
     },
     "metadata": {
      "needs_background": "light"
     },
     "output_type": "display_data"
    }
   ],
   "source": [
    "plot_filters(Hs_iter)"
   ]
  },
  {
   "cell_type": "code",
   "execution_count": 46,
   "metadata": {},
   "outputs": [
    {
     "name": "stdout",
     "output_type": "stream",
     "text": [
      "Error in signal y: 0.1866887339554805\n",
      "Error in filter: 0.9590749978929882\n"
     ]
    }
   ],
   "source": [
    "Y_hat_mult_iter = np.sum(Hs_iter @ Xs_test, 0)\n",
    "err_mult_iter, err_Hs_mult_iter = error_metrics(Y_hat_mult_iter, Y_mult_test, Hs_iter, Hs_gt)\n",
    "models.append(\"VARMA-RGFI\"); errs_y.append(err_mult_iter); errs_H.append(err_Hs_mult_iter)"
   ]
  },
  {
   "cell_type": "code",
   "execution_count": 47,
   "metadata": {},
   "outputs": [],
   "source": [
    "iter, Hs_iter_rew, Ss_iter_rew = estHs_iter_rew(Xs_train, Y_mult_train, A, C, args_rew)"
   ]
  },
  {
   "cell_type": "code",
   "execution_count": 48,
   "metadata": {},
   "outputs": [
    {
     "data": {
      "text/plain": [
       "(6.2128583933534705, 6.934776189497026)"
      ]
     },
     "execution_count": 48,
     "metadata": {},
     "output_type": "execute_result"
    }
   ],
   "source": [
    "((Ss_iter_rew - A)**2).sum() / norm_A, ((Ss_iter_rew - data['A_bin'])**2).sum() / norm_A"
   ]
  },
  {
   "cell_type": "code",
   "execution_count": 49,
   "metadata": {},
   "outputs": [
    {
     "data": {
      "image/png": "[encoded data removed]",
      "text/plain": [
       "<Figure size 864x576 with 2 Axes>"
      ]
     },
     "metadata": {
      "needs_background": "light"
     },
     "output_type": "display_data"
    }
   ],
   "source": [
    "plot_filters(Hs_iter_rew)"
   ]
  },
  {
   "cell_type": "code",
   "execution_count": 50,
   "metadata": {},
   "outputs": [
    {
     "name": "stdout",
     "output_type": "stream",
     "text": [
      "Error in signal y: 0.18303602530409688\n",
      "Error in filter: 0.9482093884861418\n"
     ]
    }
   ],
   "source": [
    "Y_hat_mult_iter_rew = np.sum(Hs_iter_rew @ Xs_test, 0)\n",
    "err_mult_iter_rew, err_Hs_mult_iter_rew = error_metrics(Y_hat_mult_iter_rew, Y_mult_test, Hs_iter_rew, Hs_gt)\n",
    "models.append(\"VARMA-RGFI-REW\"); errs_y.append(err_mult_iter_rew); errs_H.append(err_Hs_mult_iter_rew)"
   ]
  },
  {
   "cell_type": "markdown",
   "metadata": {},
   "source": [
    "# Representation"
   ]
  },
  {
   "cell_type": "code",
   "execution_count": 51,
   "metadata": {},
   "outputs": [
    {
     "data": {
      "image/png": "[encoded data removed]",
      "text/plain": [
       "<Figure size 576x432 with 1 Axes>"
      ]
     },
     "metadata": {
      "needs_background": "light"
     },
     "output_type": "display_data"
    }
   ],
   "source": [
    "x_ax = np.arange(len(models))\n",
    "plt.figure(figsize=(8,6))\n",
    "plt.bar(x_ax, errs_y, log=True)\n",
    "plt.xticks(x_ax, models, rotation=45)\n",
    "plt.title(\"Prediction error\", fontsize=24)\n",
    "plt.xlabel(\"Models\")\n",
    "plt.ylabel(\"Error\")\n",
    "plt.grid()\n",
    "#plt.ylim(0., 0.1)"
   ]
  },
  {
   "cell_type": "markdown",
   "metadata": {},
   "source": [
    "# Multiple filters for multiple data"
   ]
  },
  {
   "cell_type": "code",
   "execution_count": 53,
   "metadata": {},
   "outputs": [
    {
     "data": {
      "text/plain": [
       "((3, 28, 364), (3, 28, 364))"
      ]
     },
     "execution_count": 53,
     "metadata": {},
     "output_type": "execute_result"
    }
   ],
   "source": [
    "X1 = data['pm25']\n",
    "X2 = data['oz']\n",
    "X3 = data['pm10']\n",
    "#X4 = data['press']\n",
    "comp_data = np.array([\n",
    "    X1,\n",
    "    X2,\n",
    "    X3,\n",
    "#    X4\n",
    "])\n",
    "n_feat = comp_data.shape[0]\n",
    "\n",
    "Ys = comp_data[:,:,1:].copy()\n",
    "Xs = comp_data[:,:,:-1].copy()\n",
    "Xs.shape, Ys.shape"
   ]
  },
  {
   "cell_type": "code",
   "execution_count": 54,
   "metadata": {},
   "outputs": [
    {
     "data": {
      "text/plain": [
       "((3, 28, 218), (3, 28, 218), (3, 28, 146), 364)"
      ]
     },
     "execution_count": 54,
     "metadata": {},
     "output_type": "execute_result"
    }
   ],
   "source": [
    "train_test_split = 0.6#1/6\n",
    "N_dates = Xs.shape[2]\n",
    "\n",
    "random_train_test = False\n",
    "if random_train_test:\n",
    "    idxs = np.random.permutation(N_dates)\n",
    "else:\n",
    "    idxs = np.arange(N_dates)\n",
    "\n",
    "idxs_train = idxs[:int(train_test_split*N_dates)]\n",
    "idxs_test = idxs[int(train_test_split*N_dates):]\n",
    "\n",
    "Xs_train = Xs[:,:,idxs_train]\n",
    "Ys_train = Ys[:,:,idxs_train]\n",
    "Xs_test = Xs[:,:,idxs_test]\n",
    "Ys_test = Ys[:,:,idxs_test]\n",
    "Xs_train.shape, Ys_train.shape, Xs_test.shape, N_dates"
   ]
  },
  {
   "cell_type": "code",
   "execution_count": 55,
   "metadata": {},
   "outputs": [],
   "source": [
    "Hs_gt = []\n",
    "for i in range(n_feat):\n",
    "    H = cp.Variable((N,N))\n",
    "    obj = cp.sum_squares(Ys_test[i,:,:] - H @ Xs_test[i,:,:])\n",
    "    prob = cp.Problem(cp.Minimize(obj))\n",
    "    prob.solve()\n",
    "    Hs_gt.append(H.value)\n",
    "Hs_gt = np.array(Hs_gt)"
   ]
  },
  {
   "cell_type": "code",
   "execution_count": 56,
   "metadata": {},
   "outputs": [
    {
     "name": "stdout",
     "output_type": "stream",
     "text": [
      "Error in signal y: 0.11078842970865298\n",
      "Error in filter: 0.0\n"
     ]
    },
    {
     "data": {
      "text/plain": [
       "(0.11078842970865298, 0.0)"
      ]
     },
     "execution_count": 56,
     "metadata": {},
     "output_type": "execute_result"
    }
   ],
   "source": [
    "Ys_hat_gt = Hs_gt @ Xs_test\n",
    "err_y_gt, err_H_gt = error_metrics(Ys_hat_gt, Ys_test, Hs_gt, Hs_gt)\n",
    "#models.append(\"Least Squares\"); errs_y.append(err_y_ls); errs_H.append(err_H_ls)\n",
    "err_y_gt, err_H_gt"
   ]
  },
  {
   "cell_type": "code",
   "execution_count": 57,
   "metadata": {},
   "outputs": [
    {
     "data": {
      "image/png": "[encoded data removed]",
      "text/plain": [
       "<Figure size 864x576 with 3 Axes>"
      ]
     },
     "metadata": {
      "needs_background": "light"
     },
     "output_type": "display_data"
    }
   ],
   "source": [
    "plot_filters(Hs_gt)"
   ]
  },
  {
   "cell_type": "markdown",
   "metadata": {},
   "source": [
    "## Least squares"
   ]
  },
  {
   "cell_type": "code",
   "execution_count": 58,
   "metadata": {},
   "outputs": [],
   "source": [
    "Hs_ls = []\n",
    "for i in range(n_feat):\n",
    "    H = cp.Variable((N,N))\n",
    "    obj = cp.sum_squares(Ys_train[i,:,:] - H @ Xs_train[i,:,:])\n",
    "    prob = cp.Problem(cp.Minimize(obj))\n",
    "    prob.solve()\n",
    "    Hs_ls.append(H.value)\n",
    "Hs_ls = np.array(Hs_ls)"
   ]
  },
  {
   "cell_type": "code",
   "execution_count": 59,
   "metadata": {},
   "outputs": [
    {
     "data": {
      "text/plain": [
       "0.1"
      ]
     },
     "execution_count": 59,
     "metadata": {},
     "output_type": "execute_result"
    }
   ],
   "source": [
    "Xs[1,:,:].max()"
   ]
  },
  {
   "cell_type": "code",
   "execution_count": 60,
   "metadata": {},
   "outputs": [
    {
     "data": {
      "image/png": "[encoded data removed]",
      "text/plain": [
       "<Figure size 864x576 with 3 Axes>"
      ]
     },
     "metadata": {
      "needs_background": "light"
     },
     "output_type": "display_data"
    }
   ],
   "source": [
    "plot_filters(Hs_ls)"
   ]
  },
  {
   "cell_type": "code",
   "execution_count": 61,
   "metadata": {},
   "outputs": [
    {
     "data": {
      "text/plain": [
       "(array([0.37171851, 0.03067001, 0.29169244]),\n",
       " array([1.35561893e+06, 7.80448022e+00, 9.36457366e+06]))"
      ]
     },
     "execution_count": 61,
     "metadata": {},
     "output_type": "execute_result"
    }
   ],
   "source": [
    "Ys_hat_ls = Hs_ls @ Xs_test\n",
    "norm_y = (Ys_test**2).sum((1,2))#np.sqrt((Y_test**2).sum(1))\n",
    "err_y = ((Ys_test - Ys_hat_ls)**2).sum((1,2)) / norm_y\n",
    "err_y, norm_y"
   ]
  },
  {
   "cell_type": "code",
   "execution_count": 62,
   "metadata": {},
   "outputs": [
    {
     "name": "stdout",
     "output_type": "stream",
     "text": [
      "Error in signal y: 0.23136031998431542\n",
      "Error in filter: 1.201475673523755\n"
     ]
    },
    {
     "data": {
      "text/plain": [
       "(0.23136031998431542, 1.201475673523755)"
      ]
     },
     "execution_count": 62,
     "metadata": {},
     "output_type": "execute_result"
    }
   ],
   "source": [
    "Ys_hat_ls = Hs_ls @ Xs_test\n",
    "err_y_ls, err_H_ls = error_metrics(Ys_hat_ls, Ys_test, Hs_ls, Hs_gt)\n",
    "#models.append(\"Least Squares\"); errs_y.append(err_y_ls); errs_H.append(err_H_ls)\n",
    "err_y_ls, err_H_ls"
   ]
  },
  {
   "cell_type": "code",
   "execution_count": 63,
   "metadata": {},
   "outputs": [],
   "source": [
    "# Least squares postulating it is a graph filter\n",
    "K = 5\n",
    "Spow = np.array([np.linalg.matrix_power(A, k) for k in range(K)])\n",
    "Hs_ls_gf = []\n",
    "for i in range(n_feat):\n",
    "    h = cp.Variable(K)\n",
    "    obj = cp.sum_squares(Ys_train[i,:,:] - cp.sum([h[k] * Spow[k,:,:] for k in range(K)]) @ Xs_train[i,:,:])\n",
    "    prob = cp.Problem(cp.Minimize(obj))\n",
    "    prob.solve()\n",
    "    h = h.value\n",
    "    Hs_ls_gf.append(np.sum([h[k] * Spow[k,:,:] for k in range(K)], 0))\n",
    "Hs_ls_gf = np.array(Hs_ls_gf)"
   ]
  },
  {
   "cell_type": "code",
   "execution_count": 64,
   "metadata": {},
   "outputs": [
    {
     "data": {
      "image/png": "[encoded data removed]",
      "text/plain": [
       "<Figure size 864x576 with 3 Axes>"
      ]
     },
     "metadata": {
      "needs_background": "light"
     },
     "output_type": "display_data"
    }
   ],
   "source": [
    "plot_filters(Hs_ls_gf)"
   ]
  },
  {
   "cell_type": "code",
   "execution_count": 65,
   "metadata": {},
   "outputs": [
    {
     "name": "stdout",
     "output_type": "stream",
     "text": [
      "Error in signal y: 0.18573232796029351\n",
      "Error in filter: 1.201475673523755\n"
     ]
    },
    {
     "data": {
      "text/plain": [
       "(0.17465601964795854, 0.873264666396143)"
      ]
     },
     "execution_count": 65,
     "metadata": {},
     "output_type": "execute_result"
    }
   ],
   "source": [
    "Ys_hat_ls_gf = Hs_ls_gf @ Xs_test\n",
    "err_y_ls, err_H_ls = error_metrics(Ys_hat_ls_gf, Ys_test, Hs_ls, Hs_gt)\n",
    "#models.append(\"LS-GF\"); errs_y.append(err_y_ls); errs_H.append(err_H_ls)\n",
    "err_y_ls_gf, err_H_ls_gf"
   ]
  },
  {
   "cell_type": "markdown",
   "metadata": {},
   "source": [
    "## Iterative (robust) algorithms"
   ]
  },
  {
   "cell_type": "code",
   "execution_count": 66,
   "metadata": {},
   "outputs": [],
   "source": [
    "import sev_filters_opt"
   ]
  },
  {
   "cell_type": "code",
   "execution_count": 67,
   "metadata": {},
   "outputs": [],
   "source": [
    "args = [0.2, 1e-3, 0.02, 1.6]\n",
    "args_no_st = [0.4, 1e-3, 0., 1.5]\n",
    "args_rew = [0.07, 1e-3, 0.1, 5e-4, 3.]\n",
    "args_rew_no_st = [0.02, 1e-4, 0., 5e-4, 2.]"
   ]
  },
  {
   "cell_type": "code",
   "execution_count": 68,
   "metadata": {},
   "outputs": [],
   "source": [
    "meanX = comp_data.mean(2)\n",
    "stdX = comp_data.std(2)\n",
    "Cs = np.zeros((n_feat, N, N))\n",
    "for i in range(n_feat):\n",
    "    X_norm = (comp_data[i,:,:].T - meanX[i,:]) / stdX[i,:]\n",
    "\n",
    "    X_norm = np.where(np.isnan(X_norm), comp_data[i,:,:].T, X_norm)\n",
    "    \n",
    "    Cs[i,:,:] = np.cov(X_norm.T)"
   ]
  },
  {
   "cell_type": "code",
   "execution_count": 69,
   "metadata": {},
   "outputs": [],
   "source": [
    "iter, Hs_iter, Ss_iter = sev_filters_opt.estHs_iter(Xs_train, Ys_train, A, Cs, args)"
   ]
  },
  {
   "cell_type": "code",
   "execution_count": 70,
   "metadata": {},
   "outputs": [
    {
     "data": {
      "image/png": "[encoded data removed]",
      "text/plain": [
       "<Figure size 864x576 with 3 Axes>"
      ]
     },
     "metadata": {
      "needs_background": "light"
     },
     "output_type": "display_data"
    }
   ],
   "source": [
    "plot_filters(Hs_iter)"
   ]
  },
  {
   "cell_type": "code",
   "execution_count": 71,
   "metadata": {},
   "outputs": [
    {
     "data": {
      "text/plain": [
       "(array([0.2679726 , 0.02513351, 0.28401224]),\n",
       " array([1.35561893e+06, 7.80448022e+00, 9.36457366e+06]))"
      ]
     },
     "execution_count": 71,
     "metadata": {},
     "output_type": "execute_result"
    }
   ],
   "source": [
    "Ys_hat_iter = Hs_iter @ Xs_test\n",
    "norm_y = (Ys_test**2).sum((1,2))#np.sqrt((Y_test**2).sum(1))\n",
    "err_y = ((Ys_test - Ys_hat_iter)**2).sum((1,2)) / norm_y\n",
    "err_y, norm_y"
   ]
  },
  {
   "cell_type": "code",
   "execution_count": 72,
   "metadata": {},
   "outputs": [
    {
     "name": "stdout",
     "output_type": "stream",
     "text": [
      "Error in signal y: 0.19237278410798186\n",
      "Error in filter: 0.9935443659741116\n"
     ]
    },
    {
     "data": {
      "text/plain": [
       "(0.19237278410798186, 0.9935443659741116)"
      ]
     },
     "execution_count": 72,
     "metadata": {},
     "output_type": "execute_result"
    }
   ],
   "source": [
    "Ys_hat_iter = Hs_iter @ Xs_test\n",
    "err_ys_iter, err_Hs_iter = error_metrics(Ys_hat_iter, Ys_test, Hs_iter, Hs_gt)\n",
    "#models.append(\"VARMA-RGFI\"); errs_y.append(err_mult_iter); errs_H.append(err_Hs_mult_iter)\n",
    "err_ys_iter, err_Hs_iter"
   ]
  }
 ],
 "metadata": {
  "kernelspec": {
   "display_name": "Python 3.8.10 64-bit",
   "language": "python",
   "name": "python3"
  },
  "language_info": {
   "codemirror_mode": {
    "name": "ipython",
    "version": 3
   },
   "file_extension": ".py",
   "mimetype": "text/x-python",
   "name": "python",
   "nbconvert_exporter": "python",
   "pygments_lexer": "ipython3",
   "version": "3.8.10"
  },
  "orig_nbformat": 4,
  "vscode": {
   "interpreter": {
    "hash": "916dbcbb3f70747c44a77c7bcd40155683ae19c65e1c03b4aa3499c5328201f1"
   }
  }
 },
 "nbformat": 4,
 "nbformat_minor": 2
}
