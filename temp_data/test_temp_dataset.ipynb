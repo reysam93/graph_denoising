{
 "cells": [
  {
   "cell_type": "code",
   "execution_count": 81,
   "metadata": {},
   "outputs": [],
   "source": [
    "import numpy as np\n",
    "\n",
    "import cvxpy as cp\n",
    "import matplotlib.pyplot as plt\n",
    "import sys\n",
    "sys.path.append('..')\n",
    "import opt\n",
    "import robustAR_opt\n",
    "from data import pert_S"
   ]
  },
  {
   "cell_type": "code",
   "execution_count": 82,
   "metadata": {},
   "outputs": [],
   "source": [
    "def error_metrics(Y_hat, Y_test, H=None, H_gt=None, print_results=True):\n",
    "    # Normalized error\n",
    "    if Y_test.ndim == 2:\n",
    "        norm_y = (Y_test**2).sum(1)#np.sqrt((Y_test**2).sum(1))\n",
    "        err_y = np.mean(((Y_test - Y_hat)**2).sum(1) / norm_y)\n",
    "    else:\n",
    "        norm_y = (Y_test**2).sum((1,2))#np.sqrt((Y_test**2).sum(1))\n",
    "        err_y = np.mean(((Y_test - Y_hat)**2).sum((1,2)) / norm_y)\n",
    "    \n",
    "    if print_results:\n",
    "        print(f\"Error in signal y: {err_y}\")\n",
    "\n",
    "    if H is not None and H_gt is not None:\n",
    "        # Error wrt ground truth filter\n",
    "        if H.ndim == 3: # Several filters\n",
    "            norm_H = (H_gt**2).sum((1,2))\n",
    "            err_H = np.mean(((H - H_gt)**2).sum((1,2)) / norm_H)\n",
    "        else:\n",
    "            norm_H = (H_gt**2).sum()\n",
    "            err_H = ((H - H_gt)**2).sum() / norm_H\n",
    "\n",
    "        if print_results:\n",
    "            print(f\"Error in filter: {err_H}\")\n",
    "        return err_y, err_H\n",
    "\n",
    "    return err_y"
   ]
  },
  {
   "cell_type": "code",
   "execution_count": 83,
   "metadata": {},
   "outputs": [],
   "source": [
    "def plot_filters(Hs):\n",
    "    if Hs.ndim == 3:\n",
    "        n_filt = Hs.shape[0]\n",
    "    else:\n",
    "        n_filt = 1\n",
    "    f, ax = plt.subplots(1, n_filt, figsize=(12,8))\n",
    "\n",
    "    if n_filt > 1:\n",
    "        for i in range(n_filt):    \n",
    "            ax[i].imshow(Hs[i,:,:])\n",
    "    else:\n",
    "        ax.imshow(Hs)"
   ]
  },
  {
   "cell_type": "markdown",
   "metadata": {},
   "source": [
    "# Parameters"
   ]
  },
  {
   "cell_type": "code",
   "execution_count": 84,
   "metadata": {},
   "outputs": [],
   "source": [
    "pert_graph = False\n",
    "mean_std_norm = False\n",
    "norm_data = False\n",
    "diff = False\n",
    "monthly_mean = False\n",
    "n_steps = 1\n",
    "train_test_split = 0.5\n",
    "random_train_test = False\n",
    "P = 2"
   ]
  },
  {
   "cell_type": "markdown",
   "metadata": {},
   "source": [
    "# Reading the data"
   ]
  },
  {
   "cell_type": "code",
   "execution_count": 85,
   "metadata": {},
   "outputs": [],
   "source": [
    "#data = np.load('data_temp/temperatures2003_mod_knn8_N40.npz')\n",
    "#data = np.load('data_temp/temperatures2018_knn8_N28.npz') # 54 or 28 for only valid values, 36 for invalid values as well\n",
    "#data = np.load('data_temp/temperatures2018_knn5_N31.npz')\n",
    "data = np.load('data_temp/temperatures2017-18_knn5_N19.npz')"
   ]
  },
  {
   "cell_type": "code",
   "execution_count": 86,
   "metadata": {},
   "outputs": [],
   "source": [
    "A = data['A_bin']\n",
    "\n",
    "if pert_graph:\n",
    "    A = pert_S(A, eps=0.1) # Using default parameters rewire 10% of total links\n",
    "\n",
    "norm_A = np.sqrt((A**2).sum())"
   ]
  },
  {
   "cell_type": "code",
   "execution_count": 87,
   "metadata": {},
   "outputs": [],
   "source": [
    "temp_info = data['temps'] # data['X']\n",
    "\n",
    "if mean_std_norm:\n",
    "    temp_info -= np.mean(temp_info, 1)[:,None]\n",
    "    temp_info /= np.std(temp_info, 1)[:,None]\n",
    "\n",
    "if diff:\n",
    "    temp_info = np.diff(temp_info, axis=1) / temp_info[:,:1]\n",
    "\n",
    "if norm_data:\n",
    "    temp_info = temp_info / np.sqrt((temp_info**2).sum(1))[:,None]\n",
    "\n",
    "if monthly_mean:\n",
    "    n_days = 30\n",
    "\n",
    "    def moving_average(a, n=2) :\n",
    "        ret = np.cumsum(a, dtype=float)\n",
    "        ret[n:] = ret[n:] - ret[:-n]\n",
    "        return ret[n - 1:] / n\n",
    "\n",
    "    month_mean = np.apply_along_axis(moving_average, 1, temp_info, n_days)\n",
    "    month_mean_padded = np.pad(month_mean, [(0,0), (n_days-1,0)], 'edge')\n",
    "    assert month_mean_padded.shape == temp_info.shape, \"Something went wrong calculating rolling mean\"\n",
    "\n",
    "    temp_info -= month_mean_padded"
   ]
  },
  {
   "cell_type": "code",
   "execution_count": 88,
   "metadata": {},
   "outputs": [],
   "source": [
    "Y = temp_info[:,n_steps:].copy()\n",
    "X = temp_info[:,:-n_steps].copy()\n",
    "N, N_dates = X.shape"
   ]
  },
  {
   "cell_type": "code",
   "execution_count": 89,
   "metadata": {},
   "outputs": [
    {
     "data": {
      "text/plain": [
       "((19, 364), (19, 364), (19, 365), 729)"
      ]
     },
     "execution_count": 89,
     "metadata": {},
     "output_type": "execute_result"
    }
   ],
   "source": [
    "if random_train_test:\n",
    "    idxs = np.random.permutation(N_dates)\n",
    "else:\n",
    "    idxs = np.arange(N_dates)\n",
    "\n",
    "idxs_train = idxs[:int(train_test_split*N_dates)]\n",
    "idxs_test = idxs[int(train_test_split*N_dates):]\n",
    "\n",
    "X_train = X[:,idxs_train]\n",
    "Y_train = Y[:,idxs_train]\n",
    "X_test = X[:,idxs_test]\n",
    "Y_test = Y[:,idxs_test]\n",
    "X_train.shape, Y_train.shape, X_test.shape, N_dates"
   ]
  },
  {
   "cell_type": "code",
   "execution_count": 90,
   "metadata": {},
   "outputs": [],
   "source": [
    "Xs = np.array([temp_info[:,p:-(n_steps-1)-P+p] for p in range(P)])\n",
    "Y_mult = temp_info[:,P+(n_steps-1):]\n",
    "N_dates_mult = Y_mult.shape[1]\n",
    "Xs.shape, Y_mult.shape\n",
    "idxs_mult = idxs.copy() # Using same split as in the previous cases, but needs to be adapted\n",
    "for p in range(0,P): # Deleting invalid occurrences for this case\n",
    "    idxs_mult = idxs_mult[idxs_mult != p]\n",
    "idxs_mult -= (P-1)\n",
    "assert max(idxs_mult) == N_dates_mult - 1\n",
    "\n",
    "idxs_train = idxs_mult[:int(train_test_split*N_dates_mult)]\n",
    "idxs_test = idxs_mult[int(train_test_split*N_dates_mult):]\n",
    "Xs_train = Xs[:,:,idxs_train]\n",
    "Xs_test = Xs[:,:,idxs_test]\n",
    "Y_mult_train = Y_mult[:,idxs_train]\n",
    "Y_mult_test = Y_mult[:,idxs_test]"
   ]
  },
  {
   "cell_type": "markdown",
   "metadata": {},
   "source": [
    "# Models"
   ]
  },
  {
   "cell_type": "code",
   "execution_count": 91,
   "metadata": {},
   "outputs": [],
   "source": [
    "models = []\n",
    "errs_y = []\n",
    "errs_H = []"
   ]
  },
  {
   "cell_type": "code",
   "execution_count": 92,
   "metadata": {},
   "outputs": [],
   "source": [
    "# Ground truth obtained using Least squares over all samples\n",
    "H = cp.Variable((N,N))\n",
    "obj = cp.sum_squares(Y_test - H @ X_test)\n",
    "prob = cp.Problem(cp.Minimize(obj))\n",
    "prob.solve()\n",
    "H_gt = H.value"
   ]
  },
  {
   "cell_type": "code",
   "execution_count": 93,
   "metadata": {},
   "outputs": [
    {
     "name": "stdout",
     "output_type": "stream",
     "text": [
      "Error in signal y: 0.002432455231403666\n",
      "Error in filter: 0.0\n"
     ]
    }
   ],
   "source": [
    "y_ls_perf = H_gt @ X_test\n",
    "err_ls_per, err_H_ls_per = error_metrics(y_ls_perf, Y_test, H_gt, H_gt)\n",
    "models.append(\"LS-Perfect (LB)\"); errs_y.append(err_ls_per)"
   ]
  },
  {
   "cell_type": "code",
   "execution_count": 94,
   "metadata": {},
   "outputs": [
    {
     "data": {
      "image/png": "[encoded data removed]",
      "text/plain": [
       "<Figure size 864x576 with 1 Axes>"
      ]
     },
     "metadata": {
      "needs_background": "light"
     },
     "output_type": "display_data"
    }
   ],
   "source": [
    "plot_filters(H_gt)"
   ]
  },
  {
   "cell_type": "markdown",
   "metadata": {},
   "source": [
    "## Toy models for comparison"
   ]
  },
  {
   "cell_type": "code",
   "execution_count": 95,
   "metadata": {},
   "outputs": [
    {
     "name": "stdout",
     "output_type": "stream",
     "text": [
      "Error in signal y: 0.04945992783630078\n"
     ]
    }
   ],
   "source": [
    "Y_random = Y_test.std(1)[:,None] * np.random.randn(*Y_test.shape) + Y_test.mean(1)[:,None]\n",
    "err_random = error_metrics(Y_random, Y_test)\n",
    "#models.append(\"Random Return\"); errs_y.append(err_random)"
   ]
  },
  {
   "cell_type": "code",
   "execution_count": 96,
   "metadata": {},
   "outputs": [
    {
     "name": "stdout",
     "output_type": "stream",
     "text": [
      "Error in signal y: 1.0\n"
     ]
    }
   ],
   "source": [
    "Y_zeros = np.zeros(Y_test.shape)\n",
    "err_zeros = error_metrics(Y_zeros, Y_test)\n",
    "#models.append(\"Zero Return\"); errs_y.append(err_zeros)"
   ]
  },
  {
   "cell_type": "code",
   "execution_count": 97,
   "metadata": {},
   "outputs": [
    {
     "name": "stdout",
     "output_type": "stream",
     "text": [
      "Error in signal y: 0.003128289310694482\n"
     ]
    }
   ],
   "source": [
    "# Identity - copying the temperature from the previous day\n",
    "H_eye = np.eye(N)\n",
    "Y_eye = H_eye @ X_test\n",
    "err_eye = error_metrics(Y_eye, Y_test)\n",
    "models.append(\"Copy Prev Day\"); errs_y.append(err_eye)"
   ]
  },
  {
   "cell_type": "markdown",
   "metadata": {},
   "source": [
    "## Least squares"
   ]
  },
  {
   "cell_type": "code",
   "execution_count": 98,
   "metadata": {},
   "outputs": [],
   "source": [
    "# Least squares\n",
    "H = cp.Variable((N,N))#, symmetric=True)\n",
    "obj = cp.sum_squares(Y_train - H @ X_train)\n",
    "prob = cp.Problem(cp.Minimize(obj))\n",
    "prob.solve()\n",
    "H_ls = H.value"
   ]
  },
  {
   "cell_type": "code",
   "execution_count": 99,
   "metadata": {},
   "outputs": [
    {
     "name": "stdout",
     "output_type": "stream",
     "text": [
      "Error in signal y: 0.002930381748919494\n",
      "Error in filter: 0.8678883590507872\n"
     ]
    }
   ],
   "source": [
    "Y_hat_ls = H_ls @ X_test\n",
    "err_y_ls, err_H_ls = error_metrics(Y_hat_ls, Y_test, H_ls, H_gt)\n",
    "models.append(\"Least Squares\"); errs_y.append(err_y_ls); errs_H.append(err_H_ls)"
   ]
  },
  {
   "cell_type": "code",
   "execution_count": 100,
   "metadata": {},
   "outputs": [
    {
     "data": {
      "image/png": "[encoded data removed]",
      "text/plain": [
       "<Figure size 864x576 with 1 Axes>"
      ]
     },
     "metadata": {
      "needs_background": "light"
     },
     "output_type": "display_data"
    }
   ],
   "source": [
    "plot_filters(H_ls)"
   ]
  },
  {
   "cell_type": "code",
   "execution_count": 101,
   "metadata": {},
   "outputs": [],
   "source": [
    "# Least squares postulating it is a graph filter\n",
    "K = 5\n",
    "Spow = np.array([np.linalg.matrix_power(A, k) for k in range(K)])\n",
    "h = cp.Variable(K)\n",
    "obj = cp.sum_squares(Y_train - cp.sum([h[k] * Spow[k,:,:] for k in range(K)]) @ X_train)\n",
    "prob = cp.Problem(cp.Minimize(obj))\n",
    "prob.solve()\n",
    "h = h.value\n",
    "H_ls_gf = np.sum([h[k] * Spow[k,:,:] for k in range(K)], 0)"
   ]
  },
  {
   "cell_type": "code",
   "execution_count": 102,
   "metadata": {},
   "outputs": [
    {
     "name": "stdout",
     "output_type": "stream",
     "text": [
      "Error in signal y: 0.003077991302572691\n",
      "Error in filter: 0.9784011436614154\n"
     ]
    }
   ],
   "source": [
    "Y_hat_ls_gf = H_ls_gf @ X_test\n",
    "err_y_ls_gf, err_H_ls_gf = error_metrics(Y_hat_ls_gf, Y_test, H_ls_gf, H_gt)\n",
    "models.append(\"Least Squares-GF\"); errs_y.append(err_y_ls_gf); errs_H.append(err_H_ls_gf)"
   ]
  },
  {
   "cell_type": "code",
   "execution_count": 103,
   "metadata": {},
   "outputs": [
    {
     "data": {
      "image/png": "[encoded data removed]",
      "text/plain": [
       "<Figure size 864x576 with 1 Axes>"
      ]
     },
     "metadata": {
      "needs_background": "light"
     },
     "output_type": "display_data"
    }
   ],
   "source": [
    "plot_filters(H_ls_gf)"
   ]
  },
  {
   "cell_type": "markdown",
   "metadata": {},
   "source": [
    "## Iterative (robust) algorithms"
   ]
  },
  {
   "cell_type": "code",
   "execution_count": 104,
   "metadata": {},
   "outputs": [],
   "source": [
    "args = [0.4, 0.008, 0.0005, 3.]\n",
    "args = [0., 0., 0., 2.5]\n",
    "args_no_st = [0.03, 0.005, 0., 3.5]\n",
    "args_rew = [0.2, 0.1, 0.001, 0.0001, 1.1]\n",
    "args_rew_no_st = [0.1, 0.08, 0., 5e-4, 1.]"
   ]
  },
  {
   "cell_type": "code",
   "execution_count": 105,
   "metadata": {},
   "outputs": [],
   "source": [
    "X_norm = (X_train.T - np.mean(X_train.T, axis=0))/np.std(X_train.T, axis=0)\n",
    "\n",
    "C = np.cov(X_norm.T)"
   ]
  },
  {
   "cell_type": "code",
   "execution_count": 106,
   "metadata": {},
   "outputs": [],
   "source": [
    "iter, H_iter, S_iter = opt.estH_iter(X, Y, A, C, args)"
   ]
  },
  {
   "cell_type": "code",
   "execution_count": 107,
   "metadata": {},
   "outputs": [
    {
     "data": {
      "image/png": "[encoded data removed]",
      "text/plain": [
       "<Figure size 864x576 with 1 Axes>"
      ]
     },
     "metadata": {
      "needs_background": "light"
     },
     "output_type": "display_data"
    }
   ],
   "source": [
    "plot_filters(H_iter)"
   ]
  },
  {
   "cell_type": "code",
   "execution_count": 108,
   "metadata": {},
   "outputs": [
    {
     "name": "stdout",
     "output_type": "stream",
     "text": [
      "Error in signal y: 0.0027882345974574166\n",
      "Error in filter: 0.771823774463624\n"
     ]
    }
   ],
   "source": [
    "Y_hat_iter = H_iter @ X_test\n",
    "err_iter, err_H_iter = error_metrics(Y_hat_iter, Y_test, H_iter, H_gt)\n",
    "models.append(\"RGFI\"); errs_y.append(err_iter); errs_H.append(err_H_iter)"
   ]
  },
  {
   "cell_type": "code",
   "execution_count": 109,
   "metadata": {},
   "outputs": [],
   "source": [
    "iter, H_iter_rew, S_iter_rew = opt.estH_iter_rew(X, Y, A, C, args_rew)"
   ]
  },
  {
   "cell_type": "code",
   "execution_count": 110,
   "metadata": {},
   "outputs": [
    {
     "data": {
      "image/png": "[encoded data removed]",
      "text/plain": [
       "<Figure size 864x576 with 1 Axes>"
      ]
     },
     "metadata": {
      "needs_background": "light"
     },
     "output_type": "display_data"
    }
   ],
   "source": [
    "plot_filters(H_iter_rew)"
   ]
  },
  {
   "cell_type": "code",
   "execution_count": 111,
   "metadata": {},
   "outputs": [
    {
     "name": "stdout",
     "output_type": "stream",
     "text": [
      "Error in signal y: 0.002964236351749006\n",
      "Error in filter: 0.8537055545009706\n"
     ]
    }
   ],
   "source": [
    "Y_hat_iter_rew = H_iter_rew @ X_test\n",
    "err_iter_rew, err_H_iter_rew = error_metrics(Y_hat_iter_rew, Y_test, H_iter_rew, H_gt)\n",
    "models.append(\"RGFI-REW\"); errs_y.append(err_iter_rew); errs_H.append(err_H_iter_rew)"
   ]
  },
  {
   "cell_type": "code",
   "execution_count": 112,
   "metadata": {},
   "outputs": [
    {
     "data": {
      "text/plain": [
       "25.700565149809105"
      ]
     },
     "execution_count": 112,
     "metadata": {},
     "output_type": "execute_result"
    }
   ],
   "source": [
    "((S_iter - A)**2).sum()"
   ]
  },
  {
   "cell_type": "code",
   "execution_count": 113,
   "metadata": {},
   "outputs": [
    {
     "data": {
      "text/plain": [
       "<matplotlib.image.AxesImage at 0x7fde1fdc07f0>"
      ]
     },
     "execution_count": 113,
     "metadata": {},
     "output_type": "execute_result"
    },
    {
     "data": {
      "image/png": "[encoded data removed]",
      "text/plain": [
       "<Figure size 432x288 with 1 Axes>"
      ]
     },
     "metadata": {
      "needs_background": "light"
     },
     "output_type": "display_data"
    }
   ],
   "source": [
    "plt.imshow(S_iter)"
   ]
  },
  {
   "cell_type": "markdown",
   "metadata": {},
   "source": [
    "# Multiple filters ARMA model"
   ]
  },
  {
   "cell_type": "code",
   "execution_count": 114,
   "metadata": {},
   "outputs": [],
   "source": [
    "Hs = [cp.Variable((N, N)) for _ in range(P)]\n",
    "obj = cp.sum_squares(Y_mult_test - cp.sum([Hs[p] @ Xs_test[p,:,:] for p in range(P)]))\n",
    "prob = cp.Problem(cp.Minimize(obj))\n",
    "prob.solve()\n",
    "Hs_gt = np.array([Hs[p].value for p in range(P)])"
   ]
  },
  {
   "cell_type": "code",
   "execution_count": 115,
   "metadata": {},
   "outputs": [
    {
     "name": "stdout",
     "output_type": "stream",
     "text": [
      "Error in signal y: 0.001937735863137052\n"
     ]
    }
   ],
   "source": [
    "Y_hat_perf = np.sum(Hs_gt @ Xs_test, 0)\n",
    "err_mult_per = error_metrics(Y_hat_perf, Y_mult_test)\n",
    "models.append(\"VAR-LS-Perfect\"); errs_y.append(err_mult_per)"
   ]
  },
  {
   "cell_type": "code",
   "execution_count": 116,
   "metadata": {},
   "outputs": [
    {
     "data": {
      "image/png": "[encoded data removed]",
      "text/plain": [
       "<Figure size 864x576 with 2 Axes>"
      ]
     },
     "metadata": {
      "needs_background": "light"
     },
     "output_type": "display_data"
    }
   ],
   "source": [
    "plot_filters(Hs_gt)"
   ]
  },
  {
   "cell_type": "markdown",
   "metadata": {},
   "source": [
    "## Least squares"
   ]
  },
  {
   "cell_type": "code",
   "execution_count": 117,
   "metadata": {},
   "outputs": [],
   "source": [
    "Hs = [cp.Variable((N, N)) for _ in range(P)]\n",
    "obj = cp.sum_squares(Y_mult_train - cp.sum([Hs[p] @ Xs_train[p,:,:] for p in range(P)]))\n",
    "prob = cp.Problem(cp.Minimize(obj))\n",
    "prob.solve()\n",
    "Hs_ls = np.array([Hs[p].value for p in range(P)])"
   ]
  },
  {
   "cell_type": "code",
   "execution_count": 118,
   "metadata": {},
   "outputs": [
    {
     "name": "stdout",
     "output_type": "stream",
     "text": [
      "Error in signal y: 0.002615652750427505\n",
      "Error in filter: 0.9013309602848174\n"
     ]
    }
   ],
   "source": [
    "Y_hat_mult_ls = np.sum(Hs_ls @ Xs_test, 0)\n",
    "err_mult_ls, err_H_mult_ls = error_metrics(Y_hat_mult_ls, Y_mult_test, Hs_ls, Hs_gt)\n",
    "models.append(\"VAR-LS\"); errs_y.append(err_mult_ls); errs_H.append(err_H_mult_ls)"
   ]
  },
  {
   "cell_type": "code",
   "execution_count": 119,
   "metadata": {},
   "outputs": [
    {
     "data": {
      "image/png": "[encoded data removed]",
      "text/plain": [
       "<Figure size 864x576 with 2 Axes>"
      ]
     },
     "metadata": {
      "needs_background": "light"
     },
     "output_type": "display_data"
    }
   ],
   "source": [
    "plot_filters(Hs_ls)"
   ]
  },
  {
   "cell_type": "code",
   "execution_count": 120,
   "metadata": {},
   "outputs": [],
   "source": [
    "# Least squares postulating it is a graph filter\n",
    "K = 5\n",
    "hs = [cp.Variable(K) for _ in range(P)]\n",
    "Hs = [cp.sum([hs[p][k] * Spow[k,:,:] for k in range(K)]) for p in range(P)]\n",
    "obj = cp.sum_squares(Y_mult_train - cp.sum([Hs[p] @ Xs_train[p,:,:] for p in range(P)]))\n",
    "prob = cp.Problem(cp.Minimize(obj))\n",
    "prob.solve()\n",
    "hs_ls = np.array([hs[p].value for p in range(P)])\n",
    "Hs_ls_gf = np.array([np.sum([hs_ls[p,k] * Spow[k,:,:] for k in range(5)], 0) for p in range(P)])"
   ]
  },
  {
   "cell_type": "code",
   "execution_count": 121,
   "metadata": {},
   "outputs": [
    {
     "name": "stdout",
     "output_type": "stream",
     "text": [
      "Error in signal y: 0.0030244167910526793\n",
      "Error in filter: 0.9658066865367847\n"
     ]
    }
   ],
   "source": [
    "Y_hat_mult_ls_gf = np.sum(Hs_ls_gf @ Xs_test, 0)\n",
    "err_y_mult_ls_gf, err_H_mult_ls_gf = error_metrics(Y_hat_mult_ls_gf, Y_mult_test, Hs_ls_gf, Hs_gt)\n",
    "models.append(\"VAR-LS-GF\"); errs_y.append(err_y_mult_ls_gf); errs_H.append(err_H_mult_ls_gf)"
   ]
  },
  {
   "cell_type": "code",
   "execution_count": 122,
   "metadata": {},
   "outputs": [
    {
     "data": {
      "image/png": "[encoded data removed]",
      "text/plain": [
       "<Figure size 864x576 with 2 Axes>"
      ]
     },
     "metadata": {
      "needs_background": "light"
     },
     "output_type": "display_data"
    }
   ],
   "source": [
    "plot_filters(Hs_ls_gf)"
   ]
  },
  {
   "cell_type": "markdown",
   "metadata": {},
   "source": [
    "## Iterative (robust) algorithms"
   ]
  },
  {
   "cell_type": "code",
   "execution_count": 123,
   "metadata": {},
   "outputs": [],
   "source": [
    "from robustARMA_opt import estHs_iter, estHs_iter_rew"
   ]
  },
  {
   "cell_type": "code",
   "execution_count": 124,
   "metadata": {},
   "outputs": [],
   "source": [
    "args = [0.2, 1e-3, 0.02, 1.6]\n",
    "args_no_st = [0.4, 1e-3, 0., 1.5]\n",
    "args_rew = [0.07, 1e-3, 0.1, 5e-4, 3.]\n",
    "args_rew_no_st = [0.02, 1e-4, 0., 5e-4, 2.]"
   ]
  },
  {
   "cell_type": "code",
   "execution_count": 125,
   "metadata": {},
   "outputs": [],
   "source": [
    "iter, Hs_iter, Ss_iter = estHs_iter(Xs_train, Y_mult_train, A, C, args)"
   ]
  },
  {
   "cell_type": "code",
   "execution_count": 126,
   "metadata": {},
   "outputs": [
    {
     "data": {
      "text/plain": [
       "(1.2995338261803786, 1.2995338261803786)"
      ]
     },
     "execution_count": 126,
     "metadata": {},
     "output_type": "execute_result"
    }
   ],
   "source": [
    "((Ss_iter - A)**2).sum() / norm_A, ((Ss_iter - data['A_bin'])**2).sum() / norm_A"
   ]
  },
  {
   "cell_type": "code",
   "execution_count": 127,
   "metadata": {},
   "outputs": [
    {
     "data": {
      "image/png": "[encoded data removed]",
      "text/plain": [
       "<Figure size 864x576 with 2 Axes>"
      ]
     },
     "metadata": {
      "needs_background": "light"
     },
     "output_type": "display_data"
    }
   ],
   "source": [
    "plot_filters(Hs_iter)"
   ]
  },
  {
   "cell_type": "code",
   "execution_count": 128,
   "metadata": {},
   "outputs": [
    {
     "name": "stdout",
     "output_type": "stream",
     "text": [
      "Error in signal y: 0.0028075100853797675\n",
      "Error in filter: 0.9234539157519333\n"
     ]
    }
   ],
   "source": [
    "Y_hat_mult_iter = np.sum(Hs_iter @ Xs_test, 0)\n",
    "err_mult_iter, err_Hs_mult_iter = error_metrics(Y_hat_mult_iter, Y_mult_test, Hs_iter, Hs_gt)\n",
    "models.append(\"VAR-RGFI\"); errs_y.append(err_mult_iter); errs_H.append(err_Hs_mult_iter)"
   ]
  },
  {
   "cell_type": "code",
   "execution_count": 129,
   "metadata": {},
   "outputs": [],
   "source": [
    "iter, Hs_iter_rew, Ss_iter_rew = estHs_iter_rew(Xs_train, Y_mult_train, A, C, args_rew)"
   ]
  },
  {
   "cell_type": "code",
   "execution_count": 130,
   "metadata": {},
   "outputs": [
    {
     "data": {
      "text/plain": [
       "(2.3175240133387742, 2.3175240133387742)"
      ]
     },
     "execution_count": 130,
     "metadata": {},
     "output_type": "execute_result"
    }
   ],
   "source": [
    "((Ss_iter_rew - A)**2).sum() / norm_A, ((Ss_iter_rew - data['A_bin'])**2).sum() / norm_A"
   ]
  },
  {
   "cell_type": "code",
   "execution_count": 131,
   "metadata": {},
   "outputs": [
    {
     "data": {
      "image/png": "[encoded data removed]",
      "text/plain": [
       "<Figure size 864x576 with 2 Axes>"
      ]
     },
     "metadata": {
      "needs_background": "light"
     },
     "output_type": "display_data"
    }
   ],
   "source": [
    "plot_filters(Hs_iter_rew)"
   ]
  },
  {
   "cell_type": "code",
   "execution_count": 132,
   "metadata": {},
   "outputs": [
    {
     "name": "stdout",
     "output_type": "stream",
     "text": [
      "Error in signal y: 0.0028284519792763658\n",
      "Error in filter: 0.9322897957890546\n"
     ]
    }
   ],
   "source": [
    "Y_hat_mult_iter_rew = np.sum(Hs_iter_rew @ Xs_test, 0)\n",
    "err_mult_iter_rew, err_Hs_mult_iter_rew = error_metrics(Y_hat_mult_iter_rew, Y_mult_test, Hs_iter_rew, Hs_gt)\n",
    "models.append(\"VAR-RGFI-REW\"); errs_y.append(err_mult_iter_rew); errs_H.append(err_Hs_mult_iter_rew)"
   ]
  }
 ],
 "metadata": {
  "kernelspec": {
   "display_name": "Python 3.8.10 64-bit",
   "language": "python",
   "name": "python3"
  },
  "language_info": {
   "codemirror_mode": {
    "name": "ipython",
    "version": 3
   },
   "file_extension": ".py",
   "mimetype": "text/x-python",
   "name": "python",
   "nbconvert_exporter": "python",
   "pygments_lexer": "ipython3",
   "version": "3.8.10"
  },
  "orig_nbformat": 4,
  "vscode": {
   "interpreter": {
    "hash": "916dbcbb3f70747c44a77c7bcd40155683ae19c65e1c03b4aa3499c5328201f1"
   }
  }
 },
 "nbformat": 4,
 "nbformat_minor": 2
}
