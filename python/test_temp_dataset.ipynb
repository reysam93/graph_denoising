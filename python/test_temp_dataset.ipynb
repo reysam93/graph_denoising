{
 "cells": [
  {
   "cell_type": "code",
   "execution_count": 339,
   "metadata": {},
   "outputs": [],
   "source": [
    "import numpy as np\n",
    "\n",
    "import cvxpy as cp\n",
    "import matplotlib.pyplot as plt\n",
    "import opt\n",
    "import robustARMA_opt"
   ]
  },
  {
   "cell_type": "code",
   "execution_count": 340,
   "metadata": {},
   "outputs": [],
   "source": [
    "def error_metrics(Y_hat, Y_test, H=None, H_gt=None, print_results=True):\n",
    "    # Normalized error\n",
    "    if Y_test.ndim == 2:\n",
    "        norm_y = (Y_test**2).sum(1)#np.sqrt((Y_test**2).sum(1))\n",
    "        err_y = np.mean(((Y_test - Y_hat)**2).sum(1) / norm_y)\n",
    "    else:\n",
    "        norm_y = (Y_test**2).sum((1,2))#np.sqrt((Y_test**2).sum(1))\n",
    "        err_y = np.mean(((Y_test - Y_hat)**2).sum((1,2)) / norm_y)\n",
    "    \n",
    "    if print_results:\n",
    "        print(f\"Error in signal y: {err_y}\")\n",
    "\n",
    "    if H is not None and H_gt is not None:\n",
    "        # Error wrt ground truth filter\n",
    "        if H.ndim == 3: # Several filters\n",
    "            norm_H = (H_gt**2).sum((1,2))\n",
    "            err_H = np.mean(((H - H_gt)**2).sum((1,2)) / norm_H)\n",
    "        else:\n",
    "            norm_H = (H_gt**2).sum()\n",
    "            err_H = ((H - H_gt)**2).sum() / norm_H\n",
    "\n",
    "        if print_results:\n",
    "            print(f\"Error in filter: {err_H}\")\n",
    "        return err_y, err_H\n",
    "\n",
    "    return err_y"
   ]
  },
  {
   "cell_type": "code",
   "execution_count": 341,
   "metadata": {},
   "outputs": [],
   "source": [
    "def plot_filters(Hs):\n",
    "    if Hs.ndim == 3:\n",
    "        n_filt = Hs.shape[0]\n",
    "    else:\n",
    "        n_filt = 1\n",
    "    f, ax = plt.subplots(1, n_filt, figsize=(12,8))\n",
    "\n",
    "    if n_filt > 1:\n",
    "        for i in range(n_filt):    \n",
    "            ax[i].imshow(Hs[i,:,:])\n",
    "    else:\n",
    "        ax.imshow(Hs)"
   ]
  },
  {
   "cell_type": "markdown",
   "metadata": {},
   "source": [
    "# Reading the data"
   ]
  },
  {
   "cell_type": "code",
   "execution_count": 342,
   "metadata": {},
   "outputs": [],
   "source": [
    "#data = np.load('data_temp/temperatures2003_mod_knn8_N40.npz')\n",
    "data = np.load('data_temp/temperatures2018_knn8_N28.npz') # 54 or 28 for only valid values, 36 for invalid values as well"
   ]
  },
  {
   "cell_type": "code",
   "execution_count": 343,
   "metadata": {},
   "outputs": [],
   "source": [
    "A = data['A_bin']\n",
    "temp_info = data['temps'] # data['X']\n",
    "\n",
    "norm_data = False\n",
    "if norm_data:\n",
    "    temp_info -= np.mean(temp_info, 1)[:,None]\n",
    "    temp_info /= np.std(temp_info, 1)[:,None]\n",
    "\n",
    "diff = False\n",
    "if diff:\n",
    "    temp_info = np.diff(temp_info, axis=1) / temp_info[:,:1]\n",
    "\n",
    "Y = temp_info[:,1:]\n",
    "X = temp_info[:,:-1]\n",
    "N, N_dates = X.shape"
   ]
  },
  {
   "cell_type": "code",
   "execution_count": 344,
   "metadata": {},
   "outputs": [
    {
     "data": {
      "text/plain": [
       "((28, 181), (28, 181), 363)"
      ]
     },
     "execution_count": 344,
     "metadata": {},
     "output_type": "execute_result"
    }
   ],
   "source": [
    "train_test_split = 0.5\n",
    "\n",
    "random_train_test = False\n",
    "if random_train_test:\n",
    "    idxs = np.random.permutation(N_dates)\n",
    "else:\n",
    "    idxs = np.arange(N_dates)\n",
    "\n",
    "idxs_train = idxs[:int(train_test_split*N_dates)]\n",
    "idxs_test = idxs[int(train_test_split*N_dates):]\n",
    "\n",
    "X_train = X[:,idxs_train]\n",
    "Y_train = Y[:,idxs_train]\n",
    "X_test = X[:,idxs_test]\n",
    "Y_test = Y[:,idxs_test]\n",
    "X_train.shape, Y_train.shape, N_dates"
   ]
  },
  {
   "cell_type": "markdown",
   "metadata": {},
   "source": [
    "# Models"
   ]
  },
  {
   "cell_type": "code",
   "execution_count": 345,
   "metadata": {},
   "outputs": [],
   "source": [
    "models = []\n",
    "errs_y = []\n",
    "errs_H = []"
   ]
  },
  {
   "cell_type": "code",
   "execution_count": 346,
   "metadata": {},
   "outputs": [],
   "source": [
    "# Ground truth obtained using Least squares over all samples\n",
    "H = cp.Variable((N,N))\n",
    "obj = cp.sum_squares(Y_test - H @ X_test)\n",
    "prob = cp.Problem(cp.Minimize(obj))\n",
    "prob.solve()\n",
    "H_gt = H.value"
   ]
  },
  {
   "cell_type": "code",
   "execution_count": 347,
   "metadata": {},
   "outputs": [
    {
     "name": "stdout",
     "output_type": "stream",
     "text": [
      "Error in signal y: 0.6313242740403059\n",
      "Error in filter: 0.0\n"
     ]
    }
   ],
   "source": [
    "y_ls_perf = H_gt @ X_test\n",
    "err_ls_per, err_H_ls_per = error_metrics(y_ls_perf, Y_test, H_gt, H_gt)\n",
    "models.append(\"LS-Perfect (LB)\"); errs_y.append(err_ls_per)"
   ]
  },
  {
   "cell_type": "code",
   "execution_count": null,
   "metadata": {},
   "outputs": [],
   "source": [
    "plot_filters(H_gt)"
   ]
  },
  {
   "cell_type": "markdown",
   "metadata": {},
   "source": [
    "## Toy models for comparison"
   ]
  },
  {
   "cell_type": "code",
   "execution_count": 348,
   "metadata": {},
   "outputs": [
    {
     "name": "stdout",
     "output_type": "stream",
     "text": [
      "Error in signal y: 2.010366691822356\n"
     ]
    }
   ],
   "source": [
    "Y_random = Y_test.std(1)[:,None] * np.random.randn(*Y_test.shape) + Y_test.mean(1)[:,None]\n",
    "err_random = error_metrics(Y_random, Y_test)\n",
    "models.append(\"Random Return\"); errs_y.append(err_random)"
   ]
  },
  {
   "cell_type": "code",
   "execution_count": 349,
   "metadata": {},
   "outputs": [
    {
     "name": "stdout",
     "output_type": "stream",
     "text": [
      "Error in signal y: 1.0\n"
     ]
    }
   ],
   "source": [
    "Y_zeros = np.zeros(Y_test.shape)\n",
    "err_zeros = error_metrics(Y_zeros, Y_test)\n",
    "#models.append(\"Zero Return\"); errs_y.append(err_zeros)"
   ]
  },
  {
   "cell_type": "code",
   "execution_count": 350,
   "metadata": {},
   "outputs": [
    {
     "name": "stdout",
     "output_type": "stream",
     "text": [
      "Error in signal y: 2.043301192416329\n"
     ]
    }
   ],
   "source": [
    "# Identity - copying the temperature from the previous day\n",
    "H_eye = np.eye(N)\n",
    "Y_eye = H_eye @ X_test\n",
    "err_eye = error_metrics(Y_eye, Y_test)\n",
    "models.append(\"Copy Prev Day\"); errs_y.append(err_eye)"
   ]
  },
  {
   "cell_type": "markdown",
   "metadata": {},
   "source": [
    "## Least squares"
   ]
  },
  {
   "cell_type": "code",
   "execution_count": 351,
   "metadata": {},
   "outputs": [],
   "source": [
    "# Least squares\n",
    "H = cp.Variable((N,N))\n",
    "obj = cp.sum_squares(Y_train - H @ X_train)\n",
    "prob = cp.Problem(cp.Minimize(obj))\n",
    "prob.solve()\n",
    "H_ls = H.value"
   ]
  },
  {
   "cell_type": "code",
   "execution_count": 352,
   "metadata": {},
   "outputs": [
    {
     "name": "stdout",
     "output_type": "stream",
     "text": [
      "Error in signal y: 1.3520567613264143\n",
      "Error in filter: 3.674564893805842\n"
     ]
    }
   ],
   "source": [
    "Y_hat_ls = H_ls @ X_test\n",
    "err_y_ls, err_H_ls = error_metrics(Y_hat_ls, Y_test, H_ls, H_gt)\n",
    "models.append(\"Least Squares\"); errs_y.append(err_y_ls); errs_H.append(err_H_ls)"
   ]
  },
  {
   "cell_type": "code",
   "execution_count": null,
   "metadata": {},
   "outputs": [],
   "source": [
    "plot_filters(H_ls)"
   ]
  },
  {
   "cell_type": "code",
   "execution_count": 353,
   "metadata": {},
   "outputs": [],
   "source": [
    "# Least squares postulating it is a graph filter\n",
    "K = 5\n",
    "Spow = np.array([np.linalg.matrix_power(A, k) for k in range(K)])\n",
    "h = cp.Variable(K)\n",
    "obj = cp.sum_squares(Y_train - cp.sum([h[k] * Spow[k,:,:] for k in range(K)]) @ X_train)\n",
    "prob = cp.Problem(cp.Minimize(obj))\n",
    "prob.solve()\n",
    "h = h.value\n",
    "H_ls_gf = np.sum([h[k] * Spow[k,:,:] for k in range(K)], 0)"
   ]
  },
  {
   "cell_type": "code",
   "execution_count": 354,
   "metadata": {},
   "outputs": [
    {
     "name": "stdout",
     "output_type": "stream",
     "text": [
      "Error in signal y: 1.0050753373999577\n",
      "Error in filter: 0.959216669830932\n"
     ]
    }
   ],
   "source": [
    "Y_hat_ls_gf = H_ls_gf @ X_test\n",
    "err_y_ls_gf, err_H_ls_gf = error_metrics(Y_hat_ls_gf, Y_test, H_ls_gf, H_gt)\n",
    "models.append(\"Least Squares-GF\"); errs_y.append(err_y_ls_gf); errs_H.append(err_H_ls_gf)"
   ]
  },
  {
   "cell_type": "code",
   "execution_count": null,
   "metadata": {},
   "outputs": [],
   "source": [
    "plot_filters(H_ls_gf)"
   ]
  },
  {
   "cell_type": "markdown",
   "metadata": {},
   "source": [
    "## Iterative (robust) algorithms"
   ]
  },
  {
   "cell_type": "code",
   "execution_count": 355,
   "metadata": {},
   "outputs": [],
   "source": [
    "args = [0.4, 0.008, 0.0005, 3.]\n",
    "args_no_st = [0.03, 0.005, 0., 3.5]\n",
    "args_rew = [0.2, 0.1, 0.001, 0.0001, 1.1]\n",
    "args_rew_no_st = [0.1, 0.08, 0., 5e-4, 1.]"
   ]
  },
  {
   "cell_type": "code",
   "execution_count": 356,
   "metadata": {},
   "outputs": [],
   "source": [
    "X_norm = (X_train.T - np.mean(X_train.T, axis=0))/np.std(X_train.T, axis=0)\n",
    "\n",
    "C = np.cov(X_norm.T)"
   ]
  },
  {
   "cell_type": "code",
   "execution_count": 357,
   "metadata": {},
   "outputs": [],
   "source": [
    "iter, H_iter, S_iter = opt.estH_iter(X, Y, A, C, args)"
   ]
  },
  {
   "cell_type": "code",
   "execution_count": null,
   "metadata": {},
   "outputs": [],
   "source": [
    "plot_filters(H_iter)"
   ]
  },
  {
   "cell_type": "code",
   "execution_count": 358,
   "metadata": {},
   "outputs": [
    {
     "name": "stdout",
     "output_type": "stream",
     "text": [
      "Error in signal y: 0.9698005128408714\n",
      "Error in filter: 0.9122284493357965\n"
     ]
    }
   ],
   "source": [
    "Y_hat_iter = H_iter @ X_test\n",
    "err_iter, err_H_iter = error_metrics(Y_hat_iter, Y_test, H_iter, H_gt)\n",
    "models.append(\"RGFI\"); errs_y.append(err_iter); errs_H.append(err_H_iter)"
   ]
  },
  {
   "cell_type": "code",
   "execution_count": 359,
   "metadata": {},
   "outputs": [],
   "source": [
    "iter, H_iter_rew, S_iter_rew = opt.estH_iter_rew(X, Y, A, C, args_rew)"
   ]
  },
  {
   "cell_type": "code",
   "execution_count": null,
   "metadata": {},
   "outputs": [],
   "source": [
    "plot_filters(H_iter_rew)"
   ]
  },
  {
   "cell_type": "code",
   "execution_count": 360,
   "metadata": {},
   "outputs": [
    {
     "name": "stdout",
     "output_type": "stream",
     "text": [
      "Error in signal y: 0.9731105112671244\n",
      "Error in filter: 0.9176354092002349\n"
     ]
    }
   ],
   "source": [
    "Y_hat_iter_rew = H_iter_rew @ X_test\n",
    "err_iter_rew, err_H_iter_rew = error_metrics(Y_hat_iter_rew, Y_test, H_iter_rew, H_gt)\n",
    "models.append(\"RGFI-REW\"); errs_y.append(err_iter_rew); errs_H.append(err_H_iter_rew)"
   ]
  },
  {
   "cell_type": "code",
   "execution_count": 361,
   "metadata": {},
   "outputs": [
    {
     "data": {
      "text/plain": [
       "3.481874484997651e-10"
      ]
     },
     "execution_count": 361,
     "metadata": {},
     "output_type": "execute_result"
    }
   ],
   "source": [
    "((S_iter - A)**2).sum()"
   ]
  },
  {
   "cell_type": "code",
   "execution_count": 362,
   "metadata": {},
   "outputs": [
    {
     "data": {
      "text/plain": [
       "<matplotlib.image.AxesImage at 0x7fa51b13f6d0>"
      ]
     },
     "execution_count": 362,
     "metadata": {},
     "output_type": "execute_result"
    },
    {
     "data": {
      "image/png": "[encoded data removed]",
      "text/plain": [
       "<Figure size 432x288 with 1 Axes>"
      ]
     },
     "metadata": {
      "needs_background": "light"
     },
     "output_type": "display_data"
    }
   ],
   "source": [
    "plt.imshow(S_iter)"
   ]
  },
  {
   "cell_type": "markdown",
   "metadata": {},
   "source": [
    "# Multiple filters ARMA model"
   ]
  },
  {
   "cell_type": "code",
   "execution_count": 363,
   "metadata": {},
   "outputs": [
    {
     "data": {
      "text/plain": [
       "((2, 28, 362), (28, 362))"
      ]
     },
     "execution_count": 363,
     "metadata": {},
     "output_type": "execute_result"
    }
   ],
   "source": [
    "P = 2\n",
    "Xs = np.array([temp_info[:,p:-P+p] for p in range(P)])\n",
    "Y_mult = temp_info[:,P:]\n",
    "N_dates_mult = Y_mult.shape[1]\n",
    "Xs.shape, Y_mult.shape"
   ]
  },
  {
   "cell_type": "code",
   "execution_count": 364,
   "metadata": {},
   "outputs": [],
   "source": [
    "idxs_mult = idxs.copy() # Using same split as in the previous cases, but needs to be adapted\n",
    "for p in range(N_dates-P, N_dates): # Deleting invalid occurrences for this case\n",
    "    idxs_mult = idxs_mult[idxs_mult != p]\n",
    "idxs_train = idxs_mult[:int(train_test_split*N_dates_mult)]\n",
    "idxs_test = idxs_mult[int(train_test_split*N_dates_mult):]\n",
    "Xs_train = Xs[:,:,idxs_train]\n",
    "Xs_test = Xs[:,:,idxs_test]\n",
    "Y_mult_train = Y_mult[:,idxs_train]\n",
    "Y_mult_test = Y_mult[:,idxs_test]"
   ]
  },
  {
   "cell_type": "code",
   "execution_count": 365,
   "metadata": {},
   "outputs": [],
   "source": [
    "Hs = [cp.Variable((N, N)) for _ in range(P)]\n",
    "obj = cp.sum_squares(Y_mult_test - cp.sum([Hs[p] @ Xs_test[p,:,:] for p in range(P)]))\n",
    "prob = cp.Problem(cp.Minimize(obj))\n",
    "prob.solve()\n",
    "Hs_gt = np.array([Hs[p].value for p in range(P)])"
   ]
  },
  {
   "cell_type": "code",
   "execution_count": 366,
   "metadata": {},
   "outputs": [
    {
     "name": "stdout",
     "output_type": "stream",
     "text": [
      "Error in signal y: 0.4785316615665908\n"
     ]
    }
   ],
   "source": [
    "Y_hat_perf = np.sum(Hs_gt @ Xs_test, 0)\n",
    "err_mult_per = error_metrics(Y_hat_perf, Y_mult_test)\n",
    "models.append(\"VARMA-LS-Perfect\"); errs_y.append(err_mult_per)"
   ]
  },
  {
   "cell_type": "code",
   "execution_count": null,
   "metadata": {},
   "outputs": [],
   "source": [
    "plot_filters(Hs_gt)"
   ]
  },
  {
   "cell_type": "markdown",
   "metadata": {},
   "source": [
    "## Least squares"
   ]
  },
  {
   "cell_type": "code",
   "execution_count": 367,
   "metadata": {},
   "outputs": [],
   "source": [
    "Hs = [cp.Variable((N, N)) for _ in range(P)]\n",
    "obj = cp.sum_squares(Y_mult_train - cp.sum([Hs[p] @ Xs_train[p,:,:] for p in range(P)]))\n",
    "prob = cp.Problem(cp.Minimize(obj))\n",
    "prob.solve()\n",
    "Hs_ls = np.array([Hs[p].value for p in range(P)])"
   ]
  },
  {
   "cell_type": "code",
   "execution_count": 368,
   "metadata": {},
   "outputs": [
    {
     "name": "stdout",
     "output_type": "stream",
     "text": [
      "Error in signal y: 1.694834784873129\n",
      "Error in filter: 3.023338953871269\n"
     ]
    }
   ],
   "source": [
    "Y_hat_mult_ls = np.sum(Hs_ls @ Xs_test, 0)\n",
    "err_mult_ls, err_H_mult_ls = error_metrics(Y_hat_mult_ls, Y_mult_test, Hs_ls, Hs_gt)\n",
    "models.append(\"VARMA-LS\"); errs_y.append(err_mult_ls); errs_H.append(err_H_mult_ls)"
   ]
  },
  {
   "cell_type": "code",
   "execution_count": null,
   "metadata": {},
   "outputs": [],
   "source": [
    "plot_filters(Hs_ls)"
   ]
  },
  {
   "cell_type": "code",
   "execution_count": 369,
   "metadata": {},
   "outputs": [],
   "source": [
    "# Least squares postulating it is a graph filter\n",
    "K = 5\n",
    "hs = [cp.Variable(K) for _ in range(P)]\n",
    "Hs = [cp.sum([hs[p][k] * Spow[k,:,:] for k in range(K)]) for p in range(P)]\n",
    "obj = cp.sum_squares(Y_mult_train - cp.sum([Hs[p] @ Xs_train[p,:,:] for p in range(P)]))\n",
    "prob = cp.Problem(cp.Minimize(obj))\n",
    "prob.solve()\n",
    "hs_ls = np.array([hs[p].value for p in range(P)])\n",
    "H_mult_ls_gf = np.array([np.sum([hs_ls[p,k] * Spow[k,:,:] for k in range(5)], 0) for p in range(P)])"
   ]
  },
  {
   "cell_type": "code",
   "execution_count": 370,
   "metadata": {},
   "outputs": [
    {
     "name": "stdout",
     "output_type": "stream",
     "text": [
      "Error in signal y: 0.9920420331404378\n",
      "Error in filter: 0.9765760023711101\n"
     ]
    }
   ],
   "source": [
    "Y_hat_mult_ls_gf = np.sum(H_mult_ls_gf @ Xs_test, 0)\n",
    "err_y_mult_ls_gf, err_H_mult_ls_gf = error_metrics(Y_hat_mult_ls_gf, Y_mult_test, H_mult_ls_gf, Hs_gt)\n",
    "models.append(\"VARMA-LS-GF\"); errs_y.append(err_y_mult_ls_gf); errs_H.append(err_H_mult_ls_gf)"
   ]
  },
  {
   "cell_type": "code",
   "execution_count": null,
   "metadata": {},
   "outputs": [],
   "source": [
    "plot_filters(Hs_ls_gf)"
   ]
  },
  {
   "cell_type": "markdown",
   "metadata": {},
   "source": [
    "## Iterative (robust) algorithms"
   ]
  },
  {
   "cell_type": "code",
   "execution_count": 371,
   "metadata": {},
   "outputs": [],
   "source": [
    "from robustARMA_opt import estHs_iter, estHs_iter_rew"
   ]
  },
  {
   "cell_type": "code",
   "execution_count": 372,
   "metadata": {},
   "outputs": [],
   "source": [
    "args = [0.2, 1e-3, 0.02, 1.6]\n",
    "args_no_st = [0.4, 1e-3, 0., 1.5]\n",
    "args_rew = [0.07, 1e-3, 0.1, 5e-4, 3.]\n",
    "args_rew_no_st = [0.02, 1e-4, 0., 5e-4, 2.]"
   ]
  },
  {
   "cell_type": "code",
   "execution_count": 373,
   "metadata": {},
   "outputs": [],
   "source": [
    "iter, Hs_iter, Ss_iter = estHs_iter(Xs_train, Y_mult_train, A, C, args)"
   ]
  },
  {
   "cell_type": "code",
   "execution_count": null,
   "metadata": {},
   "outputs": [],
   "source": [
    "plot_filters(Hs_iter)"
   ]
  },
  {
   "cell_type": "code",
   "execution_count": 374,
   "metadata": {},
   "outputs": [
    {
     "name": "stdout",
     "output_type": "stream",
     "text": [
      "Error in signal y: 1.0372015508969674\n",
      "Error in filter: 0.9887339212929308\n"
     ]
    }
   ],
   "source": [
    "Y_hat_mult_iter = np.sum(Hs_iter @ Xs_test, 0)\n",
    "err_mult_iter, err_Hs_mult_iter = error_metrics(Y_hat_mult_iter, Y_mult_test, Hs_iter, Hs_gt)\n",
    "models.append(\"VARMA-RGFI\"); errs_y.append(err_mult_iter); errs_H.append(err_Hs_mult_iter)"
   ]
  },
  {
   "cell_type": "code",
   "execution_count": 375,
   "metadata": {},
   "outputs": [],
   "source": [
    "iter, Hs_iter_rew, Ss_iter_rew = estHs_iter_rew(Xs_train, Y_mult_train, A, C, args_rew)"
   ]
  },
  {
   "cell_type": "code",
   "execution_count": null,
   "metadata": {},
   "outputs": [],
   "source": [
    "plot_filters(Hs_iter_rew)"
   ]
  },
  {
   "cell_type": "code",
   "execution_count": 376,
   "metadata": {},
   "outputs": [
    {
     "name": "stdout",
     "output_type": "stream",
     "text": [
      "Error in signal y: 1.0141414486062241\n",
      "Error in filter: 0.98632975973162\n"
     ]
    }
   ],
   "source": [
    "Y_hat_mult_iter_rew = np.sum(Hs_iter_rew @ Xs_test, 0)\n",
    "err_mult_iter_rew, err_Hs_mult_iter_rew = error_metrics(Y_hat_mult_iter_rew, Y_mult_test, Hs_iter_rew, Hs_gt)\n",
    "models.append(\"VARMA-RGFI-REW\"); errs_y.append(err_mult_iter_rew); errs_H.append(err_Hs_mult_iter_rew)"
   ]
  },
  {
   "cell_type": "markdown",
   "metadata": {},
   "source": [
    "# Representation"
   ]
  },
  {
   "cell_type": "code",
   "execution_count": 377,
   "metadata": {},
   "outputs": [
    {
     "data": {
      "image/png": "[encoded data removed]",
      "text/plain": [
       "<Figure size 576x432 with 1 Axes>"
      ]
     },
     "metadata": {
      "needs_background": "light"
     },
     "output_type": "display_data"
    }
   ],
   "source": [
    "x_ax = np.arange(len(models))\n",
    "plt.figure(figsize=(8,6))\n",
    "plt.bar(x_ax, errs_y, log=True)\n",
    "plt.xticks(x_ax, models, rotation=45)\n",
    "plt.title(\"Prediction error\", fontsize=24)\n",
    "plt.xlabel(\"Models\")\n",
    "plt.ylabel(\"Error\")\n",
    "plt.grid()\n",
    "#plt.ylim(0., 0.1)"
   ]
  },
  {
   "cell_type": "markdown",
   "metadata": {},
   "source": [
    "# Multiple filters for multiple data"
   ]
  },
  {
   "cell_type": "code",
   "execution_count": 271,
   "metadata": {},
   "outputs": [
    {
     "data": {
      "text/plain": [
       "((3, 28, 364), (3, 28, 364))"
      ]
     },
     "execution_count": 271,
     "metadata": {},
     "output_type": "execute_result"
    }
   ],
   "source": [
    "X1 = data['temps']\n",
    "X2 = data['precs']\n",
    "X3 = data['windsps']\n",
    "X4 = data['press']\n",
    "comp_data = np.array([\n",
    "    X1,\n",
    "    X2,\n",
    "    X3,\n",
    "#    X4\n",
    "])\n",
    "n_feat = comp_data.shape[0]\n",
    "\n",
    "Ys = comp_data[:,:,1:].copy()\n",
    "Xs = comp_data[:,:,:-1].copy()\n",
    "Xs.shape, Ys.shape"
   ]
  },
  {
   "cell_type": "code",
   "execution_count": 272,
   "metadata": {},
   "outputs": [
    {
     "data": {
      "text/plain": [
       "((3, 28, 218), (3, 28, 218), (3, 28, 146), 364)"
      ]
     },
     "execution_count": 272,
     "metadata": {},
     "output_type": "execute_result"
    }
   ],
   "source": [
    "train_test_split = 0.6#1/6\n",
    "N_dates = Xs.shape[2]\n",
    "\n",
    "random_train_test = False\n",
    "if random_train_test:\n",
    "    idxs = np.random.permutation(N_dates)\n",
    "else:\n",
    "    idxs = np.arange(N_dates)\n",
    "\n",
    "idxs_train = idxs[:int(train_test_split*N_dates)]\n",
    "idxs_test = idxs[int(train_test_split*N_dates):]\n",
    "\n",
    "Xs_train = Xs[:,:,idxs_train]\n",
    "Ys_train = Ys[:,:,idxs_train]\n",
    "Xs_test = Xs[:,:,idxs_test]\n",
    "Ys_test = Ys[:,:,idxs_test]\n",
    "Xs_train.shape, Ys_train.shape, Xs_test.shape, N_dates"
   ]
  },
  {
   "cell_type": "code",
   "execution_count": 273,
   "metadata": {},
   "outputs": [],
   "source": [
    "Hs_gt = []\n",
    "for i in range(n_feat):\n",
    "    H = cp.Variable((N,N))\n",
    "    obj = cp.sum_squares(Ys_test[i,:,:] - H @ Xs_test[i,:,:])\n",
    "    prob = cp.Problem(cp.Minimize(obj))\n",
    "    prob.solve()\n",
    "    Hs_gt.append(H.value)\n",
    "Hs_gt = np.array(Hs_gt)"
   ]
  },
  {
   "cell_type": "code",
   "execution_count": 274,
   "metadata": {},
   "outputs": [
    {
     "name": "stdout",
     "output_type": "stream",
     "text": [
      "Error in signal y: 0.20294787586602803\n",
      "Error in filter: 0.0\n"
     ]
    },
    {
     "data": {
      "text/plain": [
       "(0.20294787586602803, 0.0)"
      ]
     },
     "execution_count": 274,
     "metadata": {},
     "output_type": "execute_result"
    }
   ],
   "source": [
    "Ys_hat_gt = Hs_gt @ Xs_test\n",
    "err_y_gt, err_H_gt = error_metrics(Ys_hat_gt, Ys_test, Hs_gt, Hs_gt)\n",
    "#models.append(\"Least Squares\"); errs_y.append(err_y_ls); errs_H.append(err_H_ls)\n",
    "err_y_gt, err_H_gt"
   ]
  },
  {
   "cell_type": "code",
   "execution_count": 275,
   "metadata": {},
   "outputs": [
    {
     "data": {
      "image/png": "[encoded data removed]",
      "text/plain": [
       "<Figure size 864x576 with 3 Axes>"
      ]
     },
     "metadata": {
      "needs_background": "light"
     },
     "output_type": "display_data"
    }
   ],
   "source": [
    "plot_filters(Hs_gt)"
   ]
  },
  {
   "cell_type": "markdown",
   "metadata": {},
   "source": [
    "## Least squares"
   ]
  },
  {
   "cell_type": "code",
   "execution_count": 276,
   "metadata": {},
   "outputs": [],
   "source": [
    "Hs_ls = []\n",
    "for i in range(n_feat):\n",
    "    H = cp.Variable((N,N))\n",
    "    obj = cp.sum_squares(Ys_train[i,:,:] - H @ Xs_train[i,:,:])\n",
    "    prob = cp.Problem(cp.Minimize(obj))\n",
    "    prob.solve()\n",
    "    Hs_ls.append(H.value)\n",
    "Hs_ls = np.array(Hs_ls)"
   ]
  },
  {
   "cell_type": "code",
   "execution_count": 277,
   "metadata": {},
   "outputs": [
    {
     "data": {
      "text/plain": [
       "2.59"
      ]
     },
     "execution_count": 277,
     "metadata": {},
     "output_type": "execute_result"
    }
   ],
   "source": [
    "Xs[1,:,:].max()"
   ]
  },
  {
   "cell_type": "code",
   "execution_count": 278,
   "metadata": {},
   "outputs": [
    {
     "data": {
      "image/png": "[encoded data removed]",
      "text/plain": [
       "<Figure size 864x576 with 3 Axes>"
      ]
     },
     "metadata": {
      "needs_background": "light"
     },
     "output_type": "display_data"
    }
   ],
   "source": [
    "plot_filters(Hs_ls)"
   ]
  },
  {
   "cell_type": "code",
   "execution_count": 279,
   "metadata": {},
   "outputs": [
    {
     "data": {
      "text/plain": [
       "(array([0.00822395, 1.09202809, 0.21333509]),\n",
       " array([1.13797341e+07, 1.80623200e+02, 1.38180010e+05]))"
      ]
     },
     "execution_count": 279,
     "metadata": {},
     "output_type": "execute_result"
    }
   ],
   "source": [
    "Ys_hat_ls = Hs_ls @ Xs_test\n",
    "norm_y = (Ys_test**2).sum((1,2))#np.sqrt((Y_test**2).sum(1))\n",
    "err_y = ((Ys_test - Ys_hat_ls)**2).sum((1,2)) / norm_y\n",
    "err_y, norm_y"
   ]
  },
  {
   "cell_type": "code",
   "execution_count": 280,
   "metadata": {},
   "outputs": [
    {
     "name": "stdout",
     "output_type": "stream",
     "text": [
      "Error in signal y: 0.43786237594005245\n",
      "Error in filter: 1.6242737099390174\n"
     ]
    },
    {
     "data": {
      "text/plain": [
       "(0.43786237594005245, 1.6242737099390174)"
      ]
     },
     "execution_count": 280,
     "metadata": {},
     "output_type": "execute_result"
    }
   ],
   "source": [
    "Ys_hat_ls = Hs_ls @ Xs_test\n",
    "err_y_ls, err_H_ls = error_metrics(Ys_hat_ls, Ys_test, Hs_ls, Hs_gt)\n",
    "#models.append(\"Least Squares\"); errs_y.append(err_y_ls); errs_H.append(err_H_ls)\n",
    "err_y_ls, err_H_ls"
   ]
  },
  {
   "cell_type": "code",
   "execution_count": 281,
   "metadata": {},
   "outputs": [],
   "source": [
    "# Least squares postulating it is a graph filter\n",
    "K = 5\n",
    "Spow = np.array([np.linalg.matrix_power(A, k) for k in range(K)])\n",
    "Hs_ls_gf = []\n",
    "for i in range(n_feat):\n",
    "    h = cp.Variable(K)\n",
    "    obj = cp.sum_squares(Ys_train[i,:,:] - cp.sum([h[k] * Spow[k,:,:] for k in range(K)]) @ Xs_train[i,:,:])\n",
    "    prob = cp.Problem(cp.Minimize(obj))\n",
    "    prob.solve()\n",
    "    h = h.value\n",
    "    Hs_ls_gf.append(np.sum([h[k] * Spow[k,:,:] for k in range(K)], 0))\n",
    "Hs_ls_gf = np.array(Hs_ls_gf)"
   ]
  },
  {
   "cell_type": "code",
   "execution_count": 282,
   "metadata": {},
   "outputs": [
    {
     "data": {
      "image/png": "[encoded data removed]",
      "text/plain": [
       "<Figure size 864x576 with 3 Axes>"
      ]
     },
     "metadata": {
      "needs_background": "light"
     },
     "output_type": "display_data"
    }
   ],
   "source": [
    "plot_filters(Hs_ls_gf)"
   ]
  },
  {
   "cell_type": "code",
   "execution_count": 283,
   "metadata": {},
   "outputs": [
    {
     "name": "stdout",
     "output_type": "stream",
     "text": [
      "Error in signal y: 0.3497348074046007\n",
      "Error in filter: 1.6242737099390174\n"
     ]
    },
    {
     "data": {
      "text/plain": [
       "(1.0050753373999577, 0.959216669830932)"
      ]
     },
     "execution_count": 283,
     "metadata": {},
     "output_type": "execute_result"
    }
   ],
   "source": [
    "Ys_hat_ls_gf = Hs_ls_gf @ Xs_test\n",
    "err_y_ls, err_H_ls = error_metrics(Ys_hat_ls_gf, Ys_test, Hs_ls, Hs_gt)\n",
    "#models.append(\"LS-GF\"); errs_y.append(err_y_ls); errs_H.append(err_H_ls)\n",
    "err_y_ls_gf, err_H_ls_gf"
   ]
  },
  {
   "cell_type": "markdown",
   "metadata": {},
   "source": [
    "## Iterative (robust) algorithms"
   ]
  },
  {
   "cell_type": "code",
   "execution_count": 284,
   "metadata": {},
   "outputs": [],
   "source": [
    "import sev_filters_opt"
   ]
  },
  {
   "cell_type": "code",
   "execution_count": 285,
   "metadata": {},
   "outputs": [],
   "source": [
    "args = [0.2, 1e-3, 0.02, 1.6]\n",
    "args_no_st = [0.4, 1e-3, 0., 1.5]\n",
    "args_rew = [0.07, 1e-3, 0.1, 5e-4, 3.]\n",
    "args_rew_no_st = [0.02, 1e-4, 0., 5e-4, 2.]"
   ]
  },
  {
   "cell_type": "code",
   "execution_count": 286,
   "metadata": {},
   "outputs": [],
   "source": [
    "meanX = comp_data.mean(2)\n",
    "stdX = comp_data.std(2)\n",
    "Cs = np.zeros((n_feat, N, N))\n",
    "for i in range(n_feat):\n",
    "    X_norm = (comp_data[i,:,:].T - meanX[i,:]) / stdX[i,:]\n",
    "\n",
    "    X_norm = np.where(np.isnan(X_norm), comp_data[i,:,:].T, X_norm)\n",
    "    \n",
    "    Cs[i,:,:] = np.cov(X_norm.T)"
   ]
  },
  {
   "cell_type": "code",
   "execution_count": 287,
   "metadata": {},
   "outputs": [],
   "source": [
    "iter, Hs_iter, Ss_iter = sev_filters_opt.estHs_iter(Xs_train, Ys_train, A, Cs, args)"
   ]
  },
  {
   "cell_type": "code",
   "execution_count": 288,
   "metadata": {},
   "outputs": [
    {
     "data": {
      "image/png": "[encoded data removed]",
      "text/plain": [
       "<Figure size 864x576 with 3 Axes>"
      ]
     },
     "metadata": {
      "needs_background": "light"
     },
     "output_type": "display_data"
    }
   ],
   "source": [
    "plot_filters(Hs_iter)"
   ]
  },
  {
   "cell_type": "code",
   "execution_count": 289,
   "metadata": {},
   "outputs": [
    {
     "data": {
      "text/plain": [
       "(array([0.00584054, 0.80521577, 0.20364206]),\n",
       " array([1.13797341e+07, 1.80623200e+02, 1.38180010e+05]))"
      ]
     },
     "execution_count": 289,
     "metadata": {},
     "output_type": "execute_result"
    }
   ],
   "source": [
    "Ys_hat_iter = Hs_iter @ Xs_test\n",
    "norm_y = (Ys_test**2).sum((1,2))#np.sqrt((Y_test**2).sum(1))\n",
    "err_y = ((Ys_test - Ys_hat_iter)**2).sum((1,2)) / norm_y\n",
    "err_y, norm_y"
   ]
  },
  {
   "cell_type": "code",
   "execution_count": 290,
   "metadata": {},
   "outputs": [
    {
     "name": "stdout",
     "output_type": "stream",
     "text": [
      "Error in signal y: 0.3382327901479922\n",
      "Error in filter: 0.9846433714690033\n"
     ]
    },
    {
     "data": {
      "text/plain": [
       "(0.3382327901479922, 0.9846433714690033)"
      ]
     },
     "execution_count": 290,
     "metadata": {},
     "output_type": "execute_result"
    }
   ],
   "source": [
    "Ys_hat_iter = Hs_iter @ Xs_test\n",
    "err_ys_iter, err_Hs_iter = error_metrics(Ys_hat_iter, Ys_test, Hs_iter, Hs_gt)\n",
    "#models.append(\"VARMA-RGFI\"); errs_y.append(err_mult_iter); errs_H.append(err_Hs_mult_iter)\n",
    "err_ys_iter, err_Hs_iter"
   ]
  },
  {
   "cell_type": "markdown",
   "metadata": {},
   "source": [
    "# Subset"
   ]
  },
  {
   "cell_type": "code",
   "execution_count": 291,
   "metadata": {},
   "outputs": [],
   "source": [
    "n_hidden = 20#int(N/4)\n",
    "mask_hidden = np.zeros(N, dtype=bool)\n",
    "mask_hidden[np.random.choice(N, n_hidden, replace=False)] = True"
   ]
  },
  {
   "cell_type": "code",
   "execution_count": 292,
   "metadata": {},
   "outputs": [
    {
     "data": {
      "text/plain": [
       "((20, 364), (8, 364), (28, 364))"
      ]
     },
     "execution_count": 292,
     "metadata": {},
     "output_type": "execute_result"
    }
   ],
   "source": [
    "X_all = temp_info.copy()\n",
    "X_hid = temp_info.copy()[mask_hidden,:]\n",
    "X_obs = temp_info.copy()[~mask_hidden,:]\n",
    "X_zeroed = temp_info.copy()\n",
    "X_zeroed[mask_hidden,:] = 0.\n",
    "N_el = X_all.shape[1]\n",
    "X_hid.shape, X_obs.shape, X_zeroed.shape"
   ]
  },
  {
   "cell_type": "markdown",
   "metadata": {},
   "source": [
    "## Error on all nodes for optimization (division train-test)"
   ]
  },
  {
   "cell_type": "code",
   "execution_count": 293,
   "metadata": {},
   "outputs": [],
   "source": [
    "train_test_split = 1/6\n",
    "\n",
    "random_train_test = False\n",
    "if random_train_test:\n",
    "    idxs = np.random.permutation(N_el)\n",
    "else:\n",
    "    idxs = np.arange(N_el)\n",
    "\n",
    "idxs_train = idxs[:int(train_test_split*N_el)]\n",
    "idxs_test = idxs[int(train_test_split*N_el):]"
   ]
  },
  {
   "cell_type": "code",
   "execution_count": 294,
   "metadata": {},
   "outputs": [],
   "source": [
    "X_all_train = X_all[:,idxs_train]\n",
    "X_all_test = X_all[:,idxs_test]\n",
    "\n",
    "X_hid_train = X_hid[:,idxs_train]\n",
    "X_hid_test = X_hid[:,idxs_test]\n",
    "\n",
    "X_obs_train = X_obs[:,idxs_train]\n",
    "X_obs_test = X_obs[:,idxs_test]\n",
    "\n",
    "X_zeroed_train = X_zeroed[:,idxs_train]\n",
    "X_zeroed_test = X_zeroed[:,idxs_test]"
   ]
  },
  {
   "cell_type": "code",
   "execution_count": 295,
   "metadata": {},
   "outputs": [],
   "source": [
    "models = []\n",
    "errs_hid = []\n",
    "errs_all = []"
   ]
  },
  {
   "cell_type": "markdown",
   "metadata": {},
   "source": [
    "### Least squares"
   ]
  },
  {
   "cell_type": "code",
   "execution_count": 296,
   "metadata": {},
   "outputs": [],
   "source": [
    "# Least squares\n",
    "H = cp.Variable((N,N))\n",
    "obj = cp.sum_squares(X_all_train - H @ X_zeroed_train)\n",
    "#constraints = [cp.diag(H) == 0]\n",
    "prob = cp.Problem(cp.Minimize(obj))#, constraints)\n",
    "prob.solve()\n",
    "H_hid = H.value"
   ]
  },
  {
   "cell_type": "code",
   "execution_count": 297,
   "metadata": {},
   "outputs": [
    {
     "data": {
      "text/plain": [
       "<matplotlib.colorbar.Colorbar at 0x7fa51b90d700>"
      ]
     },
     "execution_count": 297,
     "metadata": {},
     "output_type": "execute_result"
    },
    {
     "data": {
      "image/png": "[encoded data removed]",
      "text/plain": [
       "<Figure size 432x288 with 2 Axes>"
      ]
     },
     "metadata": {
      "needs_background": "light"
     },
     "output_type": "display_data"
    }
   ],
   "source": [
    "plt.imshow(H_hid)\n",
    "plt.colorbar()"
   ]
  },
  {
   "cell_type": "code",
   "execution_count": 298,
   "metadata": {},
   "outputs": [
    {
     "data": {
      "text/plain": [
       "0.44618036267466843"
      ]
     },
     "execution_count": 298,
     "metadata": {},
     "output_type": "execute_result"
    }
   ],
   "source": [
    "X_hat = (H_hid @ X_zeroed_test)[mask_hidden,:]\n",
    "\n",
    "# Normalized error on hidden nodes\n",
    "norm_y_hid = (X_hid_test**2).sum(1)#np.sqrt((Y_test**2).sum(1))\n",
    "err_y_hid = np.mean(((X_hid_test - X_hat)**2).sum(1) / norm_y_hid)\n",
    "models.append(\"Least Squares\"); errs_hid.append(err_y_hid)\n",
    "err_y_hid"
   ]
  },
  {
   "cell_type": "code",
   "execution_count": 299,
   "metadata": {},
   "outputs": [
    {
     "data": {
      "text/plain": [
       "0.3187002590533346"
      ]
     },
     "execution_count": 299,
     "metadata": {},
     "output_type": "execute_result"
    }
   ],
   "source": [
    "X_hat = H_hid @ X_zeroed_test\n",
    "\n",
    "# Normalized error on all nodes\n",
    "norm_y_all = (X_all_test**2).sum(1)#np.sqrt((Y_test**2).sum(1))\n",
    "err_y_all = np.mean(((X_all_test - X_hat)**2).sum(1) / norm_y_all)\n",
    "errs_all.append(err_y_all)\n",
    "err_y_all"
   ]
  },
  {
   "cell_type": "code",
   "execution_count": 300,
   "metadata": {},
   "outputs": [],
   "source": [
    "# Least squares postulating it is a graph filter\n",
    "K = 5\n",
    "Spow = np.array([np.linalg.matrix_power(A, k) for k in range(K)])\n",
    "h = cp.Variable(K)\n",
    "H = cp.sum([h[k] * Spow[k,:,:] for k in range(K)])\n",
    "obj = cp.sum_squares(X_all_train - H @ X_zeroed_train)\n",
    "prob = cp.Problem(cp.Minimize(obj))\n",
    "prob.solve()\n",
    "h = h.value\n",
    "H_hid_gf = np.sum([h[k] * Spow[k,:,:] for k in range(K)], 0)"
   ]
  },
  {
   "cell_type": "code",
   "execution_count": 301,
   "metadata": {},
   "outputs": [
    {
     "data": {
      "text/plain": [
       "<matplotlib.colorbar.Colorbar at 0x7fa51bb9ed30>"
      ]
     },
     "execution_count": 301,
     "metadata": {},
     "output_type": "execute_result"
    },
    {
     "data": {
      "image/png": "[encoded data removed]",
      "text/plain": [
       "<Figure size 432x288 with 2 Axes>"
      ]
     },
     "metadata": {
      "needs_background": "light"
     },
     "output_type": "display_data"
    }
   ],
   "source": [
    "plt.imshow(H_hid_gf)\n",
    "plt.colorbar()"
   ]
  },
  {
   "cell_type": "code",
   "execution_count": 302,
   "metadata": {},
   "outputs": [
    {
     "data": {
      "text/plain": [
       "0.5678635547781822"
      ]
     },
     "execution_count": 302,
     "metadata": {},
     "output_type": "execute_result"
    }
   ],
   "source": [
    "X_hat = (H_hid_gf @ X_zeroed_test)[mask_hidden,:]\n",
    "\n",
    "# Normalized error on hidden nodes\n",
    "norm_y_hid = (X_hid_test**2).sum(1)#np.sqrt((Y_test**2).sum(1))\n",
    "err_y_hid = np.mean(((X_hid_test - X_hat)**2).sum(1) / norm_y_hid)\n",
    "#models.append(\"LS-GF\"); errs_hid.append(err_y_hid)\n",
    "err_y_hid"
   ]
  },
  {
   "cell_type": "code",
   "execution_count": 303,
   "metadata": {},
   "outputs": [
    {
     "data": {
      "text/plain": [
       "0.5252016126090863"
      ]
     },
     "execution_count": 303,
     "metadata": {},
     "output_type": "execute_result"
    }
   ],
   "source": [
    "X_hat = H_hid_gf @ X_zeroed_test\n",
    "\n",
    "# Normalized error on all nodes\n",
    "norm_y_all = (X_all_test**2).sum(1)#np.sqrt((Y_test**2).sum(1))\n",
    "err_y_all = np.mean(((X_all_test - X_hat)**2).sum(1) / norm_y_all)\n",
    "#errs_all.append(err_y_all)\n",
    "err_y_all"
   ]
  },
  {
   "cell_type": "markdown",
   "metadata": {},
   "source": [
    "### Iterative (robust) algorithms"
   ]
  },
  {
   "cell_type": "code",
   "execution_count": 304,
   "metadata": {},
   "outputs": [],
   "source": [
    "iter, H_hid_iter, S_hid_iter = opt.estH_iter(X_zeroed_train, X_all_train, A, C, args)"
   ]
  },
  {
   "cell_type": "code",
   "execution_count": 305,
   "metadata": {},
   "outputs": [
    {
     "data": {
      "text/plain": [
       "<matplotlib.image.AxesImage at 0x7fa51baad970>"
      ]
     },
     "execution_count": 305,
     "metadata": {},
     "output_type": "execute_result"
    },
    {
     "data": {
      "image/png": "[encoded data removed]",
      "text/plain": [
       "<Figure size 432x288 with 1 Axes>"
      ]
     },
     "metadata": {
      "needs_background": "light"
     },
     "output_type": "display_data"
    }
   ],
   "source": [
    "plt.imshow(H_hid_iter)"
   ]
  },
  {
   "cell_type": "code",
   "execution_count": 306,
   "metadata": {},
   "outputs": [
    {
     "data": {
      "text/plain": [
       "0.41486526255763945"
      ]
     },
     "execution_count": 306,
     "metadata": {},
     "output_type": "execute_result"
    }
   ],
   "source": [
    "X_hat = (H_hid_iter @ X_zeroed_test)[mask_hidden,:]\n",
    "\n",
    "# Normalized error on hidden nodes\n",
    "norm_y_hid = (X_hid_test**2).sum(1)#np.sqrt((Y_test**2).sum(1))\n",
    "err_y_hid = np.mean(((X_hid_test - X_hat)**2).sum(1) / norm_y_hid)\n",
    "models.append(\"RGFI-ITER\"); errs_hid.append(err_y_hid)\n",
    "err_y_hid"
   ]
  },
  {
   "cell_type": "code",
   "execution_count": 307,
   "metadata": {},
   "outputs": [
    {
     "data": {
      "text/plain": [
       "0.2977081550093294"
      ]
     },
     "execution_count": 307,
     "metadata": {},
     "output_type": "execute_result"
    }
   ],
   "source": [
    "X_hat = H_hid_iter @ X_zeroed_test\n",
    "\n",
    "# Normalized error on all nodes\n",
    "norm_y_all = (X_all_test**2).sum(1)#np.sqrt((Y_test**2).sum(1))\n",
    "err_y_all = np.mean(((X_all_test - X_hat)**2).sum(1) / norm_y_all)\n",
    "errs_all.append(err_y_all)\n",
    "err_y_all"
   ]
  },
  {
   "cell_type": "code",
   "execution_count": 308,
   "metadata": {},
   "outputs": [
    {
     "data": {
      "text/plain": [
       "<matplotlib.colorbar.Colorbar at 0x7fa51b7f0ac0>"
      ]
     },
     "execution_count": 308,
     "metadata": {},
     "output_type": "execute_result"
    },
    {
     "data": {
      "image/png": "[encoded data removed]",
      "text/plain": [
       "<Figure size 432x288 with 2 Axes>"
      ]
     },
     "metadata": {
      "needs_background": "light"
     },
     "output_type": "display_data"
    }
   ],
   "source": [
    "plt.imshow(A)\n",
    "plt.colorbar()"
   ]
  },
  {
   "cell_type": "code",
   "execution_count": 309,
   "metadata": {},
   "outputs": [
    {
     "data": {
      "text/plain": [
       "<matplotlib.colorbar.Colorbar at 0x7fa51ba3fa00>"
      ]
     },
     "execution_count": 309,
     "metadata": {},
     "output_type": "execute_result"
    },
    {
     "data": {
      "image/png": "[encoded data removed]",
      "text/plain": [
       "<Figure size 432x288 with 2 Axes>"
      ]
     },
     "metadata": {
      "needs_background": "light"
     },
     "output_type": "display_data"
    }
   ],
   "source": [
    "plt.imshow(S_hid_iter)\n",
    "plt.colorbar()"
   ]
  },
  {
   "cell_type": "code",
   "execution_count": 310,
   "metadata": {},
   "outputs": [],
   "source": [
    "iter, H_hid_iter_rew, S_hid_iter_rew = opt.estH_iter_rew(X_zeroed_train, X_all_train, A, C, args_rew)"
   ]
  },
  {
   "cell_type": "code",
   "execution_count": 311,
   "metadata": {},
   "outputs": [
    {
     "data": {
      "text/plain": [
       "0.4100448430479598"
      ]
     },
     "execution_count": 311,
     "metadata": {},
     "output_type": "execute_result"
    }
   ],
   "source": [
    "X_hat = (H_hid_iter_rew @ X_zeroed_test)[mask_hidden,:]\n",
    "\n",
    "# Normalized error on hidden nodes\n",
    "norm_y_hid = (X_hid_test**2).sum(1)#np.sqrt((Y_test**2).sum(1))\n",
    "err_y_hid = np.mean(((X_hid_test - X_hat)**2).sum(1) / norm_y_hid)\n",
    "models.append(\"RGFI-ITER-REW\"); errs_hid.append(err_y_hid)\n",
    "err_y_hid"
   ]
  },
  {
   "cell_type": "code",
   "execution_count": 312,
   "metadata": {},
   "outputs": [
    {
     "data": {
      "text/plain": [
       "0.29684930525417175"
      ]
     },
     "execution_count": 312,
     "metadata": {},
     "output_type": "execute_result"
    }
   ],
   "source": [
    "X_hat = H_hid_iter_rew @ X_zeroed_test\n",
    "\n",
    "# Normalized error on all nodes\n",
    "norm_y_all = (X_all_test**2).sum(1)#np.sqrt((Y_test**2).sum(1))\n",
    "err_y_all = np.mean(((X_all_test - X_hat)**2).sum(1) / norm_y_all)\n",
    "errs_all.append(err_y_all)\n",
    "err_y_all"
   ]
  },
  {
   "cell_type": "code",
   "execution_count": 313,
   "metadata": {},
   "outputs": [
    {
     "data": {
      "text/plain": [
       "([0.44618036267466843, 0.41486526255763945, 0.4100448430479598],\n",
       " [0.3187002590533346, 0.2977081550093294, 0.29684930525417175])"
      ]
     },
     "execution_count": 313,
     "metadata": {},
     "output_type": "execute_result"
    }
   ],
   "source": [
    "errs_hid, errs_all"
   ]
  },
  {
   "cell_type": "code",
   "execution_count": 314,
   "metadata": {},
   "outputs": [
    {
     "data": {
      "text/plain": [
       "Text(0.5, 1.0, 'Error on all nodes')"
      ]
     },
     "execution_count": 314,
     "metadata": {},
     "output_type": "execute_result"
    },
    {
     "data": {
      "image/png": "[encoded data removed]",
      "text/plain": [
       "<Figure size 720x576 with 2 Axes>"
      ]
     },
     "metadata": {
      "needs_background": "light"
     },
     "output_type": "display_data"
    }
   ],
   "source": [
    "f, ax = plt.subplots(1,2, figsize=(10,8))\n",
    "x_ax = np.arange(len(models))\n",
    "for i, yseries in enumerate([errs_hid, errs_all]):\n",
    "    ax[i].bar(x_ax, yseries)\n",
    "    ax[i].set_xticks(x_ax)\n",
    "    ax[i].set_xticklabels(models)\n",
    "    ax[i].grid()\n",
    "ax[0].set_title(\"Error on hidden nodes\", fontsize=16)\n",
    "ax[1].set_title(\"Error on all nodes\", fontsize=16)\n",
    "#ax[0].set_ylim(0.0115,0.012)"
   ]
  },
  {
   "cell_type": "markdown",
   "metadata": {},
   "source": [
    "## Error only on hidden nodes for optimization"
   ]
  },
  {
   "cell_type": "code",
   "execution_count": 315,
   "metadata": {},
   "outputs": [],
   "source": [
    "models = []\n",
    "errs_hid = []\n",
    "errs_all = []"
   ]
  },
  {
   "cell_type": "markdown",
   "metadata": {},
   "source": [
    "### Least squares"
   ]
  },
  {
   "cell_type": "code",
   "execution_count": 316,
   "metadata": {},
   "outputs": [],
   "source": [
    "# Optimizing error on all the nodes but data for hidden nodes is still 0\n",
    "# Least squares\n",
    "H = cp.Variable((N,N))\n",
    "obj = cp.sum_squares(X_hid_train - (H @ X_zeroed_train)[mask_hidden,:])\n",
    "#constraints = [cp.diag(H) == 0]\n",
    "prob = cp.Problem(cp.Minimize(obj))#, constraints)\n",
    "prob.solve()\n",
    "H_hid = H.value"
   ]
  },
  {
   "cell_type": "code",
   "execution_count": 317,
   "metadata": {},
   "outputs": [
    {
     "data": {
      "text/plain": [
       "<matplotlib.colorbar.Colorbar at 0x7fa51b746d00>"
      ]
     },
     "execution_count": 317,
     "metadata": {},
     "output_type": "execute_result"
    },
    {
     "data": {
      "image/png": "[encoded data removed]",
      "text/plain": [
       "<Figure size 432x288 with 2 Axes>"
      ]
     },
     "metadata": {
      "needs_background": "light"
     },
     "output_type": "display_data"
    }
   ],
   "source": [
    "plt.imshow(H_hid)\n",
    "plt.colorbar()"
   ]
  },
  {
   "cell_type": "code",
   "execution_count": 318,
   "metadata": {},
   "outputs": [
    {
     "data": {
      "text/plain": [
       "0.44618036267466843"
      ]
     },
     "execution_count": 318,
     "metadata": {},
     "output_type": "execute_result"
    }
   ],
   "source": [
    "X_hat = (H_hid @ X_zeroed_test)[mask_hidden,:]\n",
    "\n",
    "# Normalized error on hidden nodes\n",
    "norm_y_hid = (X_hid_test**2).sum(1)\n",
    "err_y_hid = np.mean(((X_hid_test - X_hat)**2).sum(1) / norm_y_hid)\n",
    "models.append(\"Least Squares\"); errs_hid.append(err_y_hid)\n",
    "err_y_hid"
   ]
  },
  {
   "cell_type": "code",
   "execution_count": 319,
   "metadata": {},
   "outputs": [
    {
     "data": {
      "text/plain": [
       "0.6044145447676202"
      ]
     },
     "execution_count": 319,
     "metadata": {},
     "output_type": "execute_result"
    }
   ],
   "source": [
    "X_hat = H_hid @ X_zeroed_test\n",
    "\n",
    "# Normalized error on all nodes\n",
    "norm_y_all = (X_all_test**2).sum(1)#np.sqrt((Y_test**2).sum(1))\n",
    "err_y_all = np.mean(((X_all_test - X_hat)**2).sum(1) / norm_y_all)\n",
    "errs_all.append(err_y_all)\n",
    "err_y_all"
   ]
  },
  {
   "cell_type": "markdown",
   "metadata": {},
   "source": [
    "### Iterative (robust) algorithms"
   ]
  },
  {
   "cell_type": "code",
   "execution_count": 320,
   "metadata": {},
   "outputs": [],
   "source": [
    "import opt_subset"
   ]
  },
  {
   "cell_type": "code",
   "execution_count": 321,
   "metadata": {},
   "outputs": [],
   "source": [
    "iter, H_hid_iter, S_hid_iter = opt_subset.estH_iter(X_zeroed_train, X_hid_train, A, C, mask_hidden, args)"
   ]
  },
  {
   "cell_type": "code",
   "execution_count": 322,
   "metadata": {},
   "outputs": [
    {
     "data": {
      "text/plain": [
       "<matplotlib.colorbar.Colorbar at 0x7fa51b9e4a90>"
      ]
     },
     "execution_count": 322,
     "metadata": {},
     "output_type": "execute_result"
    },
    {
     "data": {
      "image/png": "[encoded data removed]",
      "text/plain": [
       "<Figure size 432x288 with 2 Axes>"
      ]
     },
     "metadata": {
      "needs_background": "light"
     },
     "output_type": "display_data"
    }
   ],
   "source": [
    "plt.imshow(H_hid_iter)\n",
    "plt.colorbar()"
   ]
  },
  {
   "cell_type": "code",
   "execution_count": 323,
   "metadata": {},
   "outputs": [
    {
     "data": {
      "text/plain": [
       "0.414667620015714"
      ]
     },
     "execution_count": 323,
     "metadata": {},
     "output_type": "execute_result"
    }
   ],
   "source": [
    "X_hat = (H_hid_iter @ X_zeroed_test)[mask_hidden,:]\n",
    "\n",
    "# Normalized error on hidden nodes\n",
    "norm_y_hid = (X_hid_test**2).sum(1)#np.sqrt((Y_test**2).sum(1))\n",
    "err_y_hid = np.mean(((X_hid_test - X_hat)**2).sum(1) / norm_y_hid)\n",
    "models.append(\"RGFI-ITER\"); errs_hid.append(err_y_hid)\n",
    "err_y_hid"
   ]
  },
  {
   "cell_type": "code",
   "execution_count": 324,
   "metadata": {},
   "outputs": [
    {
     "name": "stdout",
     "output_type": "stream",
     "text": [
      "[[ 1.10559411e-02 -4.06068864e-02 -1.96834880e-02 ...  1.01114669e-01\n",
      "   6.69103435e-02 -2.27497861e-01]\n",
      " [ 1.74938309e-02 -4.50464353e-02  3.54648269e-02 ...  1.52779730e-01\n",
      "   3.12483682e-01 -4.44480313e-01]\n",
      " [ 3.47322365e-02 -9.05968965e-02  1.52705240e-01 ...  1.45681677e-01\n",
      "  -7.59994826e-02 -2.27675937e-01]\n",
      " ...\n",
      " [ 1.97316132e-04 -9.37549024e-02  1.29472731e-01 ...  2.01083500e-01\n",
      "  -9.61350837e-02 -2.10566135e-01]\n",
      " [ 3.45201189e-03 -6.90029464e-02  7.85842545e-02 ...  1.49537467e-01\n",
      "  -4.80662311e-02 -1.42487682e-01]\n",
      " [ 1.81201459e-03 -7.08206069e-02  8.90806231e-02 ...  1.53975952e-01\n",
      "  -5.64589202e-02 -1.39307408e-01]]\n",
      "[[ 0.04658385 -0.02484472  0.05590062 ...  0.09937888  0.1863354\n",
      "  -0.23913043]\n",
      " [-0.20434783  0.05652174 -0.03043478 ...  0.36956522  0.18695652\n",
      "  -0.4826087 ]\n",
      " [ 0.0119403  -0.10447761  0.11343284 ...  0.12238806  0.\n",
      "  -0.31343284]\n",
      " ...\n",
      " [-0.03601108 -0.02770083  0.07479224 ...  0.26315789 -0.13850416\n",
      "  -0.2132964 ]\n",
      " [-0.02185792 -0.04371585  0.05464481 ...  0.24863388 -0.13387978\n",
      "  -0.15300546]\n",
      " [-0.01729107 -0.07492795  0.06340058 ...  0.17291066 -0.09510086\n",
      "  -0.0778098 ]]\n",
      "[ True  True  True  True  True  True False False False False  True  True\n",
      "  True False  True  True False  True  True  True False  True  True  True\n",
      "  True  True  True False]\n"
     ]
    }
   ],
   "source": [
    "print(X_hat)\n",
    "print(X_all_test)\n",
    "print(mask_hidden)"
   ]
  },
  {
   "cell_type": "code",
   "execution_count": 325,
   "metadata": {},
   "outputs": [
    {
     "data": {
      "text/plain": [
       "4.355828002751646"
      ]
     },
     "execution_count": 325,
     "metadata": {},
     "output_type": "execute_result"
    }
   ],
   "source": [
    "X_hat = H_hid_iter @ X_zeroed_test\n",
    "\n",
    "# Normalized error on all nodes\n",
    "norm_y_all = (X_all_test**2).sum(1)#np.sqrt((Y_test**2).sum(1))\n",
    "err_y_all = np.mean(((X_all_test - X_hat)**2).sum(1) / norm_y_all)\n",
    "errs_all.append(err_y_all)\n",
    "err_y_all"
   ]
  },
  {
   "cell_type": "code",
   "execution_count": 326,
   "metadata": {},
   "outputs": [
    {
     "data": {
      "text/plain": [
       "Text(0.5, 1.0, 'Error on all nodes')"
      ]
     },
     "execution_count": 326,
     "metadata": {},
     "output_type": "execute_result"
    },
    {
     "data": {
      "image/png": "[encoded data removed]",
      "text/plain": [
       "<Figure size 720x576 with 2 Axes>"
      ]
     },
     "metadata": {
      "needs_background": "light"
     },
     "output_type": "display_data"
    }
   ],
   "source": [
    "f, ax = plt.subplots(1,2, figsize=(10,8))\n",
    "x_ax = np.arange(len(models))\n",
    "for i, yseries in enumerate([errs_hid, errs_all]):\n",
    "    ax[i].bar(x_ax, yseries)\n",
    "    ax[i].set_xticks(x_ax)\n",
    "    ax[i].set_xticklabels(models)\n",
    "    ax[i].grid()\n",
    "ax[0].set_title(\"Error on hidden nodes\", fontsize=16)\n",
    "ax[1].set_title(\"Error on all nodes\", fontsize=16)\n",
    "#ax[0].set_ylim(0.0115,0.012)"
   ]
  },
  {
   "cell_type": "markdown",
   "metadata": {},
   "source": [
    "## Error only on observed nodes for optimization - no division train test"
   ]
  },
  {
   "cell_type": "code",
   "execution_count": 327,
   "metadata": {},
   "outputs": [],
   "source": [
    "models = []\n",
    "errs_hid = []\n",
    "errs_all = []"
   ]
  },
  {
   "cell_type": "markdown",
   "metadata": {},
   "source": [
    "### Least squares"
   ]
  },
  {
   "cell_type": "code",
   "execution_count": 328,
   "metadata": {},
   "outputs": [],
   "source": [
    "# Optimizing error on all the nodes but data for hidden nodes is still 0\n",
    "# Least squares\n",
    "H = cp.Variable((N,N))\n",
    "obj = cp.sum_squares(X_hid - (H @ X_zeroed)[mask_hidden,:])\n",
    "#constraints = [cp.diag(H) == 0]\n",
    "prob = cp.Problem(cp.Minimize(obj))#, constraints)\n",
    "prob.solve()\n",
    "H_hid = H.value"
   ]
  },
  {
   "cell_type": "code",
   "execution_count": 329,
   "metadata": {},
   "outputs": [
    {
     "data": {
      "text/plain": [
       "<matplotlib.colorbar.Colorbar at 0x7fa51b5a9a90>"
      ]
     },
     "execution_count": 329,
     "metadata": {},
     "output_type": "execute_result"
    },
    {
     "data": {
      "image/png": "[encoded data removed]",
      "text/plain": [
       "<Figure size 432x288 with 2 Axes>"
      ]
     },
     "metadata": {
      "needs_background": "light"
     },
     "output_type": "display_data"
    }
   ],
   "source": [
    "plt.imshow(H_hid)\n",
    "plt.colorbar()"
   ]
  },
  {
   "cell_type": "code",
   "execution_count": 330,
   "metadata": {},
   "outputs": [
    {
     "data": {
      "text/plain": [
       "0.3102683153384535"
      ]
     },
     "execution_count": 330,
     "metadata": {},
     "output_type": "execute_result"
    }
   ],
   "source": [
    "X_hat = (H_hid @ X_zeroed)[mask_hidden,:]\n",
    "\n",
    "# Normalized error on hidden nodes\n",
    "norm_y_hid = (X_hid**2).sum(1)\n",
    "err_y_hid = np.mean(((X_hid - X_hat)**2).sum(1) / norm_y_hid)\n",
    "models.append(\"Least Squares\"); errs_hid.append(err_y_hid)\n",
    "err_y_hid"
   ]
  },
  {
   "cell_type": "code",
   "execution_count": 331,
   "metadata": {},
   "outputs": [
    {
     "data": {
      "text/plain": [
       "0.5073345109560382"
      ]
     },
     "execution_count": 331,
     "metadata": {},
     "output_type": "execute_result"
    }
   ],
   "source": [
    "X_hat = H_hid @ X_zeroed\n",
    "\n",
    "# Normalized error on all nodes\n",
    "norm_y_all = (X_all**2).sum(1)#np.sqrt((Y_test**2).sum(1))\n",
    "err_y_all = np.mean(((X_all - X_hat)**2).sum(1) / norm_y_all)\n",
    "errs_all.append(err_y_all)\n",
    "err_y_all"
   ]
  },
  {
   "cell_type": "markdown",
   "metadata": {},
   "source": [
    "### Iterative (robust) algorithms"
   ]
  },
  {
   "cell_type": "code",
   "execution_count": 332,
   "metadata": {},
   "outputs": [],
   "source": [
    "import opt_subset"
   ]
  },
  {
   "cell_type": "code",
   "execution_count": 333,
   "metadata": {},
   "outputs": [],
   "source": [
    "iter, H_hid_iter, S_hid_iter = opt_subset.estH_iter(X_zeroed, X_hid, A, C, mask_hidden, args)"
   ]
  },
  {
   "cell_type": "code",
   "execution_count": 334,
   "metadata": {},
   "outputs": [
    {
     "data": {
      "text/plain": [
       "<matplotlib.image.AxesImage at 0x7fa51b4cb0d0>"
      ]
     },
     "execution_count": 334,
     "metadata": {},
     "output_type": "execute_result"
    },
    {
     "data": {
      "image/png": "[encoded data removed]",
      "text/plain": [
       "<Figure size 432x288 with 1 Axes>"
      ]
     },
     "metadata": {
      "needs_background": "light"
     },
     "output_type": "display_data"
    }
   ],
   "source": [
    "plt.imshow(H_hid_iter)"
   ]
  },
  {
   "cell_type": "code",
   "execution_count": 335,
   "metadata": {},
   "outputs": [
    {
     "data": {
      "text/plain": [
       "0.31047235345157176"
      ]
     },
     "execution_count": 335,
     "metadata": {},
     "output_type": "execute_result"
    }
   ],
   "source": [
    "X_hat = (H_hid_iter @ X_zeroed)[mask_hidden,:]\n",
    "\n",
    "# Normalized error on hidden nodes\n",
    "norm_y_hid = (X_hid**2).sum(1)#np.sqrt((Y_test**2).sum(1))\n",
    "err_y_hid = np.mean(((X_hid - X_hat)**2).sum(1) / norm_y_hid)\n",
    "models.append(\"RGFI-ITER\"); errs_hid.append(err_y_hid)\n",
    "err_y_hid"
   ]
  },
  {
   "cell_type": "code",
   "execution_count": 336,
   "metadata": {},
   "outputs": [
    {
     "data": {
      "text/plain": [
       "2.467957132546488"
      ]
     },
     "execution_count": 336,
     "metadata": {},
     "output_type": "execute_result"
    }
   ],
   "source": [
    "X_hat = H_hid_iter @ X_zeroed\n",
    "\n",
    "# Normalized error on all nodes\n",
    "norm_y_all = (X_all**2).sum(1)#np.sqrt((Y_test**2).sum(1))\n",
    "err_y_all = np.mean(((X_all - X_hat)**2).sum(1) / norm_y_all)\n",
    "errs_all.append(err_y_all)\n",
    "err_y_all"
   ]
  },
  {
   "cell_type": "code",
   "execution_count": 337,
   "metadata": {},
   "outputs": [
    {
     "data": {
      "text/plain": [
       "Text(0.5, 1.0, 'Error on all nodes')"
      ]
     },
     "execution_count": 337,
     "metadata": {},
     "output_type": "execute_result"
    },
    {
     "data": {
      "image/png": "[encoded data removed]",
      "text/plain": [
       "<Figure size 720x576 with 2 Axes>"
      ]
     },
     "metadata": {
      "needs_background": "light"
     },
     "output_type": "display_data"
    }
   ],
   "source": [
    "f, ax = plt.subplots(1,2, figsize=(10,8))\n",
    "x_ax = np.arange(len(models))\n",
    "for i, yseries in enumerate([errs_hid, errs_all]):\n",
    "    ax[i].bar(x_ax, yseries)\n",
    "    ax[i].set_xticks(x_ax)\n",
    "    ax[i].set_xticklabels(models)\n",
    "    ax[i].grid()\n",
    "ax[0].set_title(\"Error on hidden nodes\", fontsize=16)\n",
    "ax[1].set_title(\"Error on all nodes\", fontsize=16)\n",
    "#ax[0].set_ylim(0.0115,0.012)"
   ]
  }
 ],
 "metadata": {
  "kernelspec": {
   "display_name": "Python 3.8.10 64-bit",
   "language": "python",
   "name": "python3"
  },
  "language_info": {
   "codemirror_mode": {
    "name": "ipython",
    "version": 3
   },
   "file_extension": ".py",
   "mimetype": "text/x-python",
   "name": "python",
   "nbconvert_exporter": "python",
   "pygments_lexer": "ipython3",
   "version": "3.8.10"
  },
  "orig_nbformat": 4,
  "vscode": {
   "interpreter": {
    "hash": "916dbcbb3f70747c44a77c7bcd40155683ae19c65e1c03b4aa3499c5328201f1"
   }
  }
 },
 "nbformat": 4,
 "nbformat_minor": 2
}
