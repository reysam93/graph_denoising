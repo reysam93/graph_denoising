{
 "cells": [
  {
   "cell_type": "code",
   "execution_count": 100,
   "metadata": {},
   "outputs": [],
   "source": [
    "import pandas as pd\n",
    "import numpy as np\n",
    "\n",
    "import tarfile\n",
    "\n",
    "import time\n",
    "import re"
   ]
  },
  {
   "cell_type": "code",
   "execution_count": 101,
   "metadata": {},
   "outputs": [],
   "source": [
    "year = str(2018)\n",
    "tar = tarfile.open(year + \".tar.gz\")"
   ]
  },
  {
   "cell_type": "code",
   "execution_count": 114,
   "metadata": {},
   "outputs": [],
   "source": [
    "keep_states = \"WA US|OR US\"#|ID US|MT US\"#|CA US|NV US|WY US|UT US|AZ US\"\n",
    "ks_re = re.compile(keep_states)\n",
    "\n",
    "min_temps = 365\n",
    "n_signals = 365\n",
    "knn = 8\n",
    "dir_graph = False\n",
    "file_name = 'temperatures' + year\n",
    "# file_name = '../temperatures2003_3months'\n",
    "file_name += '_knn' + str(knn)\n",
    "if dir_graph:\n",
    "    file_name += '_dir'"
   ]
  },
  {
   "cell_type": "code",
   "execution_count": 115,
   "metadata": {},
   "outputs": [],
   "source": [
    "dfs = []\n",
    "temp = []\n",
    "windsp = []\n",
    "prec = []\n",
    "pres = []\n",
    "attrs = [\"TEMP\", \"WDSP\", \"PRCP\", \"STP\"]\n",
    "\n",
    "for member in tar.getmembers():\n",
    "    f = tar.extractfile(member)\n",
    "    df = pd.read_csv(f)\n",
    "    f.close()\n",
    "    df.dropna(inplace=True)\n",
    "\n",
    "    if len(df) == 0:\n",
    "        continue\n",
    "    \n",
    "    station_name = df.NAME.iloc[0]\n",
    "\n",
    "    if ks_re.search(station_name) and len(df) >= n_signals and not (np.any(df[attrs].values == 999.9) or np.any(df[attrs].values == 99.99)):\n",
    "        dfs.append(df)\n",
    "        temp.append(df['TEMP'].values)\n",
    "        windsp.append(df['WDSP'].values)\n",
    "        prec.append(df['PRCP'].values)\n",
    "        pres.append(df['STP'].values)\n",
    "\n",
    "assert len(dfs) > 0, \"No data with specified criteria\"\n",
    "df = pd.concat(dfs)\n",
    "temps = np.array(temp)\n",
    "windsps = np.array(windsp)\n",
    "precs = np.array(prec)\n",
    "press = np.array(pres)"
   ]
  },
  {
   "cell_type": "code",
   "execution_count": 116,
   "metadata": {},
   "outputs": [
    {
     "data": {
      "text/plain": [
       "((28, 365), (28, 365), (28, 365), (28, 365))"
      ]
     },
     "execution_count": 116,
     "metadata": {},
     "output_type": "execute_result"
    }
   ],
   "source": [
    "temps.shape, windsps.shape, precs.shape, press.shape"
   ]
  },
  {
   "cell_type": "code",
   "execution_count": 105,
   "metadata": {},
   "outputs": [],
   "source": [
    "# # Constants\n",
    "# Limit temperature in Fº\n",
    "MAX_TEMP = 140\n",
    "MIN_TEMP = -30\n",
    "assert np.all(temps <= MAX_TEMP) and np.all(temps >= MIN_TEMP)"
   ]
  },
  {
   "cell_type": "code",
   "execution_count": 106,
   "metadata": {},
   "outputs": [],
   "source": [
    "stations = df.drop_duplicates('NAME')\n",
    "N = len(stations)"
   ]
  },
  {
   "cell_type": "code",
   "execution_count": 107,
   "metadata": {},
   "outputs": [],
   "source": [
    "# Read stations coordinates and convert to radians\n",
    "Coords = np.zeros((N, 2))\n",
    "Coords[:, 0] = stations.LONGITUDE.to_numpy()*np.pi/180\n",
    "Coords[:, 1] = stations.LATITUDE.to_numpy()*np.pi/180\n",
    "\n",
    "# Earth radius in km\n",
    "R_EARTH = 6371\n",
    "# Coordinates in km\n",
    "Coords_km = np.zeros((N, 2))\n",
    "Coords_km[:, 0] = R_EARTH*Coords[:, 0]*np.cos(Coords[:, 1])\n",
    "Coords_km[:, 1] = R_EARTH*Coords[:, 1]"
   ]
  },
  {
   "cell_type": "code",
   "execution_count": 108,
   "metadata": {},
   "outputs": [],
   "source": [
    "# For geodesic distance in km\n",
    "D = np.zeros((N, N))\n",
    "for i in range(N):\n",
    "    for j in range(i+1, N):\n",
    "        D[i, j] = np.linalg.norm(Coords_km[i, :] - Coords_km[j, :])\n",
    "D = D + D.T"
   ]
  },
  {
   "cell_type": "code",
   "execution_count": 109,
   "metadata": {},
   "outputs": [],
   "source": [
    "P = np.exp(-D/np.sum(D)*N**2)\n",
    "P_n = np.sum(P, axis=0)\n",
    "np.fill_diagonal(D, np.inf)\n",
    "\n",
    "idx = D.argsort()[:, :knn]\n",
    "A = np.zeros(D.shape)\n",
    "for i in range(N):\n",
    "    A[i, idx[i, :]] = P[i, idx[i, :]]/P_n[idx[i, :]]\n",
    "    if not dir_graph:\n",
    "        A[idx[i, :], i] = A[i, idx[i, :]]"
   ]
  },
  {
   "cell_type": "code",
   "execution_count": 110,
   "metadata": {},
   "outputs": [
    {
     "name": "stdout",
     "output_type": "stream",
     "text": [
      "Zeros: 2396\n",
      "Non Zeros: 520\n",
      "Mean degree of A: 9.62962962962963\n"
     ]
    }
   ],
   "source": [
    "A_bin = np.zeros(A.shape)\n",
    "A_bin[A != 0] = 1\n",
    "print('Zeros:', np.sum(A == 0))\n",
    "print('Non Zeros:', np.sum(A != 0))\n",
    "print('Mean degree of A:', np.mean(np.sum(A_bin, axis=0)))"
   ]
  },
  {
   "cell_type": "code",
   "execution_count": 111,
   "metadata": {},
   "outputs": [
    {
     "name": "stdout",
     "output_type": "stream",
     "text": [
      "File saved as  temperatures2018_knn8_N54\n"
     ]
    }
   ],
   "source": [
    "file_name += '_N' + str(N)\n",
    "np.savez(file_name, A=A, temps=temps, precs=precs, windsps=windsps, press=press, Coords=Coords,\n",
    "         Coords_km=Coords_km, A_bin=A_bin, D=D)\n",
    "print('File saved as ', file_name)"
   ]
  },
  {
   "cell_type": "code",
   "execution_count": null,
   "metadata": {},
   "outputs": [],
   "source": []
  }
 ],
 "metadata": {
  "kernelspec": {
   "display_name": "Python 3.8.10 64-bit",
   "language": "python",
   "name": "python3"
  },
  "language_info": {
   "codemirror_mode": {
    "name": "ipython",
    "version": 3
   },
   "file_extension": ".py",
   "mimetype": "text/x-python",
   "name": "python",
   "nbconvert_exporter": "python",
   "pygments_lexer": "ipython3",
   "version": "3.8.10"
  },
  "orig_nbformat": 4,
  "vscode": {
   "interpreter": {
    "hash": "916dbcbb3f70747c44a77c7bcd40155683ae19c65e1c03b4aa3499c5328201f1"
   }
  }
 },
 "nbformat": 4,
 "nbformat_minor": 2
}
