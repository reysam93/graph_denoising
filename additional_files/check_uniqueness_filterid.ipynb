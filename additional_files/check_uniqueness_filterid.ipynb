{
 "cells": [
  {
   "cell_type": "code",
   "execution_count": 7,
   "metadata": {},
   "outputs": [],
   "source": [
    "import numpy as np\n",
    "from numpy import linalg as la\n",
    "import sys\n",
    "sys.path.append('..')\n",
    "import data\n",
    "\n",
    "SEED = 10\n",
    "\n",
    "np.random.seed(SEED)\n",
    "RESULTS_PATH = 'results/efficient_alg/' "
   ]
  },
  {
   "cell_type": "code",
   "execution_count": 8,
   "metadata": {},
   "outputs": [
    {
     "name": "stdout",
     "output_type": "stream",
     "text": [
      "Full rank S: 0.7\n",
      "Rank(XXI)=N: 1.0\n",
      "Rank(B) = N**2 - N: 0.9\n",
      "Full rank A+B: 0.65\n",
      "Full rank A+B (with full rank B): 0.7222222222222222\n"
     ]
    }
   ],
   "source": [
    "tries = 20\n",
    "N = 20\n",
    "M = 1\n",
    "k = N\n",
    "\n",
    "full_rank_S = 0\n",
    "rank_N = 0\n",
    "rank_B = 0\n",
    "full_rank_A_B = 0\n",
    "full_rank_A_B2 = 0\n",
    "for i in range(tries):\n",
    "    g_params = {'type': data.ER, 'p': 0.2}\n",
    "    S = data.generate_graph(N, g_params)\n",
    "    eigvals, Eigvecs = np.linalg.eigh(S)\n",
    "    if la.matrix_rank(S) == N:\n",
    "        full_rank_S += 1\n",
    "\n",
    "    \n",
    "    # x = Eigvecs[:,:k]@np.random.randn(k, M)\n",
    "    x = S[:,:k]@np.random.randn(k, M)\n",
    "    # x = np.eye(N)[:,:k]@np.random.randn(k, M)\n",
    "\n",
    "    # rho = np.random.multivariate_normal(np.zeros(N), S@S+np.eye(N), size=(M)).T\n",
    "    # x = np.eye(N)[:,:k]@rho[:k,:]\n",
    "\n",
    "    XX_kron_I = np.kron(x@x.T, np.eye(N))\n",
    "    # print('Rank XXI:', la.matrix_rank(XX_kron_I))\n",
    "    if la.matrix_rank(XX_kron_I) == N*min(N,M):\n",
    "        rank_N += 1\n",
    "    \n",
    "    \n",
    "    B = np.kron(S@S, np.eye(N)) + np.kron(np.eye(N), S@S) - 2*np.kron(S, S)\n",
    "    # print('Rank(B):', la.matrix_rank(B))\n",
    "    if la.matrix_rank(B) == N**2 - N:\n",
    "        rank_B += 1\n",
    "\n",
    "    rank_A_B = la.matrix_rank(XX_kron_I + B)\n",
    "    # print('Rank(A+B)',  rank_A_B)\n",
    "    if rank_A_B == N**2 and la.matrix_rank(B) == N**2-N:\n",
    "        full_rank_A_B2 += 1\n",
    "    if rank_A_B == N**2:\n",
    "        full_rank_A_B += 1\n",
    "    \n",
    "\n",
    "print('Full rank S:', full_rank_S/tries)\n",
    "print('Rank(XXI)=N:', rank_N/tries)\n",
    "print('Rank(B) = N**2 - N:', rank_B/tries)\n",
    "print('Full rank A+B:', full_rank_A_B/tries)\n",
    "print('Full rank A+B (with full rank B):', full_rank_A_B2/rank_B)\n"
   ]
  },
  {
   "cell_type": "code",
   "execution_count": null,
   "metadata": {},
   "outputs": [],
   "source": []
  }
 ],
 "metadata": {
  "kernelspec": {
   "display_name": "Python 3.8.10 64-bit",
   "language": "python",
   "name": "python3"
  },
  "language_info": {
   "codemirror_mode": {
    "name": "ipython",
    "version": 3
   },
   "file_extension": ".py",
   "mimetype": "text/x-python",
   "name": "python",
   "nbconvert_exporter": "python",
   "pygments_lexer": "ipython3",
   "version": "3.8.10"
  },
  "orig_nbformat": 4,
  "vscode": {
   "interpreter": {
    "hash": "916dbcbb3f70747c44a77c7bcd40155683ae19c65e1c03b4aa3499c5328201f1"
   }
  }
 },
 "nbformat": 4,
 "nbformat_minor": 2
}
