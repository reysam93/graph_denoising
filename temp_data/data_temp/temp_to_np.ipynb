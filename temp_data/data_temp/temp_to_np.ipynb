{
 "cells": [
  {
   "cell_type": "code",
   "execution_count": 30,
   "metadata": {},
   "outputs": [],
   "source": [
    "import pandas as pd\n",
    "import numpy as np\n",
    "\n",
    "import tarfile\n",
    "\n",
    "import time\n",
    "import re"
   ]
  },
  {
   "cell_type": "code",
   "execution_count": 31,
   "metadata": {},
   "outputs": [],
   "source": [
    "# 54 nodes\n",
    "#keep_states = \"WA US|OR US\"#|ID US|MT US\"#|CA US|NV US|WY US|UT US|AZ US\"\n",
    "\n",
    "#keep_states = \"CO US\" # Colorado - 13 nodes with 2018 data\n",
    "\n",
    "#keep_states = \"CO US|UT US\" # 17 nodes\n",
    "\n",
    "keep_states = \"CA US\" # 31 nodes\n",
    "\n",
    "# 28 nodes\n",
    "#keep_states = \"WA US\"#|OR US|ID US|MT US\"#|CA US|NV US|WY US|UT US|AZ US\"\n",
    "ks_re = re.compile(keep_states)\n",
    "\n",
    "min_temps = 365\n",
    "n_signals = 365\n",
    "knn = 5\n",
    "dir_graph = False\n",
    "file_name = 'temperatures2017-18'\n",
    "# file_name = '../temperatures2003_3months'\n",
    "file_name += '_knn' + str(knn)\n",
    "if dir_graph:\n",
    "    file_name += '_dir'"
   ]
  },
  {
   "cell_type": "code",
   "execution_count": 32,
   "metadata": {},
   "outputs": [],
   "source": [
    "dfs = []\n",
    "temp = []\n",
    "windsp = []\n",
    "prec = []\n",
    "pres = []\n",
    "attrs = [\"TEMP\", \"WDSP\", \"PRCP\", \"STP\"]\n",
    "\n",
    "years = [2017, 2018, 2019]\n",
    "stations = {}\n",
    "\n",
    "for y in years:\n",
    "    tar = tarfile.open(str(y) + \".tar.gz\")\n",
    "    stations[y] = []\n",
    "    for member in tar.getmembers():\n",
    "        f = tar.extractfile(member)\n",
    "        df = pd.read_csv(f)\n",
    "        f.close()\n",
    "        df.dropna(inplace=True)\n",
    "\n",
    "        if len(df) == 0:\n",
    "            continue\n",
    "        \n",
    "        station_name = df.NAME.iloc[0]\n",
    "\n",
    "        if ks_re.search(station_name) and len(df) >= n_signals and not (np.any(df[attrs].values == 999.9) or np.any(df[attrs].values == 99.99)):\n",
    "            stations[y].append(station_name)\n",
    "            dfs.append(df)\n",
    "            temp.append(df['TEMP'].values)\n",
    "            windsp.append(df['WDSP'].values)\n",
    "            prec.append(df['PRCP'].values)\n",
    "            pres.append(df['STP'].values)\n",
    "\n",
    "assert len(dfs) > 0, \"No data with specified criteria\"\n",
    "df = pd.concat(dfs)\n",
    "temps = np.array(temp)\n",
    "windsps = np.array(windsp)\n",
    "precs = np.array(prec)\n",
    "press = np.array(pres)"
   ]
  },
  {
   "cell_type": "code",
   "execution_count": 33,
   "metadata": {},
   "outputs": [
    {
     "data": {
      "text/plain": [
       "(19, 13, 12, 8)"
      ]
     },
     "execution_count": 33,
     "metadata": {},
     "output_type": "execute_result"
    }
   ],
   "source": [
    "len(set(stations[2017]).intersection(stations[2018])), len(set(stations[2017]).intersection(stations[2019])), len(set(stations[2018]).intersection(stations[2019])), len(set(stations[2017]).intersection(stations[2018]).intersection(stations[2019]))"
   ]
  },
  {
   "cell_type": "code",
   "execution_count": 34,
   "metadata": {},
   "outputs": [],
   "source": [
    "stations_1718 = list(set(stations[2017]).intersection(stations[2018]))"
   ]
  },
  {
   "cell_type": "code",
   "execution_count": 35,
   "metadata": {},
   "outputs": [],
   "source": [
    "df1718 = df[df['NAME'].isin(stations_1718)]\n",
    "df1718['DATE'] = pd.to_datetime(df1718['DATE'])\n",
    "df1718 = df1718[(df1718['DATE'].dt.year == 2017) | (df1718['DATE'].dt.year == 2018)]"
   ]
  },
  {
   "cell_type": "code",
   "execution_count": 36,
   "metadata": {},
   "outputs": [],
   "source": [
    "temp = []\n",
    "windsp = []\n",
    "prec = []\n",
    "pres = []\n",
    "\n",
    "for st in stations_1718:\n",
    "    df_st = df1718[df1718['NAME'] == st].copy()\n",
    "    df_st.sort_values('DATE', inplace=True)\n",
    "    temp.append(df_st['TEMP'].values)\n",
    "    windsp.append(df_st['WDSP'].values)\n",
    "    prec.append(df_st['PRCP'].values)\n",
    "    pres.append(df_st['STP'].values)\n",
    "\n",
    "temps = np.array(temp)\n",
    "windsps = np.array(windsp)\n",
    "precs = np.array(prec)\n",
    "press = np.array(pres)"
   ]
  },
  {
   "cell_type": "code",
   "execution_count": 37,
   "metadata": {},
   "outputs": [
    {
     "data": {
      "text/plain": [
       "((19, 730), (19, 730), (19, 730), (19, 730))"
      ]
     },
     "execution_count": 37,
     "metadata": {},
     "output_type": "execute_result"
    }
   ],
   "source": [
    "temps.shape, windsps.shape, precs.shape, press.shape"
   ]
  },
  {
   "cell_type": "code",
   "execution_count": 38,
   "metadata": {},
   "outputs": [],
   "source": [
    "# # Constants\n",
    "# Limit temperature in Fº\n",
    "MAX_TEMP = 140\n",
    "MIN_TEMP = -30\n",
    "assert np.all(temps <= MAX_TEMP) and np.all(temps >= MIN_TEMP)"
   ]
  },
  {
   "cell_type": "code",
   "execution_count": 45,
   "metadata": {},
   "outputs": [
    {
     "data": {
      "text/plain": [
       "19"
      ]
     },
     "execution_count": 45,
     "metadata": {},
     "output_type": "execute_result"
    }
   ],
   "source": [
    "stations = df1718.drop_duplicates('NAME').sort_values('NAME')\n",
    "N = len(stations)\n",
    "N"
   ]
  },
  {
   "cell_type": "code",
   "execution_count": 52,
   "metadata": {},
   "outputs": [
    {
     "data": {
      "text/plain": [
       "(0             CONCORD BUCHANAN FIELD, CA US\n",
       " 0        FULLERTON MUNICIPAL AIRPORT, CA US\n",
       " 0        HAWTHORNE MUNICIPAL AIRPORT, CA US\n",
       " 0               HAYWARD AIR TERMINAL, CA US\n",
       " 0                          LANCASTER, CA US\n",
       " 0               OAKLAND METROPOLITAN, CA US\n",
       " 0                   PALMDALE AIRPORT, CA US\n",
       " 0                     RAMONA AIRPORT, CA US\n",
       " 0        RIVERSIDE MUNICIPAL AIRPORT, CA US\n",
       " 0            SACRAMENTO AIRPORT ASOS, CA US\n",
       " 0    SACRAMENTO METROPOLITAN AIRPORT, CA US\n",
       " 0    SAN DIEGO INTERNATIONAL AIRPORT, CA US\n",
       " 0     SAN JOSE INTERNATIONAL AIRPORT, CA US\n",
       " 0    SAN LUIS OBISPO MCCHESNEY FIELD, CA US\n",
       " 0                           SANDBERG, CA US\n",
       " 0    SANTA BARBARA MUNICIPAL AIRPORT, CA US\n",
       " 0         SANTA MARIA PUBLIC AIRPORT, CA US\n",
       " 0     SANTA MONICA MUNICIPAL AIRPORT, CA US\n",
       " 0           SOUTH LAKE TAHOE AIRPORT, CA US\n",
       " Name: NAME, dtype: object,\n",
       " ['CONCORD BUCHANAN FIELD, CA US',\n",
       "  'FULLERTON MUNICIPAL AIRPORT, CA US',\n",
       "  'HAWTHORNE MUNICIPAL AIRPORT, CA US',\n",
       "  'HAYWARD AIR TERMINAL, CA US',\n",
       "  'LANCASTER, CA US',\n",
       "  'OAKLAND METROPOLITAN, CA US',\n",
       "  'PALMDALE AIRPORT, CA US',\n",
       "  'RAMONA AIRPORT, CA US',\n",
       "  'RIVERSIDE MUNICIPAL AIRPORT, CA US',\n",
       "  'SACRAMENTO AIRPORT ASOS, CA US',\n",
       "  'SACRAMENTO METROPOLITAN AIRPORT, CA US',\n",
       "  'SAN DIEGO INTERNATIONAL AIRPORT, CA US',\n",
       "  'SAN JOSE INTERNATIONAL AIRPORT, CA US',\n",
       "  'SAN LUIS OBISPO MCCHESNEY FIELD, CA US',\n",
       "  'SANDBERG, CA US',\n",
       "  'SANTA BARBARA MUNICIPAL AIRPORT, CA US',\n",
       "  'SANTA MARIA PUBLIC AIRPORT, CA US',\n",
       "  'SANTA MONICA MUNICIPAL AIRPORT, CA US',\n",
       "  'SOUTH LAKE TAHOE AIRPORT, CA US'])"
      ]
     },
     "execution_count": 52,
     "metadata": {},
     "output_type": "execute_result"
    }
   ],
   "source": [
    "stations.sort_values('NAME')['NAME'], sorted(stations_1718)"
   ]
  },
  {
   "cell_type": "code",
   "execution_count": 46,
   "metadata": {},
   "outputs": [],
   "source": [
    "# Read stations coordinates and convert to radians\n",
    "Coords = np.zeros((N, 2))\n",
    "Coords[:, 0] = stations.LONGITUDE.to_numpy()*np.pi/180\n",
    "Coords[:, 1] = stations.LATITUDE.to_numpy()*np.pi/180\n",
    "\n",
    "# Earth radius in km\n",
    "R_EARTH = 6371\n",
    "# Coordinates in km\n",
    "Coords_km = np.zeros((N, 2))\n",
    "Coords_km[:, 0] = R_EARTH*Coords[:, 0]*np.cos(Coords[:, 1])\n",
    "Coords_km[:, 1] = R_EARTH*Coords[:, 1]"
   ]
  },
  {
   "cell_type": "code",
   "execution_count": 47,
   "metadata": {},
   "outputs": [],
   "source": [
    "# For geodesic distance in km\n",
    "D = np.zeros((N, N))\n",
    "for i in range(N):\n",
    "    for j in range(i+1, N):\n",
    "        D[i, j] = np.linalg.norm(Coords_km[i, :] - Coords_km[j, :])\n",
    "D = D + D.T"
   ]
  },
  {
   "cell_type": "code",
   "execution_count": 48,
   "metadata": {},
   "outputs": [],
   "source": [
    "P = np.exp(-D/np.sum(D)*N**2)\n",
    "P_n = np.sum(P, axis=0)\n",
    "np.fill_diagonal(D, np.inf)\n",
    "\n",
    "idx = D.argsort()[:, :knn]\n",
    "A = np.zeros(D.shape)\n",
    "for i in range(N):\n",
    "    A[i, idx[i, :]] = P[i, idx[i, :]]/P_n[idx[i, :]]\n",
    "    if not dir_graph:\n",
    "        A[idx[i, :], i] = A[i, idx[i, :]]"
   ]
  },
  {
   "cell_type": "code",
   "execution_count": 49,
   "metadata": {},
   "outputs": [
    {
     "name": "stdout",
     "output_type": "stream",
     "text": [
      "Zeros: 243\n",
      "Non Zeros: 118\n",
      "Mean degree of A: 6.2105263157894735\n"
     ]
    }
   ],
   "source": [
    "A_bin = np.zeros(A.shape)\n",
    "A_bin[A != 0] = 1\n",
    "print('Zeros:', np.sum(A == 0))\n",
    "print('Non Zeros:', np.sum(A != 0))\n",
    "print('Mean degree of A:', np.mean(np.sum(A_bin, axis=0)))"
   ]
  },
  {
   "cell_type": "code",
   "execution_count": 50,
   "metadata": {},
   "outputs": [
    {
     "name": "stdout",
     "output_type": "stream",
     "text": [
      "File saved as  temperatures2017-19_knn5_N53_N19\n"
     ]
    }
   ],
   "source": [
    "file_name += '_N' + str(N)\n",
    "np.savez(file_name, A=A, temps=temps, precs=precs, windsps=windsps, press=press, Coords=Coords,\n",
    "         Coords_km=Coords_km, A_bin=A_bin, D=D)\n",
    "print('File saved as ', file_name)"
   ]
  },
  {
   "cell_type": "code",
   "execution_count": null,
   "metadata": {},
   "outputs": [],
   "source": []
  }
 ],
 "metadata": {
  "kernelspec": {
   "display_name": "Python 3.8.10 64-bit",
   "language": "python",
   "name": "python3"
  },
  "language_info": {
   "codemirror_mode": {
    "name": "ipython",
    "version": 3
   },
   "file_extension": ".py",
   "mimetype": "text/x-python",
   "name": "python",
   "nbconvert_exporter": "python",
   "pygments_lexer": "ipython3",
   "version": "3.8.10"
  },
  "orig_nbformat": 4,
  "vscode": {
   "interpreter": {
    "hash": "916dbcbb3f70747c44a77c7bcd40155683ae19c65e1c03b4aa3499c5328201f1"
   }
  }
 },
 "nbformat": 4,
 "nbformat_minor": 2
}
